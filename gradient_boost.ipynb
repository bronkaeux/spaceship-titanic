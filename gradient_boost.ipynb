{
 "cells": [
  {
   "cell_type": "code",
   "execution_count": 1,
   "id": "f6646de5",
   "metadata": {
    "ExecuteTime": {
     "end_time": "2024-04-01T07:21:45.510245Z",
     "start_time": "2024-04-01T07:21:40.322115Z"
    }
   },
   "outputs": [],
   "source": [
    "import numpy as np\n",
    "import pandas as pd\n",
    "import matplotlib.pyplot as plt\n",
    "import seaborn as sns"
   ]
  },
  {
   "cell_type": "code",
   "execution_count": 2,
   "id": "11b30706",
   "metadata": {
    "ExecuteTime": {
     "end_time": "2024-04-01T07:21:45.572099Z",
     "start_time": "2024-04-01T07:21:45.516250Z"
    }
   },
   "outputs": [],
   "source": [
    "df = pd.read_csv('cleaned_df.csv')"
   ]
  },
  {
   "cell_type": "code",
   "execution_count": 3,
   "id": "2afbb6c5",
   "metadata": {
    "ExecuteTime": {
     "end_time": "2024-04-01T07:21:45.649780Z",
     "start_time": "2024-04-01T07:21:45.574102Z"
    }
   },
   "outputs": [
    {
     "data": {
      "text/html": [
       "<div>\n",
       "<style scoped>\n",
       "    .dataframe tbody tr th:only-of-type {\n",
       "        vertical-align: middle;\n",
       "    }\n",
       "\n",
       "    .dataframe tbody tr th {\n",
       "        vertical-align: top;\n",
       "    }\n",
       "\n",
       "    .dataframe thead th {\n",
       "        text-align: right;\n",
       "    }\n",
       "</style>\n",
       "<table border=\"1\" class=\"dataframe\">\n",
       "  <thead>\n",
       "    <tr style=\"text-align: right;\">\n",
       "      <th></th>\n",
       "      <th>count</th>\n",
       "      <th>unique</th>\n",
       "      <th>top</th>\n",
       "      <th>freq</th>\n",
       "      <th>mean</th>\n",
       "      <th>std</th>\n",
       "      <th>min</th>\n",
       "      <th>25%</th>\n",
       "      <th>50%</th>\n",
       "      <th>75%</th>\n",
       "      <th>max</th>\n",
       "    </tr>\n",
       "  </thead>\n",
       "  <tbody>\n",
       "    <tr>\n",
       "      <th>CryoSleep</th>\n",
       "      <td>12970</td>\n",
       "      <td>3</td>\n",
       "      <td>False</td>\n",
       "      <td>8079</td>\n",
       "      <td>NaN</td>\n",
       "      <td>NaN</td>\n",
       "      <td>NaN</td>\n",
       "      <td>NaN</td>\n",
       "      <td>NaN</td>\n",
       "      <td>NaN</td>\n",
       "      <td>NaN</td>\n",
       "    </tr>\n",
       "    <tr>\n",
       "      <th>Destination</th>\n",
       "      <td>12970</td>\n",
       "      <td>4</td>\n",
       "      <td>TRAPPIST-1e</td>\n",
       "      <td>9142</td>\n",
       "      <td>NaN</td>\n",
       "      <td>NaN</td>\n",
       "      <td>NaN</td>\n",
       "      <td>NaN</td>\n",
       "      <td>NaN</td>\n",
       "      <td>NaN</td>\n",
       "      <td>NaN</td>\n",
       "    </tr>\n",
       "    <tr>\n",
       "      <th>Age</th>\n",
       "      <td>12970.0</td>\n",
       "      <td>NaN</td>\n",
       "      <td>NaN</td>\n",
       "      <td>NaN</td>\n",
       "      <td>28.771969</td>\n",
       "      <td>14.23671</td>\n",
       "      <td>0.0</td>\n",
       "      <td>20.0</td>\n",
       "      <td>27.0</td>\n",
       "      <td>37.0</td>\n",
       "      <td>79.0</td>\n",
       "    </tr>\n",
       "    <tr>\n",
       "      <th>VIP</th>\n",
       "      <td>12970</td>\n",
       "      <td>3</td>\n",
       "      <td>False</td>\n",
       "      <td>12401</td>\n",
       "      <td>NaN</td>\n",
       "      <td>NaN</td>\n",
       "      <td>NaN</td>\n",
       "      <td>NaN</td>\n",
       "      <td>NaN</td>\n",
       "      <td>NaN</td>\n",
       "      <td>NaN</td>\n",
       "    </tr>\n",
       "    <tr>\n",
       "      <th>RoomService</th>\n",
       "      <td>12970.0</td>\n",
       "      <td>NaN</td>\n",
       "      <td>NaN</td>\n",
       "      <td>NaN</td>\n",
       "      <td>218.378026</td>\n",
       "      <td>641.766201</td>\n",
       "      <td>0.0</td>\n",
       "      <td>0.0</td>\n",
       "      <td>0.0</td>\n",
       "      <td>42.75</td>\n",
       "      <td>14327.0</td>\n",
       "    </tr>\n",
       "    <tr>\n",
       "      <th>FoodCourt</th>\n",
       "      <td>12970.0</td>\n",
       "      <td>NaN</td>\n",
       "      <td>NaN</td>\n",
       "      <td>NaN</td>\n",
       "      <td>441.890979</td>\n",
       "      <td>1568.038076</td>\n",
       "      <td>0.0</td>\n",
       "      <td>0.0</td>\n",
       "      <td>0.0</td>\n",
       "      <td>62.75</td>\n",
       "      <td>29813.0</td>\n",
       "    </tr>\n",
       "    <tr>\n",
       "      <th>ShoppingMall</th>\n",
       "      <td>12970.0</td>\n",
       "      <td>NaN</td>\n",
       "      <td>NaN</td>\n",
       "      <td>NaN</td>\n",
       "      <td>170.779491</td>\n",
       "      <td>584.15363</td>\n",
       "      <td>0.0</td>\n",
       "      <td>0.0</td>\n",
       "      <td>0.0</td>\n",
       "      <td>23.0</td>\n",
       "      <td>23492.0</td>\n",
       "    </tr>\n",
       "    <tr>\n",
       "      <th>Spa</th>\n",
       "      <td>12970.0</td>\n",
       "      <td>NaN</td>\n",
       "      <td>NaN</td>\n",
       "      <td>NaN</td>\n",
       "      <td>301.722282</td>\n",
       "      <td>1118.746785</td>\n",
       "      <td>0.0</td>\n",
       "      <td>0.0</td>\n",
       "      <td>0.0</td>\n",
       "      <td>50.0</td>\n",
       "      <td>22408.0</td>\n",
       "    </tr>\n",
       "    <tr>\n",
       "      <th>VRDeck</th>\n",
       "      <td>12970.0</td>\n",
       "      <td>NaN</td>\n",
       "      <td>NaN</td>\n",
       "      <td>NaN</td>\n",
       "      <td>300.45027</td>\n",
       "      <td>1168.655639</td>\n",
       "      <td>0.0</td>\n",
       "      <td>0.0</td>\n",
       "      <td>0.0</td>\n",
       "      <td>36.0</td>\n",
       "      <td>24133.0</td>\n",
       "    </tr>\n",
       "    <tr>\n",
       "      <th>Transported</th>\n",
       "      <td>8693.0</td>\n",
       "      <td>NaN</td>\n",
       "      <td>NaN</td>\n",
       "      <td>NaN</td>\n",
       "      <td>0.503624</td>\n",
       "      <td>0.500016</td>\n",
       "      <td>0.0</td>\n",
       "      <td>0.0</td>\n",
       "      <td>1.0</td>\n",
       "      <td>1.0</td>\n",
       "      <td>1.0</td>\n",
       "    </tr>\n",
       "    <tr>\n",
       "      <th>Deck</th>\n",
       "      <td>12970</td>\n",
       "      <td>9</td>\n",
       "      <td>F</td>\n",
       "      <td>4239</td>\n",
       "      <td>NaN</td>\n",
       "      <td>NaN</td>\n",
       "      <td>NaN</td>\n",
       "      <td>NaN</td>\n",
       "      <td>NaN</td>\n",
       "      <td>NaN</td>\n",
       "      <td>NaN</td>\n",
       "    </tr>\n",
       "    <tr>\n",
       "      <th>Side</th>\n",
       "      <td>12970</td>\n",
       "      <td>3</td>\n",
       "      <td>S</td>\n",
       "      <td>6381</td>\n",
       "      <td>NaN</td>\n",
       "      <td>NaN</td>\n",
       "      <td>NaN</td>\n",
       "      <td>NaN</td>\n",
       "      <td>NaN</td>\n",
       "      <td>NaN</td>\n",
       "      <td>NaN</td>\n",
       "    </tr>\n",
       "    <tr>\n",
       "      <th>HomePlanet</th>\n",
       "      <td>12970</td>\n",
       "      <td>4</td>\n",
       "      <td>Earth</td>\n",
       "      <td>7041</td>\n",
       "      <td>NaN</td>\n",
       "      <td>NaN</td>\n",
       "      <td>NaN</td>\n",
       "      <td>NaN</td>\n",
       "      <td>NaN</td>\n",
       "      <td>NaN</td>\n",
       "      <td>NaN</td>\n",
       "    </tr>\n",
       "  </tbody>\n",
       "</table>\n",
       "</div>"
      ],
      "text/plain": [
       "                count unique          top   freq        mean          std  \\\n",
       "CryoSleep       12970      3        False   8079         NaN          NaN   \n",
       "Destination     12970      4  TRAPPIST-1e   9142         NaN          NaN   \n",
       "Age           12970.0    NaN          NaN    NaN   28.771969     14.23671   \n",
       "VIP             12970      3        False  12401         NaN          NaN   \n",
       "RoomService   12970.0    NaN          NaN    NaN  218.378026   641.766201   \n",
       "FoodCourt     12970.0    NaN          NaN    NaN  441.890979  1568.038076   \n",
       "ShoppingMall  12970.0    NaN          NaN    NaN  170.779491    584.15363   \n",
       "Spa           12970.0    NaN          NaN    NaN  301.722282  1118.746785   \n",
       "VRDeck        12970.0    NaN          NaN    NaN   300.45027  1168.655639   \n",
       "Transported    8693.0    NaN          NaN    NaN    0.503624     0.500016   \n",
       "Deck            12970      9            F   4239         NaN          NaN   \n",
       "Side            12970      3            S   6381         NaN          NaN   \n",
       "HomePlanet      12970      4        Earth   7041         NaN          NaN   \n",
       "\n",
       "              min   25%   50%    75%      max  \n",
       "CryoSleep     NaN   NaN   NaN    NaN      NaN  \n",
       "Destination   NaN   NaN   NaN    NaN      NaN  \n",
       "Age           0.0  20.0  27.0   37.0     79.0  \n",
       "VIP           NaN   NaN   NaN    NaN      NaN  \n",
       "RoomService   0.0   0.0   0.0  42.75  14327.0  \n",
       "FoodCourt     0.0   0.0   0.0  62.75  29813.0  \n",
       "ShoppingMall  0.0   0.0   0.0   23.0  23492.0  \n",
       "Spa           0.0   0.0   0.0   50.0  22408.0  \n",
       "VRDeck        0.0   0.0   0.0   36.0  24133.0  \n",
       "Transported   0.0   0.0   1.0    1.0      1.0  \n",
       "Deck          NaN   NaN   NaN    NaN      NaN  \n",
       "Side          NaN   NaN   NaN    NaN      NaN  \n",
       "HomePlanet    NaN   NaN   NaN    NaN      NaN  "
      ]
     },
     "execution_count": 3,
     "metadata": {},
     "output_type": "execute_result"
    }
   ],
   "source": [
    "df.describe(include='all').transpose()"
   ]
  },
  {
   "cell_type": "code",
   "execution_count": 4,
   "id": "8b526cb1",
   "metadata": {
    "ExecuteTime": {
     "end_time": "2024-04-01T07:21:45.696229Z",
     "start_time": "2024-04-01T07:21:45.653788Z"
    }
   },
   "outputs": [
    {
     "name": "stdout",
     "output_type": "stream",
     "text": [
      "<class 'pandas.core.frame.DataFrame'>\n",
      "RangeIndex: 12970 entries, 0 to 12969\n",
      "Data columns (total 13 columns):\n",
      " #   Column        Non-Null Count  Dtype  \n",
      "---  ------        --------------  -----  \n",
      " 0   CryoSleep     12970 non-null  object \n",
      " 1   Destination   12970 non-null  object \n",
      " 2   Age           12970 non-null  float64\n",
      " 3   VIP           12970 non-null  object \n",
      " 4   RoomService   12970 non-null  float64\n",
      " 5   FoodCourt     12970 non-null  float64\n",
      " 6   ShoppingMall  12970 non-null  float64\n",
      " 7   Spa           12970 non-null  float64\n",
      " 8   VRDeck        12970 non-null  float64\n",
      " 9   Transported   8693 non-null   float64\n",
      " 10  Deck          12970 non-null  object \n",
      " 11  Side          12970 non-null  object \n",
      " 12  HomePlanet    12970 non-null  object \n",
      "dtypes: float64(7), object(6)\n",
      "memory usage: 1.3+ MB\n"
     ]
    }
   ],
   "source": [
    "df.info()"
   ]
  },
  {
   "cell_type": "code",
   "execution_count": 5,
   "id": "c324c76f",
   "metadata": {
    "ExecuteTime": {
     "end_time": "2024-04-01T07:21:45.727817Z",
     "start_time": "2024-04-01T07:21:45.699772Z"
    }
   },
   "outputs": [],
   "source": [
    "df = pd.get_dummies(df, drop_first=True)"
   ]
  },
  {
   "cell_type": "code",
   "execution_count": 6,
   "id": "dad0f713",
   "metadata": {
    "ExecuteTime": {
     "end_time": "2024-04-01T07:21:45.743245Z",
     "start_time": "2024-04-01T07:21:45.733772Z"
    }
   },
   "outputs": [],
   "source": [
    "# Data to be predicted\n",
    "desired_col = df[df['Transported'].isnull()]\n",
    "desired_col = desired_col.drop(['Transported'], axis = 1)"
   ]
  },
  {
   "cell_type": "code",
   "execution_count": 7,
   "id": "61b741f4",
   "metadata": {
    "ExecuteTime": {
     "end_time": "2024-04-01T07:21:45.789748Z",
     "start_time": "2024-04-01T07:21:45.745266Z"
    }
   },
   "outputs": [
    {
     "data": {
      "text/html": [
       "<div>\n",
       "<style scoped>\n",
       "    .dataframe tbody tr th:only-of-type {\n",
       "        vertical-align: middle;\n",
       "    }\n",
       "\n",
       "    .dataframe tbody tr th {\n",
       "        vertical-align: top;\n",
       "    }\n",
       "\n",
       "    .dataframe thead th {\n",
       "        text-align: right;\n",
       "    }\n",
       "</style>\n",
       "<table border=\"1\" class=\"dataframe\">\n",
       "  <thead>\n",
       "    <tr style=\"text-align: right;\">\n",
       "      <th></th>\n",
       "      <th>Age</th>\n",
       "      <th>RoomService</th>\n",
       "      <th>FoodCourt</th>\n",
       "      <th>ShoppingMall</th>\n",
       "      <th>Spa</th>\n",
       "      <th>VRDeck</th>\n",
       "      <th>CryoSleep_None</th>\n",
       "      <th>CryoSleep_True</th>\n",
       "      <th>Destination_None</th>\n",
       "      <th>Destination_PSO J318.5-22</th>\n",
       "      <th>...</th>\n",
       "      <th>Deck_E</th>\n",
       "      <th>Deck_F</th>\n",
       "      <th>Deck_G</th>\n",
       "      <th>Deck_None</th>\n",
       "      <th>Deck_T</th>\n",
       "      <th>Side_P</th>\n",
       "      <th>Side_S</th>\n",
       "      <th>HomePlanet_Europa</th>\n",
       "      <th>HomePlanet_Mars</th>\n",
       "      <th>HomePlanet_None</th>\n",
       "    </tr>\n",
       "  </thead>\n",
       "  <tbody>\n",
       "    <tr>\n",
       "      <th>8693</th>\n",
       "      <td>27.0</td>\n",
       "      <td>0.0</td>\n",
       "      <td>0.0</td>\n",
       "      <td>0.0</td>\n",
       "      <td>0.0</td>\n",
       "      <td>0.0</td>\n",
       "      <td>0</td>\n",
       "      <td>1</td>\n",
       "      <td>0</td>\n",
       "      <td>0</td>\n",
       "      <td>...</td>\n",
       "      <td>0</td>\n",
       "      <td>0</td>\n",
       "      <td>1</td>\n",
       "      <td>0</td>\n",
       "      <td>0</td>\n",
       "      <td>0</td>\n",
       "      <td>1</td>\n",
       "      <td>0</td>\n",
       "      <td>0</td>\n",
       "      <td>0</td>\n",
       "    </tr>\n",
       "    <tr>\n",
       "      <th>8694</th>\n",
       "      <td>19.0</td>\n",
       "      <td>0.0</td>\n",
       "      <td>9.0</td>\n",
       "      <td>0.0</td>\n",
       "      <td>2823.0</td>\n",
       "      <td>0.0</td>\n",
       "      <td>0</td>\n",
       "      <td>0</td>\n",
       "      <td>0</td>\n",
       "      <td>0</td>\n",
       "      <td>...</td>\n",
       "      <td>0</td>\n",
       "      <td>1</td>\n",
       "      <td>0</td>\n",
       "      <td>0</td>\n",
       "      <td>0</td>\n",
       "      <td>0</td>\n",
       "      <td>1</td>\n",
       "      <td>0</td>\n",
       "      <td>0</td>\n",
       "      <td>0</td>\n",
       "    </tr>\n",
       "    <tr>\n",
       "      <th>8695</th>\n",
       "      <td>31.0</td>\n",
       "      <td>0.0</td>\n",
       "      <td>0.0</td>\n",
       "      <td>0.0</td>\n",
       "      <td>0.0</td>\n",
       "      <td>0.0</td>\n",
       "      <td>0</td>\n",
       "      <td>1</td>\n",
       "      <td>0</td>\n",
       "      <td>0</td>\n",
       "      <td>...</td>\n",
       "      <td>0</td>\n",
       "      <td>0</td>\n",
       "      <td>0</td>\n",
       "      <td>0</td>\n",
       "      <td>0</td>\n",
       "      <td>0</td>\n",
       "      <td>1</td>\n",
       "      <td>1</td>\n",
       "      <td>0</td>\n",
       "      <td>0</td>\n",
       "    </tr>\n",
       "    <tr>\n",
       "      <th>8696</th>\n",
       "      <td>38.0</td>\n",
       "      <td>0.0</td>\n",
       "      <td>6652.0</td>\n",
       "      <td>0.0</td>\n",
       "      <td>181.0</td>\n",
       "      <td>585.0</td>\n",
       "      <td>0</td>\n",
       "      <td>0</td>\n",
       "      <td>0</td>\n",
       "      <td>0</td>\n",
       "      <td>...</td>\n",
       "      <td>0</td>\n",
       "      <td>0</td>\n",
       "      <td>0</td>\n",
       "      <td>0</td>\n",
       "      <td>0</td>\n",
       "      <td>0</td>\n",
       "      <td>1</td>\n",
       "      <td>1</td>\n",
       "      <td>0</td>\n",
       "      <td>0</td>\n",
       "    </tr>\n",
       "    <tr>\n",
       "      <th>8697</th>\n",
       "      <td>20.0</td>\n",
       "      <td>10.0</td>\n",
       "      <td>0.0</td>\n",
       "      <td>635.0</td>\n",
       "      <td>0.0</td>\n",
       "      <td>0.0</td>\n",
       "      <td>0</td>\n",
       "      <td>0</td>\n",
       "      <td>0</td>\n",
       "      <td>0</td>\n",
       "      <td>...</td>\n",
       "      <td>0</td>\n",
       "      <td>1</td>\n",
       "      <td>0</td>\n",
       "      <td>0</td>\n",
       "      <td>0</td>\n",
       "      <td>0</td>\n",
       "      <td>1</td>\n",
       "      <td>0</td>\n",
       "      <td>0</td>\n",
       "      <td>0</td>\n",
       "    </tr>\n",
       "  </tbody>\n",
       "</table>\n",
       "<p>5 rows × 26 columns</p>\n",
       "</div>"
      ],
      "text/plain": [
       "       Age  RoomService  FoodCourt  ShoppingMall     Spa  VRDeck  \\\n",
       "8693  27.0          0.0        0.0           0.0     0.0     0.0   \n",
       "8694  19.0          0.0        9.0           0.0  2823.0     0.0   \n",
       "8695  31.0          0.0        0.0           0.0     0.0     0.0   \n",
       "8696  38.0          0.0     6652.0           0.0   181.0   585.0   \n",
       "8697  20.0         10.0        0.0         635.0     0.0     0.0   \n",
       "\n",
       "      CryoSleep_None  CryoSleep_True  Destination_None  \\\n",
       "8693               0               1                 0   \n",
       "8694               0               0                 0   \n",
       "8695               0               1                 0   \n",
       "8696               0               0                 0   \n",
       "8697               0               0                 0   \n",
       "\n",
       "      Destination_PSO J318.5-22  ...  Deck_E  Deck_F  Deck_G  Deck_None  \\\n",
       "8693                          0  ...       0       0       1          0   \n",
       "8694                          0  ...       0       1       0          0   \n",
       "8695                          0  ...       0       0       0          0   \n",
       "8696                          0  ...       0       0       0          0   \n",
       "8697                          0  ...       0       1       0          0   \n",
       "\n",
       "      Deck_T  Side_P  Side_S  HomePlanet_Europa  HomePlanet_Mars  \\\n",
       "8693       0       0       1                  0                0   \n",
       "8694       0       0       1                  0                0   \n",
       "8695       0       0       1                  1                0   \n",
       "8696       0       0       1                  1                0   \n",
       "8697       0       0       1                  0                0   \n",
       "\n",
       "      HomePlanet_None  \n",
       "8693                0  \n",
       "8694                0  \n",
       "8695                0  \n",
       "8696                0  \n",
       "8697                0  \n",
       "\n",
       "[5 rows x 26 columns]"
      ]
     },
     "execution_count": 7,
     "metadata": {},
     "output_type": "execute_result"
    }
   ],
   "source": [
    "desired_col.head()"
   ]
  },
  {
   "cell_type": "code",
   "execution_count": 8,
   "id": "a4a19bcc",
   "metadata": {
    "ExecuteTime": {
     "end_time": "2024-04-01T07:21:45.821132Z",
     "start_time": "2024-04-01T07:21:45.792730Z"
    }
   },
   "outputs": [],
   "source": [
    "#Training data\n",
    "tr_data = df.copy()\n",
    "tr_data = tr_data.dropna()"
   ]
  },
  {
   "cell_type": "code",
   "execution_count": 9,
   "id": "6a1194d0",
   "metadata": {
    "ExecuteTime": {
     "end_time": "2024-04-01T07:21:45.867942Z",
     "start_time": "2024-04-01T07:21:45.825176Z"
    }
   },
   "outputs": [
    {
     "data": {
      "text/html": [
       "<div>\n",
       "<style scoped>\n",
       "    .dataframe tbody tr th:only-of-type {\n",
       "        vertical-align: middle;\n",
       "    }\n",
       "\n",
       "    .dataframe tbody tr th {\n",
       "        vertical-align: top;\n",
       "    }\n",
       "\n",
       "    .dataframe thead th {\n",
       "        text-align: right;\n",
       "    }\n",
       "</style>\n",
       "<table border=\"1\" class=\"dataframe\">\n",
       "  <thead>\n",
       "    <tr style=\"text-align: right;\">\n",
       "      <th></th>\n",
       "      <th>Age</th>\n",
       "      <th>RoomService</th>\n",
       "      <th>FoodCourt</th>\n",
       "      <th>ShoppingMall</th>\n",
       "      <th>Spa</th>\n",
       "      <th>VRDeck</th>\n",
       "      <th>Transported</th>\n",
       "      <th>CryoSleep_None</th>\n",
       "      <th>CryoSleep_True</th>\n",
       "      <th>Destination_None</th>\n",
       "      <th>...</th>\n",
       "      <th>Deck_E</th>\n",
       "      <th>Deck_F</th>\n",
       "      <th>Deck_G</th>\n",
       "      <th>Deck_None</th>\n",
       "      <th>Deck_T</th>\n",
       "      <th>Side_P</th>\n",
       "      <th>Side_S</th>\n",
       "      <th>HomePlanet_Europa</th>\n",
       "      <th>HomePlanet_Mars</th>\n",
       "      <th>HomePlanet_None</th>\n",
       "    </tr>\n",
       "  </thead>\n",
       "  <tbody>\n",
       "    <tr>\n",
       "      <th>0</th>\n",
       "      <td>39.0</td>\n",
       "      <td>0.0</td>\n",
       "      <td>0.0</td>\n",
       "      <td>0.0</td>\n",
       "      <td>0.0</td>\n",
       "      <td>0.0</td>\n",
       "      <td>0.0</td>\n",
       "      <td>0</td>\n",
       "      <td>0</td>\n",
       "      <td>0</td>\n",
       "      <td>...</td>\n",
       "      <td>0</td>\n",
       "      <td>0</td>\n",
       "      <td>0</td>\n",
       "      <td>0</td>\n",
       "      <td>0</td>\n",
       "      <td>1</td>\n",
       "      <td>0</td>\n",
       "      <td>1</td>\n",
       "      <td>0</td>\n",
       "      <td>0</td>\n",
       "    </tr>\n",
       "    <tr>\n",
       "      <th>1</th>\n",
       "      <td>24.0</td>\n",
       "      <td>109.0</td>\n",
       "      <td>9.0</td>\n",
       "      <td>25.0</td>\n",
       "      <td>549.0</td>\n",
       "      <td>44.0</td>\n",
       "      <td>1.0</td>\n",
       "      <td>0</td>\n",
       "      <td>0</td>\n",
       "      <td>0</td>\n",
       "      <td>...</td>\n",
       "      <td>0</td>\n",
       "      <td>1</td>\n",
       "      <td>0</td>\n",
       "      <td>0</td>\n",
       "      <td>0</td>\n",
       "      <td>0</td>\n",
       "      <td>1</td>\n",
       "      <td>0</td>\n",
       "      <td>0</td>\n",
       "      <td>0</td>\n",
       "    </tr>\n",
       "    <tr>\n",
       "      <th>2</th>\n",
       "      <td>58.0</td>\n",
       "      <td>43.0</td>\n",
       "      <td>3576.0</td>\n",
       "      <td>0.0</td>\n",
       "      <td>6715.0</td>\n",
       "      <td>49.0</td>\n",
       "      <td>0.0</td>\n",
       "      <td>0</td>\n",
       "      <td>0</td>\n",
       "      <td>0</td>\n",
       "      <td>...</td>\n",
       "      <td>0</td>\n",
       "      <td>0</td>\n",
       "      <td>0</td>\n",
       "      <td>0</td>\n",
       "      <td>0</td>\n",
       "      <td>0</td>\n",
       "      <td>1</td>\n",
       "      <td>1</td>\n",
       "      <td>0</td>\n",
       "      <td>0</td>\n",
       "    </tr>\n",
       "    <tr>\n",
       "      <th>3</th>\n",
       "      <td>33.0</td>\n",
       "      <td>0.0</td>\n",
       "      <td>1283.0</td>\n",
       "      <td>371.0</td>\n",
       "      <td>3329.0</td>\n",
       "      <td>193.0</td>\n",
       "      <td>0.0</td>\n",
       "      <td>0</td>\n",
       "      <td>0</td>\n",
       "      <td>0</td>\n",
       "      <td>...</td>\n",
       "      <td>0</td>\n",
       "      <td>0</td>\n",
       "      <td>0</td>\n",
       "      <td>0</td>\n",
       "      <td>0</td>\n",
       "      <td>0</td>\n",
       "      <td>1</td>\n",
       "      <td>1</td>\n",
       "      <td>0</td>\n",
       "      <td>0</td>\n",
       "    </tr>\n",
       "    <tr>\n",
       "      <th>4</th>\n",
       "      <td>16.0</td>\n",
       "      <td>303.0</td>\n",
       "      <td>70.0</td>\n",
       "      <td>151.0</td>\n",
       "      <td>565.0</td>\n",
       "      <td>2.0</td>\n",
       "      <td>1.0</td>\n",
       "      <td>0</td>\n",
       "      <td>0</td>\n",
       "      <td>0</td>\n",
       "      <td>...</td>\n",
       "      <td>0</td>\n",
       "      <td>1</td>\n",
       "      <td>0</td>\n",
       "      <td>0</td>\n",
       "      <td>0</td>\n",
       "      <td>0</td>\n",
       "      <td>1</td>\n",
       "      <td>0</td>\n",
       "      <td>0</td>\n",
       "      <td>0</td>\n",
       "    </tr>\n",
       "  </tbody>\n",
       "</table>\n",
       "<p>5 rows × 27 columns</p>\n",
       "</div>"
      ],
      "text/plain": [
       "    Age  RoomService  FoodCourt  ShoppingMall     Spa  VRDeck  Transported  \\\n",
       "0  39.0          0.0        0.0           0.0     0.0     0.0          0.0   \n",
       "1  24.0        109.0        9.0          25.0   549.0    44.0          1.0   \n",
       "2  58.0         43.0     3576.0           0.0  6715.0    49.0          0.0   \n",
       "3  33.0          0.0     1283.0         371.0  3329.0   193.0          0.0   \n",
       "4  16.0        303.0       70.0         151.0   565.0     2.0          1.0   \n",
       "\n",
       "   CryoSleep_None  CryoSleep_True  Destination_None  ...  Deck_E  Deck_F  \\\n",
       "0               0               0                 0  ...       0       0   \n",
       "1               0               0                 0  ...       0       1   \n",
       "2               0               0                 0  ...       0       0   \n",
       "3               0               0                 0  ...       0       0   \n",
       "4               0               0                 0  ...       0       1   \n",
       "\n",
       "   Deck_G  Deck_None  Deck_T  Side_P  Side_S  HomePlanet_Europa  \\\n",
       "0       0          0       0       1       0                  1   \n",
       "1       0          0       0       0       1                  0   \n",
       "2       0          0       0       0       1                  1   \n",
       "3       0          0       0       0       1                  1   \n",
       "4       0          0       0       0       1                  0   \n",
       "\n",
       "   HomePlanet_Mars  HomePlanet_None  \n",
       "0                0                0  \n",
       "1                0                0  \n",
       "2                0                0  \n",
       "3                0                0  \n",
       "4                0                0  \n",
       "\n",
       "[5 rows x 27 columns]"
      ]
     },
     "execution_count": 9,
     "metadata": {},
     "output_type": "execute_result"
    }
   ],
   "source": [
    "tr_data.head()"
   ]
  },
  {
   "cell_type": "code",
   "execution_count": 10,
   "id": "d57ab011",
   "metadata": {
    "ExecuteTime": {
     "end_time": "2024-04-01T07:21:45.883558Z",
     "start_time": "2024-04-01T07:21:45.872956Z"
    }
   },
   "outputs": [],
   "source": [
    "X = tr_data.drop('Transported', axis = 1)\n",
    "y = tr_data['Transported']"
   ]
  },
  {
   "cell_type": "code",
   "execution_count": 11,
   "id": "867f7df2",
   "metadata": {
    "ExecuteTime": {
     "end_time": "2024-04-01T07:21:45.898577Z",
     "start_time": "2024-04-01T07:21:45.886492Z"
    }
   },
   "outputs": [],
   "source": [
    "y = y.astype('int64')"
   ]
  },
  {
   "cell_type": "markdown",
   "id": "9e9d209c",
   "metadata": {},
   "source": [
    "## Gradient Boost classifier"
   ]
  },
  {
   "cell_type": "code",
   "execution_count": 12,
   "id": "5de03d88",
   "metadata": {
    "ExecuteTime": {
     "end_time": "2024-04-01T07:22:28.961185Z",
     "start_time": "2024-04-01T07:22:28.582590Z"
    }
   },
   "outputs": [],
   "source": [
    "from sklearn.model_selection import train_test_split"
   ]
  },
  {
   "cell_type": "code",
   "execution_count": 13,
   "id": "b5eb1a6f",
   "metadata": {
    "ExecuteTime": {
     "end_time": "2024-04-01T07:22:33.363808Z",
     "start_time": "2024-04-01T07:22:33.343787Z"
    }
   },
   "outputs": [],
   "source": [
    "X_train, X_test, y_train, y_test = train_test_split(X, y, test_size=0.15)"
   ]
  },
  {
   "cell_type": "code",
   "execution_count": 17,
   "id": "c875dd98",
   "metadata": {
    "ExecuteTime": {
     "end_time": "2024-04-01T07:23:23.380922Z",
     "start_time": "2024-04-01T07:23:23.049527Z"
    }
   },
   "outputs": [],
   "source": [
    "from sklearn.ensemble import GradientBoostingClassifier"
   ]
  },
  {
   "cell_type": "code",
   "execution_count": 41,
   "id": "0be7b18e",
   "metadata": {
    "ExecuteTime": {
     "end_time": "2024-04-01T07:30:33.797846Z",
     "start_time": "2024-04-01T07:30:33.785817Z"
    }
   },
   "outputs": [],
   "source": [
    "model = GradientBoostingClassifier(max_depth=3, n_estimators=125)"
   ]
  },
  {
   "cell_type": "code",
   "execution_count": 42,
   "id": "e68e3f93",
   "metadata": {
    "ExecuteTime": {
     "end_time": "2024-04-01T07:30:36.203426Z",
     "start_time": "2024-04-01T07:30:34.614963Z"
    }
   },
   "outputs": [
    {
     "data": {
      "text/plain": [
       "GradientBoostingClassifier(n_estimators=125)"
      ]
     },
     "execution_count": 42,
     "metadata": {},
     "output_type": "execute_result"
    }
   ],
   "source": [
    "model.fit(X_train,y_train)"
   ]
  },
  {
   "cell_type": "code",
   "execution_count": 43,
   "id": "e04cecba",
   "metadata": {
    "ExecuteTime": {
     "end_time": "2024-04-01T07:30:38.511504Z",
     "start_time": "2024-04-01T07:30:38.491499Z"
    }
   },
   "outputs": [],
   "source": [
    "preds = model.predict(X_test)"
   ]
  },
  {
   "cell_type": "code",
   "execution_count": 44,
   "id": "1a02cd5f",
   "metadata": {
    "ExecuteTime": {
     "end_time": "2024-04-01T07:30:38.916400Z",
     "start_time": "2024-04-01T07:30:38.897254Z"
    }
   },
   "outputs": [],
   "source": [
    "## Оценка работы модели\n",
    "\n",
    "from sklearn.metrics import confusion_matrix,classification_report,plot_confusion_matrix,accuracy_score"
   ]
  },
  {
   "cell_type": "code",
   "execution_count": 45,
   "id": "d1ef09ea",
   "metadata": {
    "ExecuteTime": {
     "end_time": "2024-04-01T07:30:39.741590Z",
     "start_time": "2024-04-01T07:30:39.722779Z"
    }
   },
   "outputs": [
    {
     "data": {
      "text/plain": [
       "array([[514, 157],\n",
       "       [ 99, 534]], dtype=int64)"
      ]
     },
     "execution_count": 45,
     "metadata": {},
     "output_type": "execute_result"
    }
   ],
   "source": [
    "confusion_matrix(y_test,preds)"
   ]
  },
  {
   "cell_type": "code",
   "execution_count": 46,
   "id": "977b6197",
   "metadata": {
    "ExecuteTime": {
     "end_time": "2024-04-01T07:30:40.364298Z",
     "start_time": "2024-04-01T07:30:40.145377Z"
    }
   },
   "outputs": [
    {
     "name": "stderr",
     "output_type": "stream",
     "text": [
      "C:\\Users\\79852\\anaconda3\\lib\\site-packages\\sklearn\\utils\\deprecation.py:87: FutureWarning: Function plot_confusion_matrix is deprecated; Function `plot_confusion_matrix` is deprecated in 1.0 and will be removed in 1.2. Use one of the class methods: ConfusionMatrixDisplay.from_predictions or ConfusionMatrixDisplay.from_estimator.\n",
      "  warnings.warn(msg, category=FutureWarning)\n"
     ]
    },
    {
     "data": {
      "text/plain": [
       "<sklearn.metrics._plot.confusion_matrix.ConfusionMatrixDisplay at 0x27ea2d03850>"
      ]
     },
     "execution_count": 46,
     "metadata": {},
     "output_type": "execute_result"
    },
    {
     "data": {
      "image/png": "[encoded data removed]",
      "text/plain": [
       "<Figure size 432x288 with 2 Axes>"
      ]
     },
     "metadata": {
      "needs_background": "light"
     },
     "output_type": "display_data"
    }
   ],
   "source": [
    "plot_confusion_matrix(model,X_test,y_test)"
   ]
  },
  {
   "cell_type": "code",
   "execution_count": 47,
   "id": "8c5cfeed",
   "metadata": {
    "ExecuteTime": {
     "end_time": "2024-04-01T07:30:40.816737Z",
     "start_time": "2024-04-01T07:30:40.787850Z"
    }
   },
   "outputs": [
    {
     "name": "stdout",
     "output_type": "stream",
     "text": [
      "              precision    recall  f1-score   support\n",
      "\n",
      "           0       0.84      0.77      0.80       671\n",
      "           1       0.77      0.84      0.81       633\n",
      "\n",
      "    accuracy                           0.80      1304\n",
      "   macro avg       0.81      0.80      0.80      1304\n",
      "weighted avg       0.81      0.80      0.80      1304\n",
      "\n"
     ]
    }
   ],
   "source": [
    "print(classification_report(y_test,preds))"
   ]
  },
  {
   "cell_type": "code",
   "execution_count": 48,
   "id": "a2c16b69",
   "metadata": {
    "ExecuteTime": {
     "end_time": "2024-04-01T07:30:46.493009Z",
     "start_time": "2024-04-01T07:30:46.473748Z"
    }
   },
   "outputs": [
    {
     "data": {
      "text/plain": [
       "array([3.49930012e-02, 9.41742311e-02, 7.69808881e-02, 3.55224192e-02,\n",
       "       1.15895890e-01, 1.11365500e-01, 3.94407122e-04, 3.86848401e-01,\n",
       "       3.50010812e-04, 1.34909561e-03, 4.20352597e-03, 1.30988968e-04,\n",
       "       0.00000000e+00, 5.08767945e-04, 5.95381574e-03, 0.00000000e+00,\n",
       "       1.81568428e-02, 5.70643485e-03, 5.50258932e-02, 1.21614383e-03,\n",
       "       0.00000000e+00, 2.45981731e-03, 1.47053581e-02, 2.49549503e-02,\n",
       "       8.93296585e-03, 1.70650091e-04])"
      ]
     },
     "execution_count": 48,
     "metadata": {},
     "output_type": "execute_result"
    }
   ],
   "source": [
    "model.feature_importances_"
   ]
  },
  {
   "cell_type": "code",
   "execution_count": 49,
   "id": "d002c7b8",
   "metadata": {
    "ExecuteTime": {
     "end_time": "2024-04-01T07:30:47.537713Z",
     "start_time": "2024-04-01T07:30:47.518187Z"
    }
   },
   "outputs": [
    {
     "data": {
      "text/html": [
       "<div>\n",
       "<style scoped>\n",
       "    .dataframe tbody tr th:only-of-type {\n",
       "        vertical-align: middle;\n",
       "    }\n",
       "\n",
       "    .dataframe tbody tr th {\n",
       "        vertical-align: top;\n",
       "    }\n",
       "\n",
       "    .dataframe thead th {\n",
       "        text-align: right;\n",
       "    }\n",
       "</style>\n",
       "<table border=\"1\" class=\"dataframe\">\n",
       "  <thead>\n",
       "    <tr style=\"text-align: right;\">\n",
       "      <th></th>\n",
       "      <th>Feature Importance</th>\n",
       "    </tr>\n",
       "  </thead>\n",
       "  <tbody>\n",
       "    <tr>\n",
       "      <th>CryoSleep_True</th>\n",
       "      <td>0.386848</td>\n",
       "    </tr>\n",
       "    <tr>\n",
       "      <th>Spa</th>\n",
       "      <td>0.115896</td>\n",
       "    </tr>\n",
       "    <tr>\n",
       "      <th>VRDeck</th>\n",
       "      <td>0.111366</td>\n",
       "    </tr>\n",
       "    <tr>\n",
       "      <th>RoomService</th>\n",
       "      <td>0.094174</td>\n",
       "    </tr>\n",
       "    <tr>\n",
       "      <th>FoodCourt</th>\n",
       "      <td>0.076981</td>\n",
       "    </tr>\n",
       "    <tr>\n",
       "      <th>Deck_G</th>\n",
       "      <td>0.055026</td>\n",
       "    </tr>\n",
       "    <tr>\n",
       "      <th>ShoppingMall</th>\n",
       "      <td>0.035522</td>\n",
       "    </tr>\n",
       "    <tr>\n",
       "      <th>Age</th>\n",
       "      <td>0.034993</td>\n",
       "    </tr>\n",
       "    <tr>\n",
       "      <th>HomePlanet_Europa</th>\n",
       "      <td>0.024955</td>\n",
       "    </tr>\n",
       "    <tr>\n",
       "      <th>Deck_E</th>\n",
       "      <td>0.018157</td>\n",
       "    </tr>\n",
       "    <tr>\n",
       "      <th>Side_S</th>\n",
       "      <td>0.014705</td>\n",
       "    </tr>\n",
       "    <tr>\n",
       "      <th>HomePlanet_Mars</th>\n",
       "      <td>0.008933</td>\n",
       "    </tr>\n",
       "    <tr>\n",
       "      <th>Deck_C</th>\n",
       "      <td>0.005954</td>\n",
       "    </tr>\n",
       "    <tr>\n",
       "      <th>Deck_F</th>\n",
       "      <td>0.005706</td>\n",
       "    </tr>\n",
       "    <tr>\n",
       "      <th>Destination_TRAPPIST-1e</th>\n",
       "      <td>0.004204</td>\n",
       "    </tr>\n",
       "    <tr>\n",
       "      <th>Side_P</th>\n",
       "      <td>0.002460</td>\n",
       "    </tr>\n",
       "    <tr>\n",
       "      <th>Destination_PSO J318.5-22</th>\n",
       "      <td>0.001349</td>\n",
       "    </tr>\n",
       "    <tr>\n",
       "      <th>Deck_None</th>\n",
       "      <td>0.001216</td>\n",
       "    </tr>\n",
       "    <tr>\n",
       "      <th>Deck_B</th>\n",
       "      <td>0.000509</td>\n",
       "    </tr>\n",
       "    <tr>\n",
       "      <th>CryoSleep_None</th>\n",
       "      <td>0.000394</td>\n",
       "    </tr>\n",
       "    <tr>\n",
       "      <th>Destination_None</th>\n",
       "      <td>0.000350</td>\n",
       "    </tr>\n",
       "    <tr>\n",
       "      <th>HomePlanet_None</th>\n",
       "      <td>0.000171</td>\n",
       "    </tr>\n",
       "    <tr>\n",
       "      <th>VIP_None</th>\n",
       "      <td>0.000131</td>\n",
       "    </tr>\n",
       "    <tr>\n",
       "      <th>Deck_D</th>\n",
       "      <td>0.000000</td>\n",
       "    </tr>\n",
       "    <tr>\n",
       "      <th>Deck_T</th>\n",
       "      <td>0.000000</td>\n",
       "    </tr>\n",
       "    <tr>\n",
       "      <th>VIP_True</th>\n",
       "      <td>0.000000</td>\n",
       "    </tr>\n",
       "  </tbody>\n",
       "</table>\n",
       "</div>"
      ],
      "text/plain": [
       "                           Feature Importance\n",
       "CryoSleep_True                       0.386848\n",
       "Spa                                  0.115896\n",
       "VRDeck                               0.111366\n",
       "RoomService                          0.094174\n",
       "FoodCourt                            0.076981\n",
       "Deck_G                               0.055026\n",
       "ShoppingMall                         0.035522\n",
       "Age                                  0.034993\n",
       "HomePlanet_Europa                    0.024955\n",
       "Deck_E                               0.018157\n",
       "Side_S                               0.014705\n",
       "HomePlanet_Mars                      0.008933\n",
       "Deck_C                               0.005954\n",
       "Deck_F                               0.005706\n",
       "Destination_TRAPPIST-1e              0.004204\n",
       "Side_P                               0.002460\n",
       "Destination_PSO J318.5-22            0.001349\n",
       "Deck_None                            0.001216\n",
       "Deck_B                               0.000509\n",
       "CryoSleep_None                       0.000394\n",
       "Destination_None                     0.000350\n",
       "HomePlanet_None                      0.000171\n",
       "VIP_None                             0.000131\n",
       "Deck_D                               0.000000\n",
       "Deck_T                               0.000000\n",
       "VIP_True                             0.000000"
      ]
     },
     "execution_count": 49,
     "metadata": {},
     "output_type": "execute_result"
    }
   ],
   "source": [
    "pd.DataFrame(index=X.columns,data=model.feature_importances_,columns=['Feature Importance'])\\\n",
    ".sort_values('Feature Importance', ascending=False)"
   ]
  },
  {
   "cell_type": "code",
   "execution_count": 51,
   "id": "fce6d458",
   "metadata": {
    "ExecuteTime": {
     "end_time": "2024-04-01T07:32:05.958159Z",
     "start_time": "2024-04-01T07:31:08.952020Z"
    }
   },
   "outputs": [],
   "source": [
    "error_rates = []\n",
    "\n",
    "for n in range(1,96):\n",
    "    \n",
    "    model = GradientBoostingClassifier(n_estimators=n)\n",
    "    model.fit(X_train,y_train)\n",
    "    preds = model.predict(X_test)\n",
    "    err = 1 - accuracy_score(y_test,preds)\n",
    "    \n",
    "    error_rates.append(err)"
   ]
  },
  {
   "cell_type": "code",
   "execution_count": 52,
   "id": "1020ce6c",
   "metadata": {
    "ExecuteTime": {
     "end_time": "2024-04-01T07:32:15.399075Z",
     "start_time": "2024-04-01T07:32:15.257890Z"
    }
   },
   "outputs": [
    {
     "data": {
      "text/plain": [
       "[<matplotlib.lines.Line2D at 0x27eba6d49d0>]"
      ]
     },
     "execution_count": 52,
     "metadata": {},
     "output_type": "execute_result"
    },
    {
     "data": {
      "image/png": "[encoded data removed]",
      "text/plain": [
       "<Figure size 432x288 with 1 Axes>"
      ]
     },
     "metadata": {
      "needs_background": "light"
     },
     "output_type": "display_data"
    }
   ],
   "source": [
    "plt.plot(range(1,96),error_rates)"
   ]
  },
  {
   "cell_type": "code",
   "execution_count": 53,
   "id": "0bf09b73",
   "metadata": {
    "ExecuteTime": {
     "end_time": "2024-04-01T07:32:32.217494Z",
     "start_time": "2024-04-01T07:32:32.197748Z"
    }
   },
   "outputs": [],
   "source": [
    "feats = pd.DataFrame(index=X.columns,data=model.feature_importances_,columns=['Importance'])"
   ]
  },
  {
   "cell_type": "code",
   "execution_count": 54,
   "id": "1bf12fee",
   "metadata": {
    "ExecuteTime": {
     "end_time": "2024-04-01T07:32:33.105308Z",
     "start_time": "2024-04-01T07:32:33.083510Z"
    }
   },
   "outputs": [],
   "source": [
    "imp_feats = feats[feats['Importance']>0]"
   ]
  },
  {
   "cell_type": "code",
   "execution_count": 55,
   "id": "b8af57dd",
   "metadata": {
    "ExecuteTime": {
     "end_time": "2024-04-01T07:32:33.758554Z",
     "start_time": "2024-04-01T07:32:33.750549Z"
    }
   },
   "outputs": [],
   "source": [
    "imp_feats = imp_feats.sort_values(\"Importance\")"
   ]
  },
  {
   "cell_type": "code",
   "execution_count": 56,
   "id": "1e002e3e",
   "metadata": {
    "ExecuteTime": {
     "end_time": "2024-04-01T07:32:34.989232Z",
     "start_time": "2024-04-01T07:32:34.267049Z"
    }
   },
   "outputs": [
    {
     "data": {
      "image/png": "[encoded data removed]",
      "text/plain": [
       "<Figure size 2800x1200 with 1 Axes>"
      ]
     },
     "metadata": {
      "needs_background": "light"
     },
     "output_type": "display_data"
    }
   ],
   "source": [
    "plt.figure(figsize=(14,6),dpi=200)\n",
    "sns.barplot(data=imp_feats.sort_values('Importance'),x=imp_feats.sort_values('Importance').index,y='Importance')\n",
    "\n",
    "plt.xticks(rotation=90);"
   ]
  },
  {
   "cell_type": "code",
   "execution_count": 14,
   "id": "b235a517",
   "metadata": {
    "ExecuteTime": {
     "end_time": "2024-04-01T07:22:46.072897Z",
     "start_time": "2024-04-01T07:22:46.053850Z"
    }
   },
   "outputs": [],
   "source": [
    "from sklearn.model_selection import GridSearchCV"
   ]
  },
  {
   "cell_type": "code",
   "execution_count": 32,
   "id": "a8ae3642",
   "metadata": {
    "ExecuteTime": {
     "end_time": "2024-04-01T07:29:00.749065Z",
     "start_time": "2024-04-01T07:29:00.738752Z"
    }
   },
   "outputs": [],
   "source": [
    "param_grid = {\"n_estimators\":[124,125,126],'max_depth':[3]}"
   ]
  },
  {
   "cell_type": "code",
   "execution_count": 33,
   "id": "6996aeee",
   "metadata": {
    "ExecuteTime": {
     "end_time": "2024-04-01T07:29:01.091533Z",
     "start_time": "2024-04-01T07:29:01.079932Z"
    }
   },
   "outputs": [],
   "source": [
    "model = GradientBoostingClassifier()"
   ]
  },
  {
   "cell_type": "code",
   "execution_count": 34,
   "id": "feb1e810",
   "metadata": {
    "ExecuteTime": {
     "end_time": "2024-04-01T07:29:01.480751Z",
     "start_time": "2024-04-01T07:29:01.462721Z"
    }
   },
   "outputs": [],
   "source": [
    "grid = GridSearchCV(model,param_grid)"
   ]
  },
  {
   "cell_type": "code",
   "execution_count": 35,
   "id": "9d1bcf19",
   "metadata": {
    "ExecuteTime": {
     "end_time": "2024-04-01T07:29:22.789139Z",
     "start_time": "2024-04-01T07:29:01.824858Z"
    }
   },
   "outputs": [
    {
     "data": {
      "text/plain": [
       "GridSearchCV(estimator=GradientBoostingClassifier(),\n",
       "             param_grid={'max_depth': [3], 'n_estimators': [124, 125, 126]})"
      ]
     },
     "execution_count": 35,
     "metadata": {},
     "output_type": "execute_result"
    }
   ],
   "source": [
    "grid.fit(X_train,y_train)"
   ]
  },
  {
   "cell_type": "code",
   "execution_count": 36,
   "id": "1def079f",
   "metadata": {
    "ExecuteTime": {
     "end_time": "2024-04-01T07:29:32.631135Z",
     "start_time": "2024-04-01T07:29:32.615074Z"
    }
   },
   "outputs": [
    {
     "data": {
      "text/plain": [
       "{'max_depth': 3, 'n_estimators': 125}"
      ]
     },
     "execution_count": 36,
     "metadata": {},
     "output_type": "execute_result"
    }
   ],
   "source": [
    "grid.best_params_"
   ]
  },
  {
   "cell_type": "code",
   "execution_count": 37,
   "id": "a96717b0",
   "metadata": {
    "ExecuteTime": {
     "end_time": "2024-04-01T07:29:39.417988Z",
     "start_time": "2024-04-01T07:29:39.396697Z"
    }
   },
   "outputs": [],
   "source": [
    "from sklearn.metrics import accuracy_score,confusion_matrix,classification_report,plot_confusion_matrix"
   ]
  },
  {
   "cell_type": "code",
   "execution_count": 38,
   "id": "e9d3dc98",
   "metadata": {
    "ExecuteTime": {
     "end_time": "2024-04-01T07:29:39.727821Z",
     "start_time": "2024-04-01T07:29:39.704423Z"
    }
   },
   "outputs": [],
   "source": [
    "y_pred = grid.predict(X_test)"
   ]
  },
  {
   "cell_type": "code",
   "execution_count": 39,
   "id": "db99c4f2",
   "metadata": {
    "ExecuteTime": {
     "end_time": "2024-04-01T07:29:40.440691Z",
     "start_time": "2024-04-01T07:29:40.207594Z"
    }
   },
   "outputs": [
    {
     "name": "stderr",
     "output_type": "stream",
     "text": [
      "C:\\Users\\79852\\anaconda3\\lib\\site-packages\\sklearn\\utils\\deprecation.py:87: FutureWarning: Function plot_confusion_matrix is deprecated; Function `plot_confusion_matrix` is deprecated in 1.0 and will be removed in 1.2. Use one of the class methods: ConfusionMatrixDisplay.from_predictions or ConfusionMatrixDisplay.from_estimator.\n",
      "  warnings.warn(msg, category=FutureWarning)\n"
     ]
    },
    {
     "data": {
      "image/png": "[encoded data removed]",
      "text/plain": [
       "<Figure size 432x288 with 2 Axes>"
      ]
     },
     "metadata": {
      "needs_background": "light"
     },
     "output_type": "display_data"
    }
   ],
   "source": [
    "plot_confusion_matrix(grid,X_test,y_test);"
   ]
  },
  {
   "cell_type": "code",
   "execution_count": 40,
   "id": "c9101dae",
   "metadata": {
    "ExecuteTime": {
     "end_time": "2024-04-01T07:29:40.908621Z",
     "start_time": "2024-04-01T07:29:40.886602Z"
    }
   },
   "outputs": [
    {
     "name": "stdout",
     "output_type": "stream",
     "text": [
      "              precision    recall  f1-score   support\n",
      "\n",
      "           0       0.84      0.77      0.80       671\n",
      "           1       0.77      0.84      0.81       633\n",
      "\n",
      "    accuracy                           0.80      1304\n",
      "   macro avg       0.81      0.80      0.80      1304\n",
      "weighted avg       0.81      0.80      0.80      1304\n",
      "\n"
     ]
    }
   ],
   "source": [
    "print(classification_report(y_test,y_pred))"
   ]
  },
  {
   "cell_type": "code",
   "execution_count": null,
   "id": "4bc5c850",
   "metadata": {},
   "outputs": [],
   "source": []
  },
  {
   "cell_type": "code",
   "execution_count": null,
   "id": "0c74dbb5",
   "metadata": {},
   "outputs": [],
   "source": []
  },
  {
   "cell_type": "code",
   "execution_count": 57,
   "id": "db03aa9d",
   "metadata": {
    "ExecuteTime": {
     "end_time": "2024-04-01T07:32:57.907491Z",
     "start_time": "2024-04-01T07:32:57.897130Z"
    }
   },
   "outputs": [],
   "source": [
    "final_model = GradientBoostingClassifier(max_depth=3, n_estimators=125)"
   ]
  },
  {
   "cell_type": "code",
   "execution_count": 58,
   "id": "8e044965",
   "metadata": {
    "ExecuteTime": {
     "end_time": "2024-04-01T07:33:00.772141Z",
     "start_time": "2024-04-01T07:32:59.027187Z"
    }
   },
   "outputs": [
    {
     "data": {
      "text/plain": [
       "GradientBoostingClassifier(n_estimators=125)"
      ]
     },
     "execution_count": 58,
     "metadata": {},
     "output_type": "execute_result"
    }
   ],
   "source": [
    "final_model.fit(X, y)"
   ]
  },
  {
   "cell_type": "code",
   "execution_count": 59,
   "id": "de928d33",
   "metadata": {
    "ExecuteTime": {
     "end_time": "2024-04-01T07:33:01.813600Z",
     "start_time": "2024-04-01T07:33:01.774539Z"
    }
   },
   "outputs": [],
   "source": [
    "final_pred = final_model.predict(X)"
   ]
  },
  {
   "cell_type": "code",
   "execution_count": 60,
   "id": "54e2b81c",
   "metadata": {
    "ExecuteTime": {
     "end_time": "2024-04-01T07:33:02.826094Z",
     "start_time": "2024-04-01T07:33:02.791113Z"
    }
   },
   "outputs": [
    {
     "name": "stdout",
     "output_type": "stream",
     "text": [
      "              precision    recall  f1-score   support\n",
      "\n",
      "           0       0.85      0.77      0.81      4315\n",
      "           1       0.79      0.86      0.83      4378\n",
      "\n",
      "    accuracy                           0.82      8693\n",
      "   macro avg       0.82      0.82      0.82      8693\n",
      "weighted avg       0.82      0.82      0.82      8693\n",
      "\n"
     ]
    }
   ],
   "source": [
    "print(classification_report(y,final_pred))"
   ]
  },
  {
   "cell_type": "code",
   "execution_count": 61,
   "id": "2b690f5d",
   "metadata": {
    "ExecuteTime": {
     "end_time": "2024-04-01T07:33:03.637975Z",
     "start_time": "2024-04-01T07:33:03.617853Z"
    }
   },
   "outputs": [],
   "source": [
    "result = final_model.predict(desired_col)"
   ]
  },
  {
   "cell_type": "code",
   "execution_count": 62,
   "id": "96f09dc1",
   "metadata": {
    "ExecuteTime": {
     "end_time": "2024-04-01T07:33:05.674674Z",
     "start_time": "2024-04-01T07:33:05.645164Z"
    }
   },
   "outputs": [],
   "source": [
    "test = pd.read_csv('test.csv')"
   ]
  },
  {
   "cell_type": "code",
   "execution_count": 63,
   "id": "2abff855",
   "metadata": {
    "ExecuteTime": {
     "end_time": "2024-04-01T07:33:06.282431Z",
     "start_time": "2024-04-01T07:33:06.268894Z"
    }
   },
   "outputs": [
    {
     "name": "stdout",
     "output_type": "stream",
     "text": [
      "(4277, 2)\n"
     ]
    }
   ],
   "source": [
    "submission = pd.DataFrame({'PassengerId':test['PassengerId'],'Transported':result})\n",
    "submission['Transported'] = submission['Transported'].astype(int)\n",
    "print(submission.shape)"
   ]
  },
  {
   "cell_type": "code",
   "execution_count": 64,
   "id": "47181064",
   "metadata": {
    "ExecuteTime": {
     "end_time": "2024-04-01T07:33:06.813957Z",
     "start_time": "2024-04-01T07:33:06.802323Z"
    }
   },
   "outputs": [
    {
     "data": {
      "text/plain": [
       "1    2339\n",
       "0    1938\n",
       "Name: Transported, dtype: int64"
      ]
     },
     "execution_count": 64,
     "metadata": {},
     "output_type": "execute_result"
    }
   ],
   "source": [
    "submission['Transported'].value_counts()"
   ]
  },
  {
   "cell_type": "code",
   "execution_count": 65,
   "id": "f0b1a86f",
   "metadata": {
    "ExecuteTime": {
     "end_time": "2024-04-01T07:33:07.591098Z",
     "start_time": "2024-04-01T07:33:07.580562Z"
    }
   },
   "outputs": [],
   "source": [
    "submission['Transported'] = submission['Transported'].astype('bool')"
   ]
  },
  {
   "cell_type": "code",
   "execution_count": 66,
   "id": "1f16f891",
   "metadata": {
    "ExecuteTime": {
     "end_time": "2024-04-01T07:33:08.588149Z",
     "start_time": "2024-04-01T07:33:08.560568Z"
    }
   },
   "outputs": [
    {
     "name": "stdout",
     "output_type": "stream",
     "text": [
      "Saved file: space_preds.csv\n"
     ]
    }
   ],
   "source": [
    "filename = 'space_preds.csv'\n",
    "submission.to_csv(filename,index=False)\n",
    "print('Saved file: ' + filename)"
   ]
  },
  {
   "cell_type": "code",
   "execution_count": null,
   "id": "1c54cb47",
   "metadata": {},
   "outputs": [],
   "source": []
  }
 ],
 "metadata": {
  "kernelspec": {
   "display_name": "Python 3 (ipykernel)",
   "language": "python",
   "name": "python3"
  },
  "language_info": {
   "codemirror_mode": {
    "name": "ipython",
    "version": 3
   },
   "file_extension": ".py",
   "mimetype": "text/x-python",
   "name": "python",
   "nbconvert_exporter": "python",
   "pygments_lexer": "ipython3",
   "version": "3.9.12"
  }
 },
 "nbformat": 4,
 "nbformat_minor": 5
}
