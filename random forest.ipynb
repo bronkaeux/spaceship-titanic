{
 "cells": [
  {
   "cell_type": "code",
   "execution_count": 1,
   "id": "f6646de5",
   "metadata": {
    "ExecuteTime": {
     "end_time": "2024-03-31T14:32:16.136314Z",
     "start_time": "2024-03-31T14:32:10.055976Z"
    }
   },
   "outputs": [],
   "source": [
    "import numpy as np\n",
    "import pandas as pd\n",
    "import matplotlib.pyplot as plt\n",
    "import seaborn as sns"
   ]
  },
  {
   "cell_type": "code",
   "execution_count": 2,
   "id": "11b30706",
   "metadata": {
    "ExecuteTime": {
     "end_time": "2024-03-31T14:32:16.214244Z",
     "start_time": "2024-03-31T14:32:16.141135Z"
    }
   },
   "outputs": [],
   "source": [
    "df = pd.read_csv('cleaned_df.csv')"
   ]
  },
  {
   "cell_type": "code",
   "execution_count": 3,
   "id": "8b526cb1",
   "metadata": {
    "ExecuteTime": {
     "end_time": "2024-03-31T14:32:16.260770Z",
     "start_time": "2024-03-31T14:32:16.217311Z"
    }
   },
   "outputs": [
    {
     "name": "stdout",
     "output_type": "stream",
     "text": [
      "<class 'pandas.core.frame.DataFrame'>\n",
      "RangeIndex: 12970 entries, 0 to 12969\n",
      "Data columns (total 13 columns):\n",
      " #   Column        Non-Null Count  Dtype  \n",
      "---  ------        --------------  -----  \n",
      " 0   CryoSleep     12970 non-null  object \n",
      " 1   Destination   12970 non-null  object \n",
      " 2   Age           12970 non-null  float64\n",
      " 3   VIP           12970 non-null  object \n",
      " 4   RoomService   12970 non-null  float64\n",
      " 5   FoodCourt     12970 non-null  float64\n",
      " 6   ShoppingMall  12970 non-null  float64\n",
      " 7   Spa           12970 non-null  float64\n",
      " 8   VRDeck        12970 non-null  float64\n",
      " 9   Transported   8693 non-null   float64\n",
      " 10  Deck          12970 non-null  object \n",
      " 11  Side          12970 non-null  object \n",
      " 12  HomePlanet    12970 non-null  object \n",
      "dtypes: float64(7), object(6)\n",
      "memory usage: 1.3+ MB\n"
     ]
    }
   ],
   "source": [
    "df.info()"
   ]
  },
  {
   "cell_type": "code",
   "execution_count": 4,
   "id": "c324c76f",
   "metadata": {
    "ExecuteTime": {
     "end_time": "2024-03-31T14:32:17.150570Z",
     "start_time": "2024-03-31T14:32:17.121837Z"
    }
   },
   "outputs": [],
   "source": [
    "df = pd.get_dummies(df, drop_first=True)"
   ]
  },
  {
   "cell_type": "code",
   "execution_count": 5,
   "id": "dad0f713",
   "metadata": {
    "ExecuteTime": {
     "end_time": "2024-03-31T14:32:18.180236Z",
     "start_time": "2024-03-31T14:32:18.156835Z"
    }
   },
   "outputs": [],
   "source": [
    "# Data to be predicted\n",
    "desired_col = df[df['Transported'].isnull()]\n",
    "desired_col = desired_col.drop(['Transported'], axis = 1)"
   ]
  },
  {
   "cell_type": "code",
   "execution_count": 6,
   "id": "61b741f4",
   "metadata": {
    "ExecuteTime": {
     "end_time": "2024-03-31T14:32:18.661414Z",
     "start_time": "2024-03-31T14:32:18.625658Z"
    }
   },
   "outputs": [
    {
     "data": {
      "text/html": [
       "<div>\n",
       "<style scoped>\n",
       "    .dataframe tbody tr th:only-of-type {\n",
       "        vertical-align: middle;\n",
       "    }\n",
       "\n",
       "    .dataframe tbody tr th {\n",
       "        vertical-align: top;\n",
       "    }\n",
       "\n",
       "    .dataframe thead th {\n",
       "        text-align: right;\n",
       "    }\n",
       "</style>\n",
       "<table border=\"1\" class=\"dataframe\">\n",
       "  <thead>\n",
       "    <tr style=\"text-align: right;\">\n",
       "      <th></th>\n",
       "      <th>Age</th>\n",
       "      <th>RoomService</th>\n",
       "      <th>FoodCourt</th>\n",
       "      <th>ShoppingMall</th>\n",
       "      <th>Spa</th>\n",
       "      <th>VRDeck</th>\n",
       "      <th>CryoSleep_None</th>\n",
       "      <th>CryoSleep_True</th>\n",
       "      <th>Destination_None</th>\n",
       "      <th>Destination_PSO J318.5-22</th>\n",
       "      <th>...</th>\n",
       "      <th>Deck_E</th>\n",
       "      <th>Deck_F</th>\n",
       "      <th>Deck_G</th>\n",
       "      <th>Deck_None</th>\n",
       "      <th>Deck_T</th>\n",
       "      <th>Side_P</th>\n",
       "      <th>Side_S</th>\n",
       "      <th>HomePlanet_Europa</th>\n",
       "      <th>HomePlanet_Mars</th>\n",
       "      <th>HomePlanet_None</th>\n",
       "    </tr>\n",
       "  </thead>\n",
       "  <tbody>\n",
       "    <tr>\n",
       "      <th>8693</th>\n",
       "      <td>27.0</td>\n",
       "      <td>0.0</td>\n",
       "      <td>0.0</td>\n",
       "      <td>0.0</td>\n",
       "      <td>0.0</td>\n",
       "      <td>0.0</td>\n",
       "      <td>0</td>\n",
       "      <td>1</td>\n",
       "      <td>0</td>\n",
       "      <td>0</td>\n",
       "      <td>...</td>\n",
       "      <td>0</td>\n",
       "      <td>0</td>\n",
       "      <td>1</td>\n",
       "      <td>0</td>\n",
       "      <td>0</td>\n",
       "      <td>0</td>\n",
       "      <td>1</td>\n",
       "      <td>0</td>\n",
       "      <td>0</td>\n",
       "      <td>0</td>\n",
       "    </tr>\n",
       "    <tr>\n",
       "      <th>8694</th>\n",
       "      <td>19.0</td>\n",
       "      <td>0.0</td>\n",
       "      <td>9.0</td>\n",
       "      <td>0.0</td>\n",
       "      <td>2823.0</td>\n",
       "      <td>0.0</td>\n",
       "      <td>0</td>\n",
       "      <td>0</td>\n",
       "      <td>0</td>\n",
       "      <td>0</td>\n",
       "      <td>...</td>\n",
       "      <td>0</td>\n",
       "      <td>1</td>\n",
       "      <td>0</td>\n",
       "      <td>0</td>\n",
       "      <td>0</td>\n",
       "      <td>0</td>\n",
       "      <td>1</td>\n",
       "      <td>0</td>\n",
       "      <td>0</td>\n",
       "      <td>0</td>\n",
       "    </tr>\n",
       "    <tr>\n",
       "      <th>8695</th>\n",
       "      <td>31.0</td>\n",
       "      <td>0.0</td>\n",
       "      <td>0.0</td>\n",
       "      <td>0.0</td>\n",
       "      <td>0.0</td>\n",
       "      <td>0.0</td>\n",
       "      <td>0</td>\n",
       "      <td>1</td>\n",
       "      <td>0</td>\n",
       "      <td>0</td>\n",
       "      <td>...</td>\n",
       "      <td>0</td>\n",
       "      <td>0</td>\n",
       "      <td>0</td>\n",
       "      <td>0</td>\n",
       "      <td>0</td>\n",
       "      <td>0</td>\n",
       "      <td>1</td>\n",
       "      <td>1</td>\n",
       "      <td>0</td>\n",
       "      <td>0</td>\n",
       "    </tr>\n",
       "    <tr>\n",
       "      <th>8696</th>\n",
       "      <td>38.0</td>\n",
       "      <td>0.0</td>\n",
       "      <td>6652.0</td>\n",
       "      <td>0.0</td>\n",
       "      <td>181.0</td>\n",
       "      <td>585.0</td>\n",
       "      <td>0</td>\n",
       "      <td>0</td>\n",
       "      <td>0</td>\n",
       "      <td>0</td>\n",
       "      <td>...</td>\n",
       "      <td>0</td>\n",
       "      <td>0</td>\n",
       "      <td>0</td>\n",
       "      <td>0</td>\n",
       "      <td>0</td>\n",
       "      <td>0</td>\n",
       "      <td>1</td>\n",
       "      <td>1</td>\n",
       "      <td>0</td>\n",
       "      <td>0</td>\n",
       "    </tr>\n",
       "    <tr>\n",
       "      <th>8697</th>\n",
       "      <td>20.0</td>\n",
       "      <td>10.0</td>\n",
       "      <td>0.0</td>\n",
       "      <td>635.0</td>\n",
       "      <td>0.0</td>\n",
       "      <td>0.0</td>\n",
       "      <td>0</td>\n",
       "      <td>0</td>\n",
       "      <td>0</td>\n",
       "      <td>0</td>\n",
       "      <td>...</td>\n",
       "      <td>0</td>\n",
       "      <td>1</td>\n",
       "      <td>0</td>\n",
       "      <td>0</td>\n",
       "      <td>0</td>\n",
       "      <td>0</td>\n",
       "      <td>1</td>\n",
       "      <td>0</td>\n",
       "      <td>0</td>\n",
       "      <td>0</td>\n",
       "    </tr>\n",
       "  </tbody>\n",
       "</table>\n",
       "<p>5 rows × 26 columns</p>\n",
       "</div>"
      ],
      "text/plain": [
       "       Age  RoomService  FoodCourt  ShoppingMall     Spa  VRDeck  \\\n",
       "8693  27.0          0.0        0.0           0.0     0.0     0.0   \n",
       "8694  19.0          0.0        9.0           0.0  2823.0     0.0   \n",
       "8695  31.0          0.0        0.0           0.0     0.0     0.0   \n",
       "8696  38.0          0.0     6652.0           0.0   181.0   585.0   \n",
       "8697  20.0         10.0        0.0         635.0     0.0     0.0   \n",
       "\n",
       "      CryoSleep_None  CryoSleep_True  Destination_None  \\\n",
       "8693               0               1                 0   \n",
       "8694               0               0                 0   \n",
       "8695               0               1                 0   \n",
       "8696               0               0                 0   \n",
       "8697               0               0                 0   \n",
       "\n",
       "      Destination_PSO J318.5-22  ...  Deck_E  Deck_F  Deck_G  Deck_None  \\\n",
       "8693                          0  ...       0       0       1          0   \n",
       "8694                          0  ...       0       1       0          0   \n",
       "8695                          0  ...       0       0       0          0   \n",
       "8696                          0  ...       0       0       0          0   \n",
       "8697                          0  ...       0       1       0          0   \n",
       "\n",
       "      Deck_T  Side_P  Side_S  HomePlanet_Europa  HomePlanet_Mars  \\\n",
       "8693       0       0       1                  0                0   \n",
       "8694       0       0       1                  0                0   \n",
       "8695       0       0       1                  1                0   \n",
       "8696       0       0       1                  1                0   \n",
       "8697       0       0       1                  0                0   \n",
       "\n",
       "      HomePlanet_None  \n",
       "8693                0  \n",
       "8694                0  \n",
       "8695                0  \n",
       "8696                0  \n",
       "8697                0  \n",
       "\n",
       "[5 rows x 26 columns]"
      ]
     },
     "execution_count": 6,
     "metadata": {},
     "output_type": "execute_result"
    }
   ],
   "source": [
    "desired_col.head()"
   ]
  },
  {
   "cell_type": "code",
   "execution_count": 7,
   "id": "a4a19bcc",
   "metadata": {
    "ExecuteTime": {
     "end_time": "2024-03-31T14:32:21.819518Z",
     "start_time": "2024-03-31T14:32:21.794088Z"
    }
   },
   "outputs": [],
   "source": [
    "#Training data\n",
    "tr_data = df.copy()\n",
    "tr_data = tr_data.dropna()"
   ]
  },
  {
   "cell_type": "code",
   "execution_count": 8,
   "id": "6a1194d0",
   "metadata": {
    "ExecuteTime": {
     "end_time": "2024-03-31T14:32:22.704214Z",
     "start_time": "2024-03-31T14:32:22.679388Z"
    }
   },
   "outputs": [
    {
     "data": {
      "text/html": [
       "<div>\n",
       "<style scoped>\n",
       "    .dataframe tbody tr th:only-of-type {\n",
       "        vertical-align: middle;\n",
       "    }\n",
       "\n",
       "    .dataframe tbody tr th {\n",
       "        vertical-align: top;\n",
       "    }\n",
       "\n",
       "    .dataframe thead th {\n",
       "        text-align: right;\n",
       "    }\n",
       "</style>\n",
       "<table border=\"1\" class=\"dataframe\">\n",
       "  <thead>\n",
       "    <tr style=\"text-align: right;\">\n",
       "      <th></th>\n",
       "      <th>Age</th>\n",
       "      <th>RoomService</th>\n",
       "      <th>FoodCourt</th>\n",
       "      <th>ShoppingMall</th>\n",
       "      <th>Spa</th>\n",
       "      <th>VRDeck</th>\n",
       "      <th>Transported</th>\n",
       "      <th>CryoSleep_None</th>\n",
       "      <th>CryoSleep_True</th>\n",
       "      <th>Destination_None</th>\n",
       "      <th>...</th>\n",
       "      <th>Deck_E</th>\n",
       "      <th>Deck_F</th>\n",
       "      <th>Deck_G</th>\n",
       "      <th>Deck_None</th>\n",
       "      <th>Deck_T</th>\n",
       "      <th>Side_P</th>\n",
       "      <th>Side_S</th>\n",
       "      <th>HomePlanet_Europa</th>\n",
       "      <th>HomePlanet_Mars</th>\n",
       "      <th>HomePlanet_None</th>\n",
       "    </tr>\n",
       "  </thead>\n",
       "  <tbody>\n",
       "    <tr>\n",
       "      <th>0</th>\n",
       "      <td>39.0</td>\n",
       "      <td>0.0</td>\n",
       "      <td>0.0</td>\n",
       "      <td>0.0</td>\n",
       "      <td>0.0</td>\n",
       "      <td>0.0</td>\n",
       "      <td>0.0</td>\n",
       "      <td>0</td>\n",
       "      <td>0</td>\n",
       "      <td>0</td>\n",
       "      <td>...</td>\n",
       "      <td>0</td>\n",
       "      <td>0</td>\n",
       "      <td>0</td>\n",
       "      <td>0</td>\n",
       "      <td>0</td>\n",
       "      <td>1</td>\n",
       "      <td>0</td>\n",
       "      <td>1</td>\n",
       "      <td>0</td>\n",
       "      <td>0</td>\n",
       "    </tr>\n",
       "    <tr>\n",
       "      <th>1</th>\n",
       "      <td>24.0</td>\n",
       "      <td>109.0</td>\n",
       "      <td>9.0</td>\n",
       "      <td>25.0</td>\n",
       "      <td>549.0</td>\n",
       "      <td>44.0</td>\n",
       "      <td>1.0</td>\n",
       "      <td>0</td>\n",
       "      <td>0</td>\n",
       "      <td>0</td>\n",
       "      <td>...</td>\n",
       "      <td>0</td>\n",
       "      <td>1</td>\n",
       "      <td>0</td>\n",
       "      <td>0</td>\n",
       "      <td>0</td>\n",
       "      <td>0</td>\n",
       "      <td>1</td>\n",
       "      <td>0</td>\n",
       "      <td>0</td>\n",
       "      <td>0</td>\n",
       "    </tr>\n",
       "    <tr>\n",
       "      <th>2</th>\n",
       "      <td>58.0</td>\n",
       "      <td>43.0</td>\n",
       "      <td>3576.0</td>\n",
       "      <td>0.0</td>\n",
       "      <td>6715.0</td>\n",
       "      <td>49.0</td>\n",
       "      <td>0.0</td>\n",
       "      <td>0</td>\n",
       "      <td>0</td>\n",
       "      <td>0</td>\n",
       "      <td>...</td>\n",
       "      <td>0</td>\n",
       "      <td>0</td>\n",
       "      <td>0</td>\n",
       "      <td>0</td>\n",
       "      <td>0</td>\n",
       "      <td>0</td>\n",
       "      <td>1</td>\n",
       "      <td>1</td>\n",
       "      <td>0</td>\n",
       "      <td>0</td>\n",
       "    </tr>\n",
       "    <tr>\n",
       "      <th>3</th>\n",
       "      <td>33.0</td>\n",
       "      <td>0.0</td>\n",
       "      <td>1283.0</td>\n",
       "      <td>371.0</td>\n",
       "      <td>3329.0</td>\n",
       "      <td>193.0</td>\n",
       "      <td>0.0</td>\n",
       "      <td>0</td>\n",
       "      <td>0</td>\n",
       "      <td>0</td>\n",
       "      <td>...</td>\n",
       "      <td>0</td>\n",
       "      <td>0</td>\n",
       "      <td>0</td>\n",
       "      <td>0</td>\n",
       "      <td>0</td>\n",
       "      <td>0</td>\n",
       "      <td>1</td>\n",
       "      <td>1</td>\n",
       "      <td>0</td>\n",
       "      <td>0</td>\n",
       "    </tr>\n",
       "    <tr>\n",
       "      <th>4</th>\n",
       "      <td>16.0</td>\n",
       "      <td>303.0</td>\n",
       "      <td>70.0</td>\n",
       "      <td>151.0</td>\n",
       "      <td>565.0</td>\n",
       "      <td>2.0</td>\n",
       "      <td>1.0</td>\n",
       "      <td>0</td>\n",
       "      <td>0</td>\n",
       "      <td>0</td>\n",
       "      <td>...</td>\n",
       "      <td>0</td>\n",
       "      <td>1</td>\n",
       "      <td>0</td>\n",
       "      <td>0</td>\n",
       "      <td>0</td>\n",
       "      <td>0</td>\n",
       "      <td>1</td>\n",
       "      <td>0</td>\n",
       "      <td>0</td>\n",
       "      <td>0</td>\n",
       "    </tr>\n",
       "  </tbody>\n",
       "</table>\n",
       "<p>5 rows × 27 columns</p>\n",
       "</div>"
      ],
      "text/plain": [
       "    Age  RoomService  FoodCourt  ShoppingMall     Spa  VRDeck  Transported  \\\n",
       "0  39.0          0.0        0.0           0.0     0.0     0.0          0.0   \n",
       "1  24.0        109.0        9.0          25.0   549.0    44.0          1.0   \n",
       "2  58.0         43.0     3576.0           0.0  6715.0    49.0          0.0   \n",
       "3  33.0          0.0     1283.0         371.0  3329.0   193.0          0.0   \n",
       "4  16.0        303.0       70.0         151.0   565.0     2.0          1.0   \n",
       "\n",
       "   CryoSleep_None  CryoSleep_True  Destination_None  ...  Deck_E  Deck_F  \\\n",
       "0               0               0                 0  ...       0       0   \n",
       "1               0               0                 0  ...       0       1   \n",
       "2               0               0                 0  ...       0       0   \n",
       "3               0               0                 0  ...       0       0   \n",
       "4               0               0                 0  ...       0       1   \n",
       "\n",
       "   Deck_G  Deck_None  Deck_T  Side_P  Side_S  HomePlanet_Europa  \\\n",
       "0       0          0       0       1       0                  1   \n",
       "1       0          0       0       0       1                  0   \n",
       "2       0          0       0       0       1                  1   \n",
       "3       0          0       0       0       1                  1   \n",
       "4       0          0       0       0       1                  0   \n",
       "\n",
       "   HomePlanet_Mars  HomePlanet_None  \n",
       "0                0                0  \n",
       "1                0                0  \n",
       "2                0                0  \n",
       "3                0                0  \n",
       "4                0                0  \n",
       "\n",
       "[5 rows x 27 columns]"
      ]
     },
     "execution_count": 8,
     "metadata": {},
     "output_type": "execute_result"
    }
   ],
   "source": [
    "tr_data.head()"
   ]
  },
  {
   "cell_type": "code",
   "execution_count": 9,
   "id": "d57ab011",
   "metadata": {
    "ExecuteTime": {
     "end_time": "2024-03-31T14:32:26.765169Z",
     "start_time": "2024-03-31T14:32:26.751578Z"
    }
   },
   "outputs": [],
   "source": [
    "X = tr_data.drop('Transported', axis = 1)\n",
    "y = tr_data['Transported']"
   ]
  },
  {
   "cell_type": "code",
   "execution_count": 10,
   "id": "867f7df2",
   "metadata": {
    "ExecuteTime": {
     "end_time": "2024-03-31T14:32:27.076052Z",
     "start_time": "2024-03-31T14:32:27.067491Z"
    }
   },
   "outputs": [],
   "source": [
    "y = y.astype('int64')"
   ]
  },
  {
   "cell_type": "markdown",
   "id": "9e9d209c",
   "metadata": {},
   "source": [
    "## Random Forest classifier"
   ]
  },
  {
   "cell_type": "code",
   "execution_count": 11,
   "id": "5de03d88",
   "metadata": {
    "ExecuteTime": {
     "end_time": "2024-03-31T14:33:55.265314Z",
     "start_time": "2024-03-31T14:33:54.934405Z"
    }
   },
   "outputs": [],
   "source": [
    "from sklearn.model_selection import train_test_split"
   ]
  },
  {
   "cell_type": "code",
   "execution_count": 12,
   "id": "b5eb1a6f",
   "metadata": {
    "ExecuteTime": {
     "end_time": "2024-03-31T14:34:47.354918Z",
     "start_time": "2024-03-31T14:34:47.328449Z"
    }
   },
   "outputs": [],
   "source": [
    "X_train, X_test, y_train, y_test = train_test_split(X, y, test_size=0.2)"
   ]
  },
  {
   "cell_type": "code",
   "execution_count": 13,
   "id": "c875dd98",
   "metadata": {
    "ExecuteTime": {
     "end_time": "2024-03-31T14:35:00.385936Z",
     "start_time": "2024-03-31T14:34:59.917396Z"
    }
   },
   "outputs": [],
   "source": [
    "from sklearn.ensemble import RandomForestClassifier"
   ]
  },
  {
   "cell_type": "code",
   "execution_count": 122,
   "id": "0be7b18e",
   "metadata": {
    "ExecuteTime": {
     "end_time": "2024-03-31T16:04:52.919276Z",
     "start_time": "2024-03-31T16:04:52.901090Z"
    }
   },
   "outputs": [],
   "source": [
    "model = RandomForestClassifier(n_estimators=128, bootstrap=True, max_features=2, criterion='entropy',\n",
    "                              min_samples_split=4, n_jobs=-1) #oob_score=True"
   ]
  },
  {
   "cell_type": "code",
   "execution_count": 123,
   "id": "e68e3f93",
   "metadata": {
    "ExecuteTime": {
     "end_time": "2024-03-31T16:04:54.574417Z",
     "start_time": "2024-03-31T16:04:53.819157Z"
    }
   },
   "outputs": [
    {
     "data": {
      "text/plain": [
       "RandomForestClassifier(criterion='entropy', max_features=2, min_samples_split=4,\n",
       "                       n_estimators=128, n_jobs=-1)"
      ]
     },
     "execution_count": 123,
     "metadata": {},
     "output_type": "execute_result"
    }
   ],
   "source": [
    "model.fit(X_train,y_train)"
   ]
  },
  {
   "cell_type": "code",
   "execution_count": 124,
   "id": "e04cecba",
   "metadata": {
    "ExecuteTime": {
     "end_time": "2024-03-31T16:04:54.637158Z",
     "start_time": "2024-03-31T16:04:54.578934Z"
    }
   },
   "outputs": [],
   "source": [
    "preds = model.predict(X_test)"
   ]
  },
  {
   "cell_type": "code",
   "execution_count": 125,
   "id": "1a02cd5f",
   "metadata": {
    "ExecuteTime": {
     "end_time": "2024-03-31T16:04:55.308445Z",
     "start_time": "2024-03-31T16:04:55.296313Z"
    }
   },
   "outputs": [],
   "source": [
    "## Оценка работы модели\n",
    "\n",
    "from sklearn.metrics import confusion_matrix,classification_report,plot_confusion_matrix,accuracy_score"
   ]
  },
  {
   "cell_type": "code",
   "execution_count": 126,
   "id": "d1ef09ea",
   "metadata": {
    "ExecuteTime": {
     "end_time": "2024-03-31T16:04:55.978032Z",
     "start_time": "2024-03-31T16:04:55.962477Z"
    }
   },
   "outputs": [
    {
     "data": {
      "text/plain": [
       "array([[523, 101],\n",
       "       [165, 515]], dtype=int64)"
      ]
     },
     "execution_count": 126,
     "metadata": {},
     "output_type": "execute_result"
    }
   ],
   "source": [
    "confusion_matrix(y_test,preds)"
   ]
  },
  {
   "cell_type": "code",
   "execution_count": 127,
   "id": "977b6197",
   "metadata": {
    "ExecuteTime": {
     "end_time": "2024-03-31T16:04:57.347848Z",
     "start_time": "2024-03-31T16:04:57.112251Z"
    }
   },
   "outputs": [
    {
     "name": "stderr",
     "output_type": "stream",
     "text": [
      "C:\\Users\\79852\\anaconda3\\lib\\site-packages\\sklearn\\utils\\deprecation.py:87: FutureWarning: Function plot_confusion_matrix is deprecated; Function `plot_confusion_matrix` is deprecated in 1.0 and will be removed in 1.2. Use one of the class methods: ConfusionMatrixDisplay.from_predictions or ConfusionMatrixDisplay.from_estimator.\n",
      "  warnings.warn(msg, category=FutureWarning)\n"
     ]
    },
    {
     "data": {
      "text/plain": [
       "<sklearn.metrics._plot.confusion_matrix.ConfusionMatrixDisplay at 0x2af381a82e0>"
      ]
     },
     "execution_count": 127,
     "metadata": {},
     "output_type": "execute_result"
    },
    {
     "data": {
      "image/png": "[encoded data removed]",
      "text/plain": [
       "<Figure size 432x288 with 2 Axes>"
      ]
     },
     "metadata": {
      "needs_background": "light"
     },
     "output_type": "display_data"
    }
   ],
   "source": [
    "plot_confusion_matrix(model,X_test,y_test)"
   ]
  },
  {
   "cell_type": "code",
   "execution_count": 128,
   "id": "8c5cfeed",
   "metadata": {
    "ExecuteTime": {
     "end_time": "2024-03-31T16:04:57.879460Z",
     "start_time": "2024-03-31T16:04:57.851887Z"
    }
   },
   "outputs": [
    {
     "name": "stdout",
     "output_type": "stream",
     "text": [
      "              precision    recall  f1-score   support\n",
      "\n",
      "           0       0.76      0.84      0.80       624\n",
      "           1       0.84      0.76      0.79       680\n",
      "\n",
      "    accuracy                           0.80      1304\n",
      "   macro avg       0.80      0.80      0.80      1304\n",
      "weighted avg       0.80      0.80      0.80      1304\n",
      "\n"
     ]
    }
   ],
   "source": [
    "print(classification_report(y_test,preds))"
   ]
  },
  {
   "cell_type": "code",
   "execution_count": 117,
   "id": "a2c16b69",
   "metadata": {
    "ExecuteTime": {
     "end_time": "2024-03-31T16:03:23.423959Z",
     "start_time": "2024-03-31T16:03:23.368006Z"
    }
   },
   "outputs": [
    {
     "data": {
      "text/plain": [
       "array([1.89037601e-01, 1.11976757e-01, 1.03509358e-01, 9.44857993e-02,\n",
       "       1.23428274e-01, 1.20469594e-01, 5.84728742e-03, 7.51007116e-02,\n",
       "       1.32521840e-04, 7.82068748e-03, 1.54916993e-02, 6.11292118e-03,\n",
       "       3.96818068e-03, 1.23382424e-02, 1.00832488e-02, 5.06918039e-03,\n",
       "       1.42778369e-02, 1.79320059e-02, 1.67503822e-02, 2.27143604e-03,\n",
       "       2.07713314e-04, 8.85551415e-03, 9.59423144e-03, 2.39353132e-02,\n",
       "       2.11862947e-02, 1.17206840e-04])"
      ]
     },
     "execution_count": 117,
     "metadata": {},
     "output_type": "execute_result"
    }
   ],
   "source": [
    "model.feature_importances_"
   ]
  },
  {
   "cell_type": "code",
   "execution_count": 118,
   "id": "d002c7b8",
   "metadata": {
    "ExecuteTime": {
     "end_time": "2024-03-31T16:03:26.063634Z",
     "start_time": "2024-03-31T16:03:26.028171Z"
    }
   },
   "outputs": [
    {
     "data": {
      "text/html": [
       "<div>\n",
       "<style scoped>\n",
       "    .dataframe tbody tr th:only-of-type {\n",
       "        vertical-align: middle;\n",
       "    }\n",
       "\n",
       "    .dataframe tbody tr th {\n",
       "        vertical-align: top;\n",
       "    }\n",
       "\n",
       "    .dataframe thead th {\n",
       "        text-align: right;\n",
       "    }\n",
       "</style>\n",
       "<table border=\"1\" class=\"dataframe\">\n",
       "  <thead>\n",
       "    <tr style=\"text-align: right;\">\n",
       "      <th></th>\n",
       "      <th>Feature Importance</th>\n",
       "    </tr>\n",
       "  </thead>\n",
       "  <tbody>\n",
       "    <tr>\n",
       "      <th>Age</th>\n",
       "      <td>0.189038</td>\n",
       "    </tr>\n",
       "    <tr>\n",
       "      <th>RoomService</th>\n",
       "      <td>0.111977</td>\n",
       "    </tr>\n",
       "    <tr>\n",
       "      <th>FoodCourt</th>\n",
       "      <td>0.103509</td>\n",
       "    </tr>\n",
       "    <tr>\n",
       "      <th>ShoppingMall</th>\n",
       "      <td>0.094486</td>\n",
       "    </tr>\n",
       "    <tr>\n",
       "      <th>Spa</th>\n",
       "      <td>0.123428</td>\n",
       "    </tr>\n",
       "    <tr>\n",
       "      <th>VRDeck</th>\n",
       "      <td>0.120470</td>\n",
       "    </tr>\n",
       "    <tr>\n",
       "      <th>CryoSleep_None</th>\n",
       "      <td>0.005847</td>\n",
       "    </tr>\n",
       "    <tr>\n",
       "      <th>CryoSleep_True</th>\n",
       "      <td>0.075101</td>\n",
       "    </tr>\n",
       "    <tr>\n",
       "      <th>Destination_None</th>\n",
       "      <td>0.000133</td>\n",
       "    </tr>\n",
       "    <tr>\n",
       "      <th>Destination_PSO J318.5-22</th>\n",
       "      <td>0.007821</td>\n",
       "    </tr>\n",
       "    <tr>\n",
       "      <th>Destination_TRAPPIST-1e</th>\n",
       "      <td>0.015492</td>\n",
       "    </tr>\n",
       "    <tr>\n",
       "      <th>VIP_None</th>\n",
       "      <td>0.006113</td>\n",
       "    </tr>\n",
       "    <tr>\n",
       "      <th>VIP_True</th>\n",
       "      <td>0.003968</td>\n",
       "    </tr>\n",
       "    <tr>\n",
       "      <th>Deck_B</th>\n",
       "      <td>0.012338</td>\n",
       "    </tr>\n",
       "    <tr>\n",
       "      <th>Deck_C</th>\n",
       "      <td>0.010083</td>\n",
       "    </tr>\n",
       "    <tr>\n",
       "      <th>Deck_D</th>\n",
       "      <td>0.005069</td>\n",
       "    </tr>\n",
       "    <tr>\n",
       "      <th>Deck_E</th>\n",
       "      <td>0.014278</td>\n",
       "    </tr>\n",
       "    <tr>\n",
       "      <th>Deck_F</th>\n",
       "      <td>0.017932</td>\n",
       "    </tr>\n",
       "    <tr>\n",
       "      <th>Deck_G</th>\n",
       "      <td>0.016750</td>\n",
       "    </tr>\n",
       "    <tr>\n",
       "      <th>Deck_None</th>\n",
       "      <td>0.002271</td>\n",
       "    </tr>\n",
       "    <tr>\n",
       "      <th>Deck_T</th>\n",
       "      <td>0.000208</td>\n",
       "    </tr>\n",
       "    <tr>\n",
       "      <th>Side_P</th>\n",
       "      <td>0.008856</td>\n",
       "    </tr>\n",
       "    <tr>\n",
       "      <th>Side_S</th>\n",
       "      <td>0.009594</td>\n",
       "    </tr>\n",
       "    <tr>\n",
       "      <th>HomePlanet_Europa</th>\n",
       "      <td>0.023935</td>\n",
       "    </tr>\n",
       "    <tr>\n",
       "      <th>HomePlanet_Mars</th>\n",
       "      <td>0.021186</td>\n",
       "    </tr>\n",
       "    <tr>\n",
       "      <th>HomePlanet_None</th>\n",
       "      <td>0.000117</td>\n",
       "    </tr>\n",
       "  </tbody>\n",
       "</table>\n",
       "</div>"
      ],
      "text/plain": [
       "                           Feature Importance\n",
       "Age                                  0.189038\n",
       "RoomService                          0.111977\n",
       "FoodCourt                            0.103509\n",
       "ShoppingMall                         0.094486\n",
       "Spa                                  0.123428\n",
       "VRDeck                               0.120470\n",
       "CryoSleep_None                       0.005847\n",
       "CryoSleep_True                       0.075101\n",
       "Destination_None                     0.000133\n",
       "Destination_PSO J318.5-22            0.007821\n",
       "Destination_TRAPPIST-1e              0.015492\n",
       "VIP_None                             0.006113\n",
       "VIP_True                             0.003968\n",
       "Deck_B                               0.012338\n",
       "Deck_C                               0.010083\n",
       "Deck_D                               0.005069\n",
       "Deck_E                               0.014278\n",
       "Deck_F                               0.017932\n",
       "Deck_G                               0.016750\n",
       "Deck_None                            0.002271\n",
       "Deck_T                               0.000208\n",
       "Side_P                               0.008856\n",
       "Side_S                               0.009594\n",
       "HomePlanet_Europa                    0.023935\n",
       "HomePlanet_Mars                      0.021186\n",
       "HomePlanet_None                      0.000117"
      ]
     },
     "execution_count": 118,
     "metadata": {},
     "output_type": "execute_result"
    }
   ],
   "source": [
    "pd.DataFrame(index=X.columns,data=model.feature_importances_,columns=['Feature Importance'])"
   ]
  },
  {
   "cell_type": "code",
   "execution_count": 119,
   "id": "7a6ca582",
   "metadata": {
    "ExecuteTime": {
     "end_time": "2024-03-31T16:03:40.305385Z",
     "start_time": "2024-03-31T16:03:32.604944Z"
    }
   },
   "outputs": [],
   "source": [
    "test_error = []\n",
    "\n",
    "for n in range(1,40):\n",
    "    # Используем n случайных деревьев\n",
    "    model = RandomForestClassifier(n_estimators=n,max_features='auto')\n",
    "    model.fit(X_train,y_train)\n",
    "    test_preds = model.predict(X_test)\n",
    "    test_error.append(1-accuracy_score(test_preds,y_test))"
   ]
  },
  {
   "cell_type": "code",
   "execution_count": 120,
   "id": "d8e56a02",
   "metadata": {
    "ExecuteTime": {
     "end_time": "2024-03-31T16:03:42.592011Z",
     "start_time": "2024-03-31T16:03:42.428090Z"
    }
   },
   "outputs": [
    {
     "data": {
      "text/plain": [
       "<matplotlib.legend.Legend at 0x2af38271100>"
      ]
     },
     "execution_count": 120,
     "metadata": {},
     "output_type": "execute_result"
    },
    {
     "data": {
      "image/png": "[encoded data removed]",
      "text/plain": [
       "<Figure size 432x288 with 1 Axes>"
      ]
     },
     "metadata": {
      "needs_background": "light"
     },
     "output_type": "display_data"
    }
   ],
   "source": [
    "plt.plot(range(1,40),test_error,label='Test Error')\n",
    "plt.legend()"
   ]
  },
  {
   "cell_type": "code",
   "execution_count": 49,
   "id": "01c9bf14",
   "metadata": {
    "ExecuteTime": {
     "end_time": "2024-03-31T14:39:38.381129Z",
     "start_time": "2024-03-31T14:39:38.357785Z"
    }
   },
   "outputs": [],
   "source": [
    "X_train, X_test, y_train, y_test = train_test_split(X, y, test_size=0.15)"
   ]
  },
  {
   "cell_type": "code",
   "execution_count": 50,
   "id": "58d1fbac",
   "metadata": {
    "ExecuteTime": {
     "end_time": "2024-03-31T14:39:38.833858Z",
     "start_time": "2024-03-31T14:39:38.818284Z"
    }
   },
   "outputs": [],
   "source": [
    "from sklearn.model_selection import GridSearchCV"
   ]
  },
  {
   "cell_type": "code",
   "execution_count": 51,
   "id": "d495b2c0",
   "metadata": {
    "ExecuteTime": {
     "end_time": "2024-03-31T14:43:31.654562Z",
     "start_time": "2024-03-31T14:43:31.640357Z"
    }
   },
   "outputs": [],
   "source": [
    "criterion=['entropy', 'gini']\n",
    "n_estimators=[100,200,500,1000]\n",
    "max_features= [2,3,4]\n",
    "min_samples_split= [4,5,6]\n",
    "bootstrap = [True,False]\n",
    "oob_score = [True,False]"
   ]
  },
  {
   "cell_type": "code",
   "execution_count": 52,
   "id": "4b7c91e8",
   "metadata": {
    "ExecuteTime": {
     "end_time": "2024-03-31T14:43:32.512949Z",
     "start_time": "2024-03-31T14:43:32.499464Z"
    }
   },
   "outputs": [],
   "source": [
    "param_grid = {'criterion':criterion,\n",
    "              'n_estimators':n_estimators,\n",
    "              'max_features':max_features,\n",
    "              'min_samples_split':min_samples_split,\n",
    "              'bootstrap':bootstrap,\n",
    "              'oob_score':oob_score}"
   ]
  },
  {
   "cell_type": "code",
   "execution_count": 53,
   "id": "fa5ce539",
   "metadata": {
    "ExecuteTime": {
     "end_time": "2024-03-31T14:43:51.841819Z",
     "start_time": "2024-03-31T14:43:51.820731Z"
    }
   },
   "outputs": [],
   "source": [
    "rfc = RandomForestClassifier()\n",
    "grid = GridSearchCV(rfc,param_grid)"
   ]
  },
  {
   "cell_type": "code",
   "execution_count": 54,
   "id": "a5d11270",
   "metadata": {
    "ExecuteTime": {
     "end_time": "2024-03-31T15:55:37.814282Z",
     "start_time": "2024-03-31T14:44:00.349287Z"
    }
   },
   "outputs": [
    {
     "name": "stderr",
     "output_type": "stream",
     "text": [
      "C:\\Users\\79852\\anaconda3\\lib\\site-packages\\sklearn\\model_selection\\_validation.py:372: FitFailedWarning: \n",
      "360 fits failed out of a total of 1440.\n",
      "The score on these train-test partitions for these parameters will be set to nan.\n",
      "If these failures are not expected, you can try to debug them by setting error_score='raise'.\n",
      "\n",
      "Below are more details about the failures:\n",
      "--------------------------------------------------------------------------------\n",
      "360 fits failed with the following error:\n",
      "Traceback (most recent call last):\n",
      "  File \"C:\\Users\\79852\\anaconda3\\lib\\site-packages\\sklearn\\model_selection\\_validation.py\", line 680, in _fit_and_score\n",
      "    estimator.fit(X_train, y_train, **fit_params)\n",
      "  File \"C:\\Users\\79852\\anaconda3\\lib\\site-packages\\sklearn\\ensemble\\_forest.py\", line 411, in fit\n",
      "    raise ValueError(\"Out of bag estimation only available if bootstrap=True\")\n",
      "ValueError: Out of bag estimation only available if bootstrap=True\n",
      "\n",
      "  warnings.warn(some_fits_failed_message, FitFailedWarning)\n",
      "C:\\Users\\79852\\anaconda3\\lib\\site-packages\\sklearn\\model_selection\\_search.py:969: UserWarning: One or more of the test scores are non-finite: [0.78995706 0.79131042 0.79320487 0.79266351 0.79469401 0.79131024\n",
      " 0.79401687 0.79225728 0.78982128 0.79063392 0.79185206 0.78995724\n",
      " 0.79076897 0.79482933 0.79509978 0.79212251 0.7911751  0.79252865\n",
      " 0.78968642 0.79131033 0.79401733 0.79347597 0.7929347  0.79334074\n",
      " 0.79239333 0.79266296 0.79469291 0.79334028 0.79117492 0.79591142\n",
      " 0.79604655 0.79212178 0.79550574 0.79306937 0.79604747 0.79442255\n",
      " 0.79767138 0.79523483 0.79712983 0.79536969 0.7927992  0.79198674\n",
      " 0.79496465 0.79428733 0.79347569 0.79482942 0.79523474 0.79604738\n",
      " 0.79361101 0.79536969 0.79794082 0.79536941 0.79618224 0.7969936\n",
      " 0.7979411  0.79767101 0.79279846 0.79482814 0.7959116  0.79482869\n",
      " 0.79496474 0.79726487 0.79604701 0.79740047 0.79523501 0.7941532\n",
      " 0.7949641  0.7949641  0.79428815 0.79509951 0.7957761  0.7960471\n",
      " 0.79171601 0.78833269 0.78711456 0.79144537 0.79076906 0.7937466\n",
      " 0.79307011 0.79212224 0.79090548 0.7881971  0.79239324 0.79171592\n",
      " 0.79266369 0.79198701 0.79293442 0.79279965 0.78914543 0.79144583\n",
      " 0.79374679 0.79455805 0.79631774 0.79401733 0.7933401  0.79361092\n",
      " 0.79415192 0.79009238 0.79306956 0.79306992 0.79293406 0.79252838\n",
      " 0.79442274 0.79509951 0.79334028 0.79604683 0.79604674 0.79252847\n",
      " 0.7961826  0.79361101 0.79550583 0.7937467  0.79225756 0.79252792\n",
      " 0.79212297 0.79577692 0.79645278 0.79591142 0.79685938 0.79550565\n",
      " 0.7957761  0.79117437 0.79631746 0.79306956 0.79604637 0.79672378\n",
      " 0.79442347 0.79523492 0.79523483 0.79306965 0.79415201 0.79523474\n",
      " 0.79523501 0.79577637 0.79658865 0.7959116  0.79510024 0.79631774\n",
      " 0.79685883 0.79591123 0.79550565 0.79712946 0.79631765 0.79672406\n",
      "        nan 0.7842727         nan 0.78386692        nan 0.78467883\n",
      "        nan 0.78562615        nan 0.78549047        nan 0.78494929\n",
      "        nan 0.78657347        nan 0.78657347        nan 0.78494956\n",
      "        nan 0.78589697        nan 0.78724997        nan 0.78846865\n",
      "        nan 0.78711483        nan 0.78752069        nan 0.78752051\n",
      "        nan 0.78765601        nan 0.78779142        nan 0.78792656\n",
      "        nan 0.79022742        nan 0.78873865        nan 0.79063347\n",
      "        nan 0.78792674        nan 0.78928047        nan 0.78982147\n",
      "        nan 0.78819719        nan 0.78508451        nan 0.78779151\n",
      "        nan 0.7892801         nan 0.78657274        nan 0.78833251\n",
      "        nan 0.78982156        nan 0.78914451        nan 0.79036274\n",
      "        nan 0.79090456        nan 0.79063356        nan 0.79185179\n",
      "        nan 0.78143056        nan 0.7857611         nan 0.78467865\n",
      "        nan 0.78535524        nan 0.78481378        nan 0.78603201\n",
      "        nan 0.78576129        nan 0.78643769        nan 0.78508424\n",
      "        nan 0.78481406        nan 0.78752051        nan 0.7875206\n",
      "        nan 0.78521956        nan 0.79009192        nan 0.78779115\n",
      "        nan 0.78738519        nan 0.78792646        nan 0.78927974\n",
      "        nan 0.78914469        nan 0.78982101        nan 0.78833233\n",
      "        nan 0.78927974        nan 0.79036228        nan 0.7907686\n",
      "        nan 0.78697887        nan 0.78806224        nan 0.78887342\n",
      "        nan 0.78887369        nan 0.78697951        nan 0.78982083\n",
      "        nan 0.78982101        nan 0.79009174        nan 0.78887433\n",
      "        nan 0.78900947        nan 0.79306937        nan 0.79076869]\n",
      "  warnings.warn(\n",
      "C:\\Users\\79852\\anaconda3\\lib\\site-packages\\sklearn\\model_selection\\_search.py:984: RuntimeWarning: invalid value encountered in cast\n",
      "  results[\"rank_%s\" % key_name] = np.asarray(\n"
     ]
    },
    {
     "data": {
      "text/plain": [
       "GridSearchCV(estimator=RandomForestClassifier(),\n",
       "             param_grid={'bootstrap': [True, False],\n",
       "                         'criterion': ['entropy', 'gini'],\n",
       "                         'max_features': [2, 3, 4],\n",
       "                         'min_samples_split': [4, 5, 6],\n",
       "                         'n_estimators': [100, 200, 500, 1000],\n",
       "                         'oob_score': [True, False]})"
      ]
     },
     "execution_count": 54,
     "metadata": {},
     "output_type": "execute_result"
    }
   ],
   "source": [
    "grid.fit(X_train,y_train)"
   ]
  },
  {
   "cell_type": "code",
   "execution_count": 55,
   "id": "942f2f12",
   "metadata": {
    "ExecuteTime": {
     "end_time": "2024-03-31T15:57:06.034788Z",
     "start_time": "2024-03-31T15:57:06.020250Z"
    }
   },
   "outputs": [
    {
     "data": {
      "text/plain": [
       "{'bootstrap': True,\n",
       " 'criterion': 'entropy',\n",
       " 'max_features': 2,\n",
       " 'min_samples_split': 4,\n",
       " 'n_estimators': 100,\n",
       " 'oob_score': True}"
      ]
     },
     "execution_count": 55,
     "metadata": {},
     "output_type": "execute_result"
    }
   ],
   "source": [
    "grid.best_params_"
   ]
  },
  {
   "cell_type": "code",
   "execution_count": 56,
   "id": "725d6782",
   "metadata": {
    "ExecuteTime": {
     "end_time": "2024-03-31T15:57:14.320127Z",
     "start_time": "2024-03-31T15:57:14.254928Z"
    }
   },
   "outputs": [],
   "source": [
    "predictions = grid.predict(X_test)"
   ]
  },
  {
   "cell_type": "code",
   "execution_count": 57,
   "id": "21d59942",
   "metadata": {
    "ExecuteTime": {
     "end_time": "2024-03-31T15:57:16.852045Z",
     "start_time": "2024-03-31T15:57:16.819272Z"
    }
   },
   "outputs": [
    {
     "name": "stdout",
     "output_type": "stream",
     "text": [
      "              precision    recall  f1-score   support\n",
      "\n",
      "           0       0.75      0.83      0.79       624\n",
      "           1       0.83      0.75      0.79       680\n",
      "\n",
      "    accuracy                           0.79      1304\n",
      "   macro avg       0.79      0.79      0.79      1304\n",
      "weighted avg       0.79      0.79      0.79      1304\n",
      "\n"
     ]
    }
   ],
   "source": [
    "print(classification_report(y_test,predictions))"
   ]
  },
  {
   "cell_type": "code",
   "execution_count": 58,
   "id": "10fb156b",
   "metadata": {
    "ExecuteTime": {
     "end_time": "2024-03-31T15:57:20.637641Z",
     "start_time": "2024-03-31T15:57:20.324629Z"
    }
   },
   "outputs": [
    {
     "name": "stderr",
     "output_type": "stream",
     "text": [
      "C:\\Users\\79852\\anaconda3\\lib\\site-packages\\sklearn\\utils\\deprecation.py:87: FutureWarning: Function plot_confusion_matrix is deprecated; Function `plot_confusion_matrix` is deprecated in 1.0 and will be removed in 1.2. Use one of the class methods: ConfusionMatrixDisplay.from_predictions or ConfusionMatrixDisplay.from_estimator.\n",
      "  warnings.warn(msg, category=FutureWarning)\n"
     ]
    },
    {
     "data": {
      "text/plain": [
       "<sklearn.metrics._plot.confusion_matrix.ConfusionMatrixDisplay at 0x2af296ead60>"
      ]
     },
     "execution_count": 58,
     "metadata": {},
     "output_type": "execute_result"
    },
    {
     "data": {
      "image/png": "[encoded data removed]",
      "text/plain": [
       "<Figure size 432x288 with 2 Axes>"
      ]
     },
     "metadata": {
      "needs_background": "light"
     },
     "output_type": "display_data"
    }
   ],
   "source": [
    "plot_confusion_matrix(grid,X_test,y_test)"
   ]
  },
  {
   "cell_type": "code",
   "execution_count": 59,
   "id": "12ab44f9",
   "metadata": {
    "ExecuteTime": {
     "end_time": "2024-03-31T15:57:24.324935Z",
     "start_time": "2024-03-31T15:57:24.305809Z"
    }
   },
   "outputs": [
    {
     "data": {
      "text/plain": [
       "True"
      ]
     },
     "execution_count": 59,
     "metadata": {},
     "output_type": "execute_result"
    }
   ],
   "source": [
    "# Без нижнего подчёркивания в конце - получаем исходный параметр oob_score\n",
    "grid.best_estimator_.oob_score"
   ]
  },
  {
   "cell_type": "code",
   "execution_count": 60,
   "id": "2a542664",
   "metadata": {
    "ExecuteTime": {
     "end_time": "2024-03-31T15:57:26.923348Z",
     "start_time": "2024-03-31T15:57:26.909248Z"
    }
   },
   "outputs": [
    {
     "data": {
      "text/plain": [
       "0.788334010014887"
      ]
     },
     "execution_count": 60,
     "metadata": {},
     "output_type": "execute_result"
    }
   ],
   "source": [
    "# С нижним подчёркиванием в конце - получаем значение метрики oob_score, вычисленное при обучении модели\n",
    "grid.best_estimator_.oob_score_"
   ]
  },
  {
   "cell_type": "code",
   "execution_count": 62,
   "id": "bca01b30",
   "metadata": {
    "ExecuteTime": {
     "end_time": "2024-03-31T15:57:39.320418Z",
     "start_time": "2024-03-31T15:57:39.300443Z"
    }
   },
   "outputs": [],
   "source": [
    "## Количество деревьев -  Number of Estimators (Trees)\n",
    "\n",
    "# Давайте нарисуем график зависимости ошибки от количества деревьев (Error vs. Number of Estimators).\n",
    "\n",
    "from sklearn.metrics import accuracy_score"
   ]
  },
  {
   "cell_type": "code",
   "execution_count": 63,
   "id": "e6d439b6",
   "metadata": {
    "ExecuteTime": {
     "end_time": "2024-03-31T15:57:58.232900Z",
     "start_time": "2024-03-31T15:57:42.513432Z"
    }
   },
   "outputs": [],
   "source": [
    "errors = []\n",
    "misclassifications = []\n",
    "\n",
    "for n in range(1,64):\n",
    "    rfc = RandomForestClassifier( n_estimators=n,bootstrap=True,max_features= 2)\n",
    "    rfc.fit(X_train,y_train)\n",
    "    preds = rfc.predict(X_test)\n",
    "    err = 1 - accuracy_score(preds,y_test)\n",
    "    n_missed = np.sum(preds != y_test) # Более подробно об этой строке кода см. в видео-лекции!!\n",
    "    errors.append(err)\n",
    "    misclassifications.append(n_missed)"
   ]
  },
  {
   "cell_type": "code",
   "execution_count": 64,
   "id": "39292a21",
   "metadata": {
    "ExecuteTime": {
     "end_time": "2024-03-31T15:58:04.433855Z",
     "start_time": "2024-03-31T15:58:04.283322Z"
    }
   },
   "outputs": [
    {
     "data": {
      "text/plain": [
       "[<matplotlib.lines.Line2D at 0x2af33db8ee0>]"
      ]
     },
     "execution_count": 64,
     "metadata": {},
     "output_type": "execute_result"
    },
    {
     "data": {
      "image/png": "[encoded data removed]",
      "text/plain": [
       "<Figure size 432x288 with 1 Axes>"
      ]
     },
     "metadata": {
      "needs_background": "light"
     },
     "output_type": "display_data"
    }
   ],
   "source": [
    "plt.plot(range(1,64),errors)"
   ]
  },
  {
   "cell_type": "code",
   "execution_count": 65,
   "id": "58bb5611",
   "metadata": {
    "ExecuteTime": {
     "end_time": "2024-03-31T15:58:07.954847Z",
     "start_time": "2024-03-31T15:58:07.769172Z"
    }
   },
   "outputs": [
    {
     "data": {
      "text/plain": [
       "[<matplotlib.lines.Line2D at 0x2af37d9a970>]"
      ]
     },
     "execution_count": 65,
     "metadata": {},
     "output_type": "execute_result"
    },
    {
     "data": {
      "image/png": "[encoded data removed]",
      "text/plain": [
       "<Figure size 432x288 with 1 Axes>"
      ]
     },
     "metadata": {
      "needs_background": "light"
     },
     "output_type": "display_data"
    }
   ],
   "source": [
    "plt.plot(range(1,64),misclassifications)"
   ]
  },
  {
   "cell_type": "code",
   "execution_count": null,
   "id": "cf9caa8c",
   "metadata": {},
   "outputs": [],
   "source": []
  },
  {
   "cell_type": "code",
   "execution_count": 265,
   "id": "3f7d38b3",
   "metadata": {
    "ExecuteTime": {
     "end_time": "2024-03-29T12:49:37.972872Z",
     "start_time": "2024-03-29T12:49:37.922390Z"
    }
   },
   "outputs": [
    {
     "data": {
      "text/plain": [
       "DecisionTreeClassifier(criterion='entropy', max_depth=8, min_samples_leaf=10)"
      ]
     },
     "execution_count": 265,
     "metadata": {},
     "output_type": "execute_result"
    }
   ],
   "source": [
    "entropy_tree = DecisionTreeClassifier(criterion='entropy', max_depth=8, min_samples_leaf=10)\n",
    "entropy_tree.fit(X_train,y_train)\n",
    "# max_depth=8 - 77%\n",
    "# max_leaf_nodes=10 - 76"
   ]
  },
  {
   "cell_type": "code",
   "execution_count": 266,
   "id": "357ea779",
   "metadata": {
    "ExecuteTime": {
     "end_time": "2024-03-29T12:49:38.206764Z",
     "start_time": "2024-03-29T12:49:38.181590Z"
    }
   },
   "outputs": [
    {
     "name": "stdout",
     "output_type": "stream",
     "text": [
      "              precision    recall  f1-score   support\n",
      "\n",
      "           0       0.81      0.70      0.75       851\n",
      "           1       0.75      0.84      0.79       888\n",
      "\n",
      "    accuracy                           0.78      1739\n",
      "   macro avg       0.78      0.77      0.77      1739\n",
      "weighted avg       0.78      0.78      0.77      1739\n",
      "\n"
     ]
    }
   ],
   "source": [
    "report_model(entropy_tree)"
   ]
  },
  {
   "cell_type": "code",
   "execution_count": 235,
   "id": "c7f7d804",
   "metadata": {
    "ExecuteTime": {
     "end_time": "2024-03-29T11:34:01.767395Z",
     "start_time": "2024-03-29T11:34:01.735367Z"
    }
   },
   "outputs": [
    {
     "data": {
      "text/html": [
       "<div>\n",
       "<style scoped>\n",
       "    .dataframe tbody tr th:only-of-type {\n",
       "        vertical-align: middle;\n",
       "    }\n",
       "\n",
       "    .dataframe tbody tr th {\n",
       "        vertical-align: top;\n",
       "    }\n",
       "\n",
       "    .dataframe thead th {\n",
       "        text-align: right;\n",
       "    }\n",
       "</style>\n",
       "<table border=\"1\" class=\"dataframe\">\n",
       "  <thead>\n",
       "    <tr style=\"text-align: right;\">\n",
       "      <th></th>\n",
       "      <th>Feature Importance</th>\n",
       "    </tr>\n",
       "  </thead>\n",
       "  <tbody>\n",
       "    <tr>\n",
       "      <th>CryoSleep_True</th>\n",
       "      <td>0.243105</td>\n",
       "    </tr>\n",
       "    <tr>\n",
       "      <th>Age</th>\n",
       "      <td>0.140604</td>\n",
       "    </tr>\n",
       "    <tr>\n",
       "      <th>VRDeck</th>\n",
       "      <td>0.110428</td>\n",
       "    </tr>\n",
       "    <tr>\n",
       "      <th>Spa</th>\n",
       "      <td>0.104720</td>\n",
       "    </tr>\n",
       "    <tr>\n",
       "      <th>FoodCourt</th>\n",
       "      <td>0.093784</td>\n",
       "    </tr>\n",
       "    <tr>\n",
       "      <th>RoomService</th>\n",
       "      <td>0.077291</td>\n",
       "    </tr>\n",
       "    <tr>\n",
       "      <th>ShoppingMall</th>\n",
       "      <td>0.071650</td>\n",
       "    </tr>\n",
       "    <tr>\n",
       "      <th>Deck_G</th>\n",
       "      <td>0.040613</td>\n",
       "    </tr>\n",
       "    <tr>\n",
       "      <th>Destination_TRAPPIST-1e</th>\n",
       "      <td>0.022227</td>\n",
       "    </tr>\n",
       "    <tr>\n",
       "      <th>Deck_E</th>\n",
       "      <td>0.015523</td>\n",
       "    </tr>\n",
       "    <tr>\n",
       "      <th>Side_S</th>\n",
       "      <td>0.011372</td>\n",
       "    </tr>\n",
       "    <tr>\n",
       "      <th>Side_P</th>\n",
       "      <td>0.008991</td>\n",
       "    </tr>\n",
       "    <tr>\n",
       "      <th>HomePlanet_Europa</th>\n",
       "      <td>0.008199</td>\n",
       "    </tr>\n",
       "    <tr>\n",
       "      <th>Destination_PSO J318.5-22</th>\n",
       "      <td>0.007721</td>\n",
       "    </tr>\n",
       "    <tr>\n",
       "      <th>VIP_None</th>\n",
       "      <td>0.007577</td>\n",
       "    </tr>\n",
       "    <tr>\n",
       "      <th>Deck_F</th>\n",
       "      <td>0.007445</td>\n",
       "    </tr>\n",
       "    <tr>\n",
       "      <th>HomePlanet_Mars</th>\n",
       "      <td>0.006228</td>\n",
       "    </tr>\n",
       "    <tr>\n",
       "      <th>Deck_C</th>\n",
       "      <td>0.006161</td>\n",
       "    </tr>\n",
       "    <tr>\n",
       "      <th>Deck_D</th>\n",
       "      <td>0.004444</td>\n",
       "    </tr>\n",
       "    <tr>\n",
       "      <th>Deck_B</th>\n",
       "      <td>0.004376</td>\n",
       "    </tr>\n",
       "    <tr>\n",
       "      <th>Deck_None</th>\n",
       "      <td>0.003132</td>\n",
       "    </tr>\n",
       "    <tr>\n",
       "      <th>CryoSleep_None</th>\n",
       "      <td>0.002977</td>\n",
       "    </tr>\n",
       "    <tr>\n",
       "      <th>HomePlanet_None</th>\n",
       "      <td>0.000917</td>\n",
       "    </tr>\n",
       "    <tr>\n",
       "      <th>VIP_True</th>\n",
       "      <td>0.000516</td>\n",
       "    </tr>\n",
       "    <tr>\n",
       "      <th>Deck_T</th>\n",
       "      <td>0.000000</td>\n",
       "    </tr>\n",
       "    <tr>\n",
       "      <th>Destination_None</th>\n",
       "      <td>0.000000</td>\n",
       "    </tr>\n",
       "  </tbody>\n",
       "</table>\n",
       "</div>"
      ],
      "text/plain": [
       "                           Feature Importance\n",
       "CryoSleep_True                       0.243105\n",
       "Age                                  0.140604\n",
       "VRDeck                               0.110428\n",
       "Spa                                  0.104720\n",
       "FoodCourt                            0.093784\n",
       "RoomService                          0.077291\n",
       "ShoppingMall                         0.071650\n",
       "Deck_G                               0.040613\n",
       "Destination_TRAPPIST-1e              0.022227\n",
       "Deck_E                               0.015523\n",
       "Side_S                               0.011372\n",
       "Side_P                               0.008991\n",
       "HomePlanet_Europa                    0.008199\n",
       "Destination_PSO J318.5-22            0.007721\n",
       "VIP_None                             0.007577\n",
       "Deck_F                               0.007445\n",
       "HomePlanet_Mars                      0.006228\n",
       "Deck_C                               0.006161\n",
       "Deck_D                               0.004444\n",
       "Deck_B                               0.004376\n",
       "Deck_None                            0.003132\n",
       "CryoSleep_None                       0.002977\n",
       "HomePlanet_None                      0.000917\n",
       "VIP_True                             0.000516\n",
       "Deck_T                               0.000000\n",
       "Destination_None                     0.000000"
      ]
     },
     "execution_count": 235,
     "metadata": {},
     "output_type": "execute_result"
    }
   ],
   "source": [
    "pd.DataFrame(index=X.columns,data=model.feature_importances_,columns=['Feature Importance'])\\\n",
    ".sort_values('Feature Importance', ascending=False)"
   ]
  },
  {
   "cell_type": "code",
   "execution_count": 269,
   "id": "4d3f8be9",
   "metadata": {
    "ExecuteTime": {
     "end_time": "2024-03-29T12:50:33.376303Z",
     "start_time": "2024-03-29T12:50:33.322606Z"
    }
   },
   "outputs": [
    {
     "data": {
      "text/plain": [
       "DecisionTreeClassifier(max_depth=8, min_samples_leaf=10)"
      ]
     },
     "execution_count": 269,
     "metadata": {},
     "output_type": "execute_result"
    }
   ],
   "source": [
    "des_tree = DecisionTreeClassifier(max_depth=8, min_samples_leaf=10)\n",
    "des_tree.fit(X_train,y_train)"
   ]
  },
  {
   "cell_type": "code",
   "execution_count": 270,
   "id": "5f5381f3",
   "metadata": {
    "ExecuteTime": {
     "end_time": "2024-03-29T12:50:33.982042Z",
     "start_time": "2024-03-29T12:50:33.949165Z"
    }
   },
   "outputs": [
    {
     "name": "stdout",
     "output_type": "stream",
     "text": [
      "              precision    recall  f1-score   support\n",
      "\n",
      "           0       0.82      0.70      0.76       851\n",
      "           1       0.75      0.85      0.80       888\n",
      "\n",
      "    accuracy                           0.78      1739\n",
      "   macro avg       0.78      0.78      0.78      1739\n",
      "weighted avg       0.78      0.78      0.78      1739\n",
      "\n"
     ]
    }
   ],
   "source": [
    "report_model(des_tree)"
   ]
  },
  {
   "cell_type": "code",
   "execution_count": null,
   "id": "3a2472df",
   "metadata": {},
   "outputs": [],
   "source": []
  },
  {
   "cell_type": "code",
   "execution_count": 253,
   "id": "7cbed506",
   "metadata": {
    "ExecuteTime": {
     "end_time": "2024-03-29T12:38:31.860071Z",
     "start_time": "2024-03-29T12:38:31.844252Z"
    }
   },
   "outputs": [],
   "source": [
    "model = DecisionTreeClassifier()"
   ]
  },
  {
   "cell_type": "code",
   "execution_count": 254,
   "id": "6dc44a31",
   "metadata": {
    "ExecuteTime": {
     "end_time": "2024-03-29T12:38:32.545862Z",
     "start_time": "2024-03-29T12:38:32.537333Z"
    }
   },
   "outputs": [],
   "source": [
    "param_grid = {'criterion': ['gini', 'entropy'],\n",
    "              'max_depth': list(range(2,11)),\n",
    "              'min_samples_leaf': list(range(2,11)),\n",
    "              'max_features': [None, 'sqrt', 'log'],\n",
    "              'max_leaf_nodes': list(range(2,11))}"
   ]
  },
  {
   "cell_type": "code",
   "execution_count": 255,
   "id": "74ba9441",
   "metadata": {
    "ExecuteTime": {
     "end_time": "2024-03-29T12:38:33.212754Z",
     "start_time": "2024-03-29T12:38:33.205314Z"
    }
   },
   "outputs": [],
   "source": [
    "from sklearn.model_selection import GridSearchCV"
   ]
  },
  {
   "cell_type": "code",
   "execution_count": 256,
   "id": "e868250b",
   "metadata": {
    "ExecuteTime": {
     "end_time": "2024-03-29T12:38:33.740413Z",
     "start_time": "2024-03-29T12:38:33.721979Z"
    }
   },
   "outputs": [],
   "source": [
    "grid = GridSearchCV(model,param_grid)"
   ]
  },
  {
   "cell_type": "code",
   "execution_count": 257,
   "id": "a363e263",
   "metadata": {
    "ExecuteTime": {
     "end_time": "2024-03-29T12:42:21.455529Z",
     "start_time": "2024-03-29T12:38:34.310324Z"
    }
   },
   "outputs": [
    {
     "name": "stderr",
     "output_type": "stream",
     "text": [
      "C:\\Users\\79852\\anaconda3\\lib\\site-packages\\sklearn\\model_selection\\_validation.py:372: FitFailedWarning: \n",
      "7290 fits failed out of a total of 21870.\n",
      "The score on these train-test partitions for these parameters will be set to nan.\n",
      "If these failures are not expected, you can try to debug them by setting error_score='raise'.\n",
      "\n",
      "Below are more details about the failures:\n",
      "--------------------------------------------------------------------------------\n",
      "7290 fits failed with the following error:\n",
      "Traceback (most recent call last):\n",
      "  File \"C:\\Users\\79852\\anaconda3\\lib\\site-packages\\sklearn\\model_selection\\_validation.py\", line 680, in _fit_and_score\n",
      "    estimator.fit(X_train, y_train, **fit_params)\n",
      "  File \"C:\\Users\\79852\\anaconda3\\lib\\site-packages\\sklearn\\tree\\_classes.py\", line 937, in fit\n",
      "    super().fit(\n",
      "  File \"C:\\Users\\79852\\anaconda3\\lib\\site-packages\\sklearn\\tree\\_classes.py\", line 281, in fit\n",
      "    raise ValueError(\n",
      "ValueError: Invalid value for max_features. Allowed string values are 'auto', 'sqrt' or 'log2'.\n",
      "\n",
      "  warnings.warn(some_fits_failed_message, FitFailedWarning)\n",
      "C:\\Users\\79852\\anaconda3\\lib\\site-packages\\sklearn\\model_selection\\_search.py:969: UserWarning: One or more of the test scores are non-finite: [0.7197293 0.7197293 0.7197293 ...       nan       nan       nan]\n",
      "  warnings.warn(\n",
      "C:\\Users\\79852\\anaconda3\\lib\\site-packages\\sklearn\\model_selection\\_search.py:984: RuntimeWarning: invalid value encountered in cast\n",
      "  results[\"rank_%s\" % key_name] = np.asarray(\n"
     ]
    },
    {
     "data": {
      "text/plain": [
       "GridSearchCV(estimator=DecisionTreeClassifier(),\n",
       "             param_grid={'criterion': ['gini', 'entropy'],\n",
       "                         'max_depth': [2, 3, 4, 5, 6, 7, 8, 9, 10],\n",
       "                         'max_features': [None, 'sqrt', 'log'],\n",
       "                         'max_leaf_nodes': [2, 3, 4, 5, 6, 7, 8, 9, 10],\n",
       "                         'min_samples_leaf': [2, 3, 4, 5, 6, 7, 8, 9, 10]})"
      ]
     },
     "execution_count": 257,
     "metadata": {},
     "output_type": "execute_result"
    }
   ],
   "source": [
    "grid.fit(X_train,y_train)"
   ]
  },
  {
   "cell_type": "code",
   "execution_count": 258,
   "id": "9a4951ed",
   "metadata": {
    "ExecuteTime": {
     "end_time": "2024-03-29T12:48:20.032218Z",
     "start_time": "2024-03-29T12:48:20.019049Z"
    }
   },
   "outputs": [
    {
     "data": {
      "text/plain": [
       "{'criterion': 'gini',\n",
       " 'max_depth': 2,\n",
       " 'max_features': None,\n",
       " 'max_leaf_nodes': 2,\n",
       " 'min_samples_leaf': 2}"
      ]
     },
     "execution_count": 258,
     "metadata": {},
     "output_type": "execute_result"
    }
   ],
   "source": [
    "grid.best_params_"
   ]
  },
  {
   "cell_type": "code",
   "execution_count": 259,
   "id": "ea58a51d",
   "metadata": {
    "ExecuteTime": {
     "end_time": "2024-03-29T12:48:24.945505Z",
     "start_time": "2024-03-29T12:48:24.932035Z"
    }
   },
   "outputs": [],
   "source": [
    "from sklearn.metrics import accuracy_score,confusion_matrix,classification_report,plot_confusion_matrix"
   ]
  },
  {
   "cell_type": "code",
   "execution_count": 260,
   "id": "77492f76",
   "metadata": {
    "ExecuteTime": {
     "end_time": "2024-03-29T12:48:30.327259Z",
     "start_time": "2024-03-29T12:48:30.309162Z"
    }
   },
   "outputs": [],
   "source": [
    "y_pred = grid.predict(X_test)"
   ]
  },
  {
   "cell_type": "code",
   "execution_count": 261,
   "id": "216ec55d",
   "metadata": {
    "ExecuteTime": {
     "end_time": "2024-03-29T12:48:36.589767Z",
     "start_time": "2024-03-29T12:48:36.400970Z"
    }
   },
   "outputs": [
    {
     "name": "stderr",
     "output_type": "stream",
     "text": [
      "C:\\Users\\79852\\anaconda3\\lib\\site-packages\\sklearn\\utils\\deprecation.py:87: FutureWarning: Function plot_confusion_matrix is deprecated; Function `plot_confusion_matrix` is deprecated in 1.0 and will be removed in 1.2. Use one of the class methods: ConfusionMatrixDisplay.from_predictions or ConfusionMatrixDisplay.from_estimator.\n",
      "  warnings.warn(msg, category=FutureWarning)\n"
     ]
    },
    {
     "data": {
      "image/png": "[encoded data removed]",
      "text/plain": [
       "<Figure size 432x288 with 2 Axes>"
      ]
     },
     "metadata": {
      "needs_background": "light"
     },
     "output_type": "display_data"
    }
   ],
   "source": [
    "plot_confusion_matrix(grid,X_test,y_test);"
   ]
  },
  {
   "cell_type": "code",
   "execution_count": 262,
   "id": "74bba08d",
   "metadata": {
    "ExecuteTime": {
     "end_time": "2024-03-29T12:48:41.106930Z",
     "start_time": "2024-03-29T12:48:41.079728Z"
    }
   },
   "outputs": [
    {
     "name": "stdout",
     "output_type": "stream",
     "text": [
      "              precision    recall  f1-score   support\n",
      "\n",
      "           0       0.66      0.86      0.75       851\n",
      "           1       0.81      0.57      0.67       888\n",
      "\n",
      "    accuracy                           0.71      1739\n",
      "   macro avg       0.74      0.72      0.71      1739\n",
      "weighted avg       0.74      0.71      0.71      1739\n",
      "\n"
     ]
    }
   ],
   "source": [
    "print(classification_report(y_test,y_pred))"
   ]
  },
  {
   "cell_type": "code",
   "execution_count": 263,
   "id": "44ea7ca7",
   "metadata": {
    "ExecuteTime": {
     "end_time": "2024-03-29T12:48:45.649794Z",
     "start_time": "2024-03-29T12:48:45.638268Z"
    }
   },
   "outputs": [
    {
     "data": {
      "text/plain": [
       "{'cv': None,\n",
       " 'error_score': nan,\n",
       " 'estimator__ccp_alpha': 0.0,\n",
       " 'estimator__class_weight': None,\n",
       " 'estimator__criterion': 'gini',\n",
       " 'estimator__max_depth': None,\n",
       " 'estimator__max_features': None,\n",
       " 'estimator__max_leaf_nodes': None,\n",
       " 'estimator__min_impurity_decrease': 0.0,\n",
       " 'estimator__min_samples_leaf': 1,\n",
       " 'estimator__min_samples_split': 2,\n",
       " 'estimator__min_weight_fraction_leaf': 0.0,\n",
       " 'estimator__random_state': None,\n",
       " 'estimator__splitter': 'best',\n",
       " 'estimator': DecisionTreeClassifier(),\n",
       " 'n_jobs': None,\n",
       " 'param_grid': {'criterion': ['gini', 'entropy'],\n",
       "  'max_depth': [2, 3, 4, 5, 6, 7, 8, 9, 10],\n",
       "  'min_samples_leaf': [2, 3, 4, 5, 6, 7, 8, 9, 10],\n",
       "  'max_features': [None, 'sqrt', 'log'],\n",
       "  'max_leaf_nodes': [2, 3, 4, 5, 6, 7, 8, 9, 10]},\n",
       " 'pre_dispatch': '2*n_jobs',\n",
       " 'refit': True,\n",
       " 'return_train_score': False,\n",
       " 'scoring': None,\n",
       " 'verbose': 0}"
      ]
     },
     "execution_count": 263,
     "metadata": {},
     "output_type": "execute_result"
    }
   ],
   "source": [
    "grid.get_params()"
   ]
  },
  {
   "cell_type": "code",
   "execution_count": null,
   "id": "0bf09b73",
   "metadata": {},
   "outputs": [],
   "source": []
  },
  {
   "cell_type": "code",
   "execution_count": 271,
   "id": "db03aa9d",
   "metadata": {
    "ExecuteTime": {
     "end_time": "2024-03-29T12:51:57.141513Z",
     "start_time": "2024-03-29T12:51:57.120450Z"
    }
   },
   "outputs": [],
   "source": [
    "final_model = DecisionTreeClassifier(max_depth=8, min_samples_leaf=10)"
   ]
  },
  {
   "cell_type": "code",
   "execution_count": 272,
   "id": "8e044965",
   "metadata": {
    "ExecuteTime": {
     "end_time": "2024-03-29T12:52:14.499373Z",
     "start_time": "2024-03-29T12:52:14.445596Z"
    }
   },
   "outputs": [
    {
     "data": {
      "text/plain": [
       "DecisionTreeClassifier(max_depth=8, min_samples_leaf=10)"
      ]
     },
     "execution_count": 272,
     "metadata": {},
     "output_type": "execute_result"
    }
   ],
   "source": [
    "final_model.fit(X, y)"
   ]
  },
  {
   "cell_type": "code",
   "execution_count": 273,
   "id": "de928d33",
   "metadata": {
    "ExecuteTime": {
     "end_time": "2024-03-29T12:52:22.324734Z",
     "start_time": "2024-03-29T12:52:22.312179Z"
    }
   },
   "outputs": [],
   "source": [
    "final_pred = final_model.predict(X)"
   ]
  },
  {
   "cell_type": "code",
   "execution_count": 274,
   "id": "54e2b81c",
   "metadata": {
    "ExecuteTime": {
     "end_time": "2024-03-29T12:52:28.963019Z",
     "start_time": "2024-03-29T12:52:28.910569Z"
    }
   },
   "outputs": [
    {
     "name": "stdout",
     "output_type": "stream",
     "text": [
      "              precision    recall  f1-score   support\n",
      "\n",
      "           0       0.80      0.81      0.80      4315\n",
      "           1       0.81      0.80      0.80      4378\n",
      "\n",
      "    accuracy                           0.80      8693\n",
      "   macro avg       0.80      0.80      0.80      8693\n",
      "weighted avg       0.80      0.80      0.80      8693\n",
      "\n"
     ]
    }
   ],
   "source": [
    "print(classification_report(y,final_pred))"
   ]
  },
  {
   "cell_type": "code",
   "execution_count": 137,
   "id": "2b690f5d",
   "metadata": {
    "ExecuteTime": {
     "end_time": "2024-03-31T16:10:27.226944Z",
     "start_time": "2024-03-31T16:10:27.125082Z"
    }
   },
   "outputs": [],
   "source": [
    "result = clf.predict(desired_col)"
   ]
  },
  {
   "cell_type": "code",
   "execution_count": 131,
   "id": "96f09dc1",
   "metadata": {
    "ExecuteTime": {
     "end_time": "2024-03-31T16:06:37.222065Z",
     "start_time": "2024-03-31T16:06:37.156145Z"
    }
   },
   "outputs": [],
   "source": [
    "test = pd.read_csv('test.csv')"
   ]
  },
  {
   "cell_type": "code",
   "execution_count": 132,
   "id": "2abff855",
   "metadata": {
    "ExecuteTime": {
     "end_time": "2024-03-31T16:06:45.141680Z",
     "start_time": "2024-03-31T16:06:45.120123Z"
    }
   },
   "outputs": [
    {
     "name": "stdout",
     "output_type": "stream",
     "text": [
      "(4277, 2)\n"
     ]
    }
   ],
   "source": [
    "submission = pd.DataFrame({'PassengerId':test['PassengerId'],'Transported':result})\n",
    "submission['Transported'] = submission['Transported'].astype(int)\n",
    "print(submission.shape)"
   ]
  },
  {
   "cell_type": "code",
   "execution_count": 133,
   "id": "47181064",
   "metadata": {
    "ExecuteTime": {
     "end_time": "2024-03-31T16:06:48.884257Z",
     "start_time": "2024-03-31T16:06:48.860754Z"
    }
   },
   "outputs": [
    {
     "data": {
      "text/plain": [
       "0    2272\n",
       "1    2005\n",
       "Name: Transported, dtype: int64"
      ]
     },
     "execution_count": 133,
     "metadata": {},
     "output_type": "execute_result"
    }
   ],
   "source": [
    "submission['Transported'].value_counts()"
   ]
  },
  {
   "cell_type": "code",
   "execution_count": 134,
   "id": "f0b1a86f",
   "metadata": {
    "ExecuteTime": {
     "end_time": "2024-03-31T16:06:52.979286Z",
     "start_time": "2024-03-31T16:06:52.961449Z"
    }
   },
   "outputs": [],
   "source": [
    "submission['Transported'] = submission['Transported'].astype('bool')"
   ]
  },
  {
   "cell_type": "code",
   "execution_count": 135,
   "id": "1f16f891",
   "metadata": {
    "ExecuteTime": {
     "end_time": "2024-03-31T16:07:09.908398Z",
     "start_time": "2024-03-31T16:07:09.864491Z"
    }
   },
   "outputs": [
    {
     "name": "stdout",
     "output_type": "stream",
     "text": [
      "Saved file: space_preds.csv\n"
     ]
    }
   ],
   "source": [
    "filename = 'space_preds.csv'\n",
    "submission.to_csv(filename,index=False)\n",
    "print('Saved file: ' + filename)"
   ]
  },
  {
   "cell_type": "code",
   "execution_count": 121,
   "id": "8cc1e649",
   "metadata": {
    "ExecuteTime": {
     "end_time": "2024-03-31T16:04:17.888150Z",
     "start_time": "2024-03-31T16:04:17.878457Z"
    }
   },
   "outputs": [],
   "source": [
    "from sklearn.model_selection import cross_validate\n",
    "from sklearn.model_selection import cross_val_score\n",
    "from sklearn.model_selection import cross_val_predict\n",
    "\n",
    "from sklearn.metrics import confusion_matrix,classification_report,plot_confusion_matrix,accuracy_score"
   ]
  },
  {
   "cell_type": "code",
   "execution_count": 129,
   "id": "6411836e",
   "metadata": {
    "ExecuteTime": {
     "end_time": "2024-03-31T16:06:01.417302Z",
     "start_time": "2024-03-31T16:05:45.986219Z"
    }
   },
   "outputs": [
    {
     "name": "stdout",
     "output_type": "stream",
     "text": [
      "RF Accuracy: 94.25%\n",
      "The cross validated score for Random forest is: 78.97\n"
     ]
    },
    {
     "data": {
      "text/plain": [
       "Text(0.5, 1.05, 'Confusion_matrix for RF')"
      ]
     },
     "execution_count": 129,
     "metadata": {},
     "output_type": "execute_result"
    },
    {
     "data": {
      "image/png": "[encoded data removed]",
      "text/plain": [
       "<Figure size 432x288 with 2 Axes>"
      ]
     },
     "metadata": {
      "needs_background": "light"
     },
     "output_type": "display_data"
    }
   ],
   "source": [
    "clf= RandomForestClassifier(n_estimators=128, bootstrap=True, max_features=2, criterion='entropy',\n",
    "                              min_samples_split=4, n_jobs=-1)\n",
    "clf.fit(X,y)\n",
    "print(\"RF Accuracy: \"+repr(round(clf.score(X, y) * 100, 2)) + \"%\")\n",
    "\n",
    "result_rf=cross_val_score(clf, X, y, cv=10, scoring='accuracy')\n",
    "print('The cross validated score for Random forest is:',round(result_rf.mean()*100,2))\n",
    "y_pred = cross_val_predict(clf, X, y, cv=10)\n",
    "sns.heatmap(confusion_matrix(y,y_pred),annot=True,fmt='3.0f',cmap=\"summer\")\n",
    "plt.title('Confusion_matrix for RF', y=1.05, size=15)"
   ]
  },
  {
   "cell_type": "code",
   "execution_count": null,
   "id": "7a08ac5d",
   "metadata": {},
   "outputs": [],
   "source": []
  }
 ],
 "metadata": {
  "kernelspec": {
   "display_name": "Python 3 (ipykernel)",
   "language": "python",
   "name": "python3"
  },
  "language_info": {
   "codemirror_mode": {
    "name": "ipython",
    "version": 3
   },
   "file_extension": ".py",
   "mimetype": "text/x-python",
   "name": "python",
   "nbconvert_exporter": "python",
   "pygments_lexer": "ipython3",
   "version": "3.9.12"
  }
 },
 "nbformat": 4,
 "nbformat_minor": 5
}
