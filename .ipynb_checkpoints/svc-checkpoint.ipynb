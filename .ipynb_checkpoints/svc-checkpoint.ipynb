{
 "cells": [
  {
   "cell_type": "code",
   "execution_count": 1,
   "id": "f6646de5",
   "metadata": {
    "ExecuteTime": {
     "end_time": "2024-03-24T14:46:04.880223Z",
     "start_time": "2024-03-24T14:45:59.053681Z"
    }
   },
   "outputs": [],
   "source": [
    "import numpy as np\n",
    "import pandas as pd\n",
    "import matplotlib.pyplot as plt\n",
    "import seaborn as sns"
   ]
  },
  {
   "cell_type": "code",
   "execution_count": 2,
   "id": "11b30706",
   "metadata": {
    "ExecuteTime": {
     "end_time": "2024-03-24T14:46:04.942768Z",
     "start_time": "2024-03-24T14:46:04.886071Z"
    }
   },
   "outputs": [],
   "source": [
    "df = pd.read_csv('cleaned_df.csv')"
   ]
  },
  {
   "cell_type": "code",
   "execution_count": 3,
   "id": "8b526cb1",
   "metadata": {
    "ExecuteTime": {
     "end_time": "2024-03-24T14:46:05.004357Z",
     "start_time": "2024-03-24T14:46:04.946747Z"
    }
   },
   "outputs": [
    {
     "name": "stdout",
     "output_type": "stream",
     "text": [
      "<class 'pandas.core.frame.DataFrame'>\n",
      "RangeIndex: 12970 entries, 0 to 12969\n",
      "Data columns (total 13 columns):\n",
      " #   Column        Non-Null Count  Dtype  \n",
      "---  ------        --------------  -----  \n",
      " 0   CryoSleep     12970 non-null  object \n",
      " 1   Destination   12970 non-null  object \n",
      " 2   Age           12970 non-null  float64\n",
      " 3   VIP           12970 non-null  object \n",
      " 4   RoomService   12970 non-null  float64\n",
      " 5   FoodCourt     12970 non-null  float64\n",
      " 6   ShoppingMall  12970 non-null  float64\n",
      " 7   Spa           12970 non-null  float64\n",
      " 8   VRDeck        12970 non-null  float64\n",
      " 9   Transported   8693 non-null   float64\n",
      " 10  Deck          12970 non-null  object \n",
      " 11  Side          12970 non-null  object \n",
      " 12  HomePlanet    12970 non-null  object \n",
      "dtypes: float64(7), object(6)\n",
      "memory usage: 1.3+ MB\n"
     ]
    }
   ],
   "source": [
    "df.info()"
   ]
  },
  {
   "cell_type": "code",
   "execution_count": 4,
   "id": "c324c76f",
   "metadata": {
    "ExecuteTime": {
     "end_time": "2024-03-24T14:46:05.035999Z",
     "start_time": "2024-03-24T14:46:05.007312Z"
    }
   },
   "outputs": [],
   "source": [
    "df = pd.get_dummies(df, drop_first=True)"
   ]
  },
  {
   "cell_type": "code",
   "execution_count": 5,
   "id": "dad0f713",
   "metadata": {
    "ExecuteTime": {
     "end_time": "2024-03-24T14:46:05.051976Z",
     "start_time": "2024-03-24T14:46:05.039418Z"
    }
   },
   "outputs": [],
   "source": [
    "# Data to be predicted\n",
    "desired_col = df[df['Transported'].isnull()]\n",
    "desired_col = desired_col.drop(['Transported'], axis = 1)"
   ]
  },
  {
   "cell_type": "code",
   "execution_count": 6,
   "id": "61b741f4",
   "metadata": {
    "ExecuteTime": {
     "end_time": "2024-03-24T14:46:05.098290Z",
     "start_time": "2024-03-24T14:46:05.054920Z"
    }
   },
   "outputs": [
    {
     "data": {
      "text/html": [
       "<div>\n",
       "<style scoped>\n",
       "    .dataframe tbody tr th:only-of-type {\n",
       "        vertical-align: middle;\n",
       "    }\n",
       "\n",
       "    .dataframe tbody tr th {\n",
       "        vertical-align: top;\n",
       "    }\n",
       "\n",
       "    .dataframe thead th {\n",
       "        text-align: right;\n",
       "    }\n",
       "</style>\n",
       "<table border=\"1\" class=\"dataframe\">\n",
       "  <thead>\n",
       "    <tr style=\"text-align: right;\">\n",
       "      <th></th>\n",
       "      <th>Age</th>\n",
       "      <th>RoomService</th>\n",
       "      <th>FoodCourt</th>\n",
       "      <th>ShoppingMall</th>\n",
       "      <th>Spa</th>\n",
       "      <th>VRDeck</th>\n",
       "      <th>CryoSleep_None</th>\n",
       "      <th>CryoSleep_True</th>\n",
       "      <th>Destination_None</th>\n",
       "      <th>Destination_PSO J318.5-22</th>\n",
       "      <th>...</th>\n",
       "      <th>Deck_E</th>\n",
       "      <th>Deck_F</th>\n",
       "      <th>Deck_G</th>\n",
       "      <th>Deck_None</th>\n",
       "      <th>Deck_T</th>\n",
       "      <th>Side_P</th>\n",
       "      <th>Side_S</th>\n",
       "      <th>HomePlanet_Europa</th>\n",
       "      <th>HomePlanet_Mars</th>\n",
       "      <th>HomePlanet_None</th>\n",
       "    </tr>\n",
       "  </thead>\n",
       "  <tbody>\n",
       "    <tr>\n",
       "      <th>8693</th>\n",
       "      <td>27.0</td>\n",
       "      <td>0.0</td>\n",
       "      <td>0.0</td>\n",
       "      <td>0.0</td>\n",
       "      <td>0.0</td>\n",
       "      <td>0.0</td>\n",
       "      <td>0</td>\n",
       "      <td>1</td>\n",
       "      <td>0</td>\n",
       "      <td>0</td>\n",
       "      <td>...</td>\n",
       "      <td>0</td>\n",
       "      <td>0</td>\n",
       "      <td>1</td>\n",
       "      <td>0</td>\n",
       "      <td>0</td>\n",
       "      <td>0</td>\n",
       "      <td>1</td>\n",
       "      <td>0</td>\n",
       "      <td>0</td>\n",
       "      <td>0</td>\n",
       "    </tr>\n",
       "    <tr>\n",
       "      <th>8694</th>\n",
       "      <td>19.0</td>\n",
       "      <td>0.0</td>\n",
       "      <td>9.0</td>\n",
       "      <td>0.0</td>\n",
       "      <td>2823.0</td>\n",
       "      <td>0.0</td>\n",
       "      <td>0</td>\n",
       "      <td>0</td>\n",
       "      <td>0</td>\n",
       "      <td>0</td>\n",
       "      <td>...</td>\n",
       "      <td>0</td>\n",
       "      <td>1</td>\n",
       "      <td>0</td>\n",
       "      <td>0</td>\n",
       "      <td>0</td>\n",
       "      <td>0</td>\n",
       "      <td>1</td>\n",
       "      <td>0</td>\n",
       "      <td>0</td>\n",
       "      <td>0</td>\n",
       "    </tr>\n",
       "    <tr>\n",
       "      <th>8695</th>\n",
       "      <td>31.0</td>\n",
       "      <td>0.0</td>\n",
       "      <td>0.0</td>\n",
       "      <td>0.0</td>\n",
       "      <td>0.0</td>\n",
       "      <td>0.0</td>\n",
       "      <td>0</td>\n",
       "      <td>1</td>\n",
       "      <td>0</td>\n",
       "      <td>0</td>\n",
       "      <td>...</td>\n",
       "      <td>0</td>\n",
       "      <td>0</td>\n",
       "      <td>0</td>\n",
       "      <td>0</td>\n",
       "      <td>0</td>\n",
       "      <td>0</td>\n",
       "      <td>1</td>\n",
       "      <td>1</td>\n",
       "      <td>0</td>\n",
       "      <td>0</td>\n",
       "    </tr>\n",
       "    <tr>\n",
       "      <th>8696</th>\n",
       "      <td>38.0</td>\n",
       "      <td>0.0</td>\n",
       "      <td>6652.0</td>\n",
       "      <td>0.0</td>\n",
       "      <td>181.0</td>\n",
       "      <td>585.0</td>\n",
       "      <td>0</td>\n",
       "      <td>0</td>\n",
       "      <td>0</td>\n",
       "      <td>0</td>\n",
       "      <td>...</td>\n",
       "      <td>0</td>\n",
       "      <td>0</td>\n",
       "      <td>0</td>\n",
       "      <td>0</td>\n",
       "      <td>0</td>\n",
       "      <td>0</td>\n",
       "      <td>1</td>\n",
       "      <td>1</td>\n",
       "      <td>0</td>\n",
       "      <td>0</td>\n",
       "    </tr>\n",
       "    <tr>\n",
       "      <th>8697</th>\n",
       "      <td>20.0</td>\n",
       "      <td>10.0</td>\n",
       "      <td>0.0</td>\n",
       "      <td>635.0</td>\n",
       "      <td>0.0</td>\n",
       "      <td>0.0</td>\n",
       "      <td>0</td>\n",
       "      <td>0</td>\n",
       "      <td>0</td>\n",
       "      <td>0</td>\n",
       "      <td>...</td>\n",
       "      <td>0</td>\n",
       "      <td>1</td>\n",
       "      <td>0</td>\n",
       "      <td>0</td>\n",
       "      <td>0</td>\n",
       "      <td>0</td>\n",
       "      <td>1</td>\n",
       "      <td>0</td>\n",
       "      <td>0</td>\n",
       "      <td>0</td>\n",
       "    </tr>\n",
       "  </tbody>\n",
       "</table>\n",
       "<p>5 rows × 26 columns</p>\n",
       "</div>"
      ],
      "text/plain": [
       "       Age  RoomService  FoodCourt  ShoppingMall     Spa  VRDeck  \\\n",
       "8693  27.0          0.0        0.0           0.0     0.0     0.0   \n",
       "8694  19.0          0.0        9.0           0.0  2823.0     0.0   \n",
       "8695  31.0          0.0        0.0           0.0     0.0     0.0   \n",
       "8696  38.0          0.0     6652.0           0.0   181.0   585.0   \n",
       "8697  20.0         10.0        0.0         635.0     0.0     0.0   \n",
       "\n",
       "      CryoSleep_None  CryoSleep_True  Destination_None  \\\n",
       "8693               0               1                 0   \n",
       "8694               0               0                 0   \n",
       "8695               0               1                 0   \n",
       "8696               0               0                 0   \n",
       "8697               0               0                 0   \n",
       "\n",
       "      Destination_PSO J318.5-22  ...  Deck_E  Deck_F  Deck_G  Deck_None  \\\n",
       "8693                          0  ...       0       0       1          0   \n",
       "8694                          0  ...       0       1       0          0   \n",
       "8695                          0  ...       0       0       0          0   \n",
       "8696                          0  ...       0       0       0          0   \n",
       "8697                          0  ...       0       1       0          0   \n",
       "\n",
       "      Deck_T  Side_P  Side_S  HomePlanet_Europa  HomePlanet_Mars  \\\n",
       "8693       0       0       1                  0                0   \n",
       "8694       0       0       1                  0                0   \n",
       "8695       0       0       1                  1                0   \n",
       "8696       0       0       1                  1                0   \n",
       "8697       0       0       1                  0                0   \n",
       "\n",
       "      HomePlanet_None  \n",
       "8693                0  \n",
       "8694                0  \n",
       "8695                0  \n",
       "8696                0  \n",
       "8697                0  \n",
       "\n",
       "[5 rows x 26 columns]"
      ]
     },
     "execution_count": 6,
     "metadata": {},
     "output_type": "execute_result"
    }
   ],
   "source": [
    "desired_col.head()"
   ]
  },
  {
   "cell_type": "code",
   "execution_count": 7,
   "id": "a4a19bcc",
   "metadata": {
    "ExecuteTime": {
     "end_time": "2024-03-24T14:46:05.114224Z",
     "start_time": "2024-03-24T14:46:05.100650Z"
    }
   },
   "outputs": [],
   "source": [
    "#Training data\n",
    "tr_data = df.copy()\n",
    "tr_data = tr_data.dropna()"
   ]
  },
  {
   "cell_type": "code",
   "execution_count": 8,
   "id": "6a1194d0",
   "metadata": {
    "ExecuteTime": {
     "end_time": "2024-03-24T14:46:05.160970Z",
     "start_time": "2024-03-24T14:46:05.116183Z"
    }
   },
   "outputs": [
    {
     "data": {
      "text/html": [
       "<div>\n",
       "<style scoped>\n",
       "    .dataframe tbody tr th:only-of-type {\n",
       "        vertical-align: middle;\n",
       "    }\n",
       "\n",
       "    .dataframe tbody tr th {\n",
       "        vertical-align: top;\n",
       "    }\n",
       "\n",
       "    .dataframe thead th {\n",
       "        text-align: right;\n",
       "    }\n",
       "</style>\n",
       "<table border=\"1\" class=\"dataframe\">\n",
       "  <thead>\n",
       "    <tr style=\"text-align: right;\">\n",
       "      <th></th>\n",
       "      <th>Age</th>\n",
       "      <th>RoomService</th>\n",
       "      <th>FoodCourt</th>\n",
       "      <th>ShoppingMall</th>\n",
       "      <th>Spa</th>\n",
       "      <th>VRDeck</th>\n",
       "      <th>Transported</th>\n",
       "      <th>CryoSleep_None</th>\n",
       "      <th>CryoSleep_True</th>\n",
       "      <th>Destination_None</th>\n",
       "      <th>...</th>\n",
       "      <th>Deck_E</th>\n",
       "      <th>Deck_F</th>\n",
       "      <th>Deck_G</th>\n",
       "      <th>Deck_None</th>\n",
       "      <th>Deck_T</th>\n",
       "      <th>Side_P</th>\n",
       "      <th>Side_S</th>\n",
       "      <th>HomePlanet_Europa</th>\n",
       "      <th>HomePlanet_Mars</th>\n",
       "      <th>HomePlanet_None</th>\n",
       "    </tr>\n",
       "  </thead>\n",
       "  <tbody>\n",
       "    <tr>\n",
       "      <th>0</th>\n",
       "      <td>39.0</td>\n",
       "      <td>0.0</td>\n",
       "      <td>0.0</td>\n",
       "      <td>0.0</td>\n",
       "      <td>0.0</td>\n",
       "      <td>0.0</td>\n",
       "      <td>0.0</td>\n",
       "      <td>0</td>\n",
       "      <td>0</td>\n",
       "      <td>0</td>\n",
       "      <td>...</td>\n",
       "      <td>0</td>\n",
       "      <td>0</td>\n",
       "      <td>0</td>\n",
       "      <td>0</td>\n",
       "      <td>0</td>\n",
       "      <td>1</td>\n",
       "      <td>0</td>\n",
       "      <td>1</td>\n",
       "      <td>0</td>\n",
       "      <td>0</td>\n",
       "    </tr>\n",
       "    <tr>\n",
       "      <th>1</th>\n",
       "      <td>24.0</td>\n",
       "      <td>109.0</td>\n",
       "      <td>9.0</td>\n",
       "      <td>25.0</td>\n",
       "      <td>549.0</td>\n",
       "      <td>44.0</td>\n",
       "      <td>1.0</td>\n",
       "      <td>0</td>\n",
       "      <td>0</td>\n",
       "      <td>0</td>\n",
       "      <td>...</td>\n",
       "      <td>0</td>\n",
       "      <td>1</td>\n",
       "      <td>0</td>\n",
       "      <td>0</td>\n",
       "      <td>0</td>\n",
       "      <td>0</td>\n",
       "      <td>1</td>\n",
       "      <td>0</td>\n",
       "      <td>0</td>\n",
       "      <td>0</td>\n",
       "    </tr>\n",
       "    <tr>\n",
       "      <th>2</th>\n",
       "      <td>58.0</td>\n",
       "      <td>43.0</td>\n",
       "      <td>3576.0</td>\n",
       "      <td>0.0</td>\n",
       "      <td>6715.0</td>\n",
       "      <td>49.0</td>\n",
       "      <td>0.0</td>\n",
       "      <td>0</td>\n",
       "      <td>0</td>\n",
       "      <td>0</td>\n",
       "      <td>...</td>\n",
       "      <td>0</td>\n",
       "      <td>0</td>\n",
       "      <td>0</td>\n",
       "      <td>0</td>\n",
       "      <td>0</td>\n",
       "      <td>0</td>\n",
       "      <td>1</td>\n",
       "      <td>1</td>\n",
       "      <td>0</td>\n",
       "      <td>0</td>\n",
       "    </tr>\n",
       "    <tr>\n",
       "      <th>3</th>\n",
       "      <td>33.0</td>\n",
       "      <td>0.0</td>\n",
       "      <td>1283.0</td>\n",
       "      <td>371.0</td>\n",
       "      <td>3329.0</td>\n",
       "      <td>193.0</td>\n",
       "      <td>0.0</td>\n",
       "      <td>0</td>\n",
       "      <td>0</td>\n",
       "      <td>0</td>\n",
       "      <td>...</td>\n",
       "      <td>0</td>\n",
       "      <td>0</td>\n",
       "      <td>0</td>\n",
       "      <td>0</td>\n",
       "      <td>0</td>\n",
       "      <td>0</td>\n",
       "      <td>1</td>\n",
       "      <td>1</td>\n",
       "      <td>0</td>\n",
       "      <td>0</td>\n",
       "    </tr>\n",
       "    <tr>\n",
       "      <th>4</th>\n",
       "      <td>16.0</td>\n",
       "      <td>303.0</td>\n",
       "      <td>70.0</td>\n",
       "      <td>151.0</td>\n",
       "      <td>565.0</td>\n",
       "      <td>2.0</td>\n",
       "      <td>1.0</td>\n",
       "      <td>0</td>\n",
       "      <td>0</td>\n",
       "      <td>0</td>\n",
       "      <td>...</td>\n",
       "      <td>0</td>\n",
       "      <td>1</td>\n",
       "      <td>0</td>\n",
       "      <td>0</td>\n",
       "      <td>0</td>\n",
       "      <td>0</td>\n",
       "      <td>1</td>\n",
       "      <td>0</td>\n",
       "      <td>0</td>\n",
       "      <td>0</td>\n",
       "    </tr>\n",
       "  </tbody>\n",
       "</table>\n",
       "<p>5 rows × 27 columns</p>\n",
       "</div>"
      ],
      "text/plain": [
       "    Age  RoomService  FoodCourt  ShoppingMall     Spa  VRDeck  Transported  \\\n",
       "0  39.0          0.0        0.0           0.0     0.0     0.0          0.0   \n",
       "1  24.0        109.0        9.0          25.0   549.0    44.0          1.0   \n",
       "2  58.0         43.0     3576.0           0.0  6715.0    49.0          0.0   \n",
       "3  33.0          0.0     1283.0         371.0  3329.0   193.0          0.0   \n",
       "4  16.0        303.0       70.0         151.0   565.0     2.0          1.0   \n",
       "\n",
       "   CryoSleep_None  CryoSleep_True  Destination_None  ...  Deck_E  Deck_F  \\\n",
       "0               0               0                 0  ...       0       0   \n",
       "1               0               0                 0  ...       0       1   \n",
       "2               0               0                 0  ...       0       0   \n",
       "3               0               0                 0  ...       0       0   \n",
       "4               0               0                 0  ...       0       1   \n",
       "\n",
       "   Deck_G  Deck_None  Deck_T  Side_P  Side_S  HomePlanet_Europa  \\\n",
       "0       0          0       0       1       0                  1   \n",
       "1       0          0       0       0       1                  0   \n",
       "2       0          0       0       0       1                  1   \n",
       "3       0          0       0       0       1                  1   \n",
       "4       0          0       0       0       1                  0   \n",
       "\n",
       "   HomePlanet_Mars  HomePlanet_None  \n",
       "0                0                0  \n",
       "1                0                0  \n",
       "2                0                0  \n",
       "3                0                0  \n",
       "4                0                0  \n",
       "\n",
       "[5 rows x 27 columns]"
      ]
     },
     "execution_count": 8,
     "metadata": {},
     "output_type": "execute_result"
    }
   ],
   "source": [
    "tr_data.head()"
   ]
  },
  {
   "cell_type": "code",
   "execution_count": 9,
   "id": "d57ab011",
   "metadata": {
    "ExecuteTime": {
     "end_time": "2024-03-24T14:46:05.659056Z",
     "start_time": "2024-03-24T14:46:05.647865Z"
    }
   },
   "outputs": [],
   "source": [
    "X = tr_data.drop('Transported', axis = 1)\n",
    "y = tr_data['Transported']"
   ]
  },
  {
   "cell_type": "code",
   "execution_count": 10,
   "id": "867f7df2",
   "metadata": {
    "ExecuteTime": {
     "end_time": "2024-03-24T14:46:06.268329Z",
     "start_time": "2024-03-24T14:46:06.258207Z"
    }
   },
   "outputs": [],
   "source": [
    "y = y.astype('int64')"
   ]
  },
  {
   "cell_type": "markdown",
   "id": "9e9d209c",
   "metadata": {},
   "source": [
    "## Support vector classifier"
   ]
  },
  {
   "cell_type": "code",
   "execution_count": 12,
   "id": "5de03d88",
   "metadata": {
    "ExecuteTime": {
     "end_time": "2024-03-24T14:47:28.931640Z",
     "start_time": "2024-03-24T14:47:28.398587Z"
    }
   },
   "outputs": [],
   "source": [
    "from sklearn.model_selection import train_test_split"
   ]
  },
  {
   "cell_type": "code",
   "execution_count": 13,
   "id": "b5eb1a6f",
   "metadata": {
    "ExecuteTime": {
     "end_time": "2024-03-24T14:47:28.947255Z",
     "start_time": "2024-03-24T14:47:28.934638Z"
    }
   },
   "outputs": [],
   "source": [
    "X_train, X_test, y_train, y_test = train_test_split(X, y, test_size=0.2)"
   ]
  },
  {
   "cell_type": "code",
   "execution_count": 14,
   "id": "2b9c524a",
   "metadata": {
    "ExecuteTime": {
     "end_time": "2024-03-24T14:47:31.683193Z",
     "start_time": "2024-03-24T14:47:31.667012Z"
    }
   },
   "outputs": [],
   "source": [
    "from sklearn.preprocessing import StandardScaler"
   ]
  },
  {
   "cell_type": "code",
   "execution_count": 15,
   "id": "e609da85",
   "metadata": {
    "ExecuteTime": {
     "end_time": "2024-03-24T14:47:32.306117Z",
     "start_time": "2024-03-24T14:47:32.297567Z"
    }
   },
   "outputs": [],
   "source": [
    "scaler = StandardScaler()"
   ]
  },
  {
   "cell_type": "code",
   "execution_count": 16,
   "id": "06e463d5",
   "metadata": {
    "ExecuteTime": {
     "end_time": "2024-03-24T14:47:36.821964Z",
     "start_time": "2024-03-24T14:47:36.792466Z"
    }
   },
   "outputs": [],
   "source": [
    "scaled_X_train = scaler.fit_transform(X_train)\n",
    "scaled_X_test = scaler.transform(X_test)"
   ]
  },
  {
   "cell_type": "code",
   "execution_count": 17,
   "id": "c875dd98",
   "metadata": {
    "ExecuteTime": {
     "end_time": "2024-03-24T14:47:51.308610Z",
     "start_time": "2024-03-24T14:47:51.119529Z"
    }
   },
   "outputs": [],
   "source": [
    "from sklearn.svm import SVC\n",
    "from sklearn.model_selection import GridSearchCV"
   ]
  },
  {
   "cell_type": "code",
   "execution_count": 18,
   "id": "7cbed506",
   "metadata": {
    "ExecuteTime": {
     "end_time": "2024-03-24T14:48:31.439600Z",
     "start_time": "2024-03-24T14:48:31.422301Z"
    }
   },
   "outputs": [],
   "source": [
    "svc = SVC()"
   ]
  },
  {
   "cell_type": "code",
   "execution_count": 19,
   "id": "e868250b",
   "metadata": {
    "ExecuteTime": {
     "end_time": "2024-03-24T14:48:50.513019Z",
     "start_time": "2024-03-24T14:48:50.494593Z"
    }
   },
   "outputs": [],
   "source": [
    "param_grid = {'C':[0.001,0.01,0.1,0.5,1],'gamma':['scale','auto']}\n",
    "grid = GridSearchCV(svc,param_grid)"
   ]
  },
  {
   "cell_type": "code",
   "execution_count": 20,
   "id": "a363e263",
   "metadata": {
    "ExecuteTime": {
     "end_time": "2024-03-24T14:51:56.709987Z",
     "start_time": "2024-03-24T14:49:14.941485Z"
    }
   },
   "outputs": [
    {
     "data": {
      "text/plain": [
       "GridSearchCV(estimator=SVC(),\n",
       "             param_grid={'C': [0.001, 0.01, 0.1, 0.5, 1],\n",
       "                         'gamma': ['scale', 'auto']})"
      ]
     },
     "execution_count": 20,
     "metadata": {},
     "output_type": "execute_result"
    }
   ],
   "source": [
    "grid.fit(scaled_X_train,y_train)"
   ]
  },
  {
   "cell_type": "code",
   "execution_count": 22,
   "id": "9a4951ed",
   "metadata": {
    "ExecuteTime": {
     "end_time": "2024-03-24T14:52:06.644639Z",
     "start_time": "2024-03-24T14:52:06.635108Z"
    }
   },
   "outputs": [
    {
     "data": {
      "text/plain": [
       "{'C': 1, 'gamma': 'auto'}"
      ]
     },
     "execution_count": 22,
     "metadata": {},
     "output_type": "execute_result"
    }
   ],
   "source": [
    "grid.best_params_"
   ]
  },
  {
   "cell_type": "code",
   "execution_count": 25,
   "id": "ea58a51d",
   "metadata": {
    "ExecuteTime": {
     "end_time": "2024-03-24T14:52:28.484285Z",
     "start_time": "2024-03-24T14:52:28.470057Z"
    }
   },
   "outputs": [],
   "source": [
    "from sklearn.metrics import accuracy_score,confusion_matrix,classification_report,plot_confusion_matrix"
   ]
  },
  {
   "cell_type": "code",
   "execution_count": 23,
   "id": "77492f76",
   "metadata": {
    "ExecuteTime": {
     "end_time": "2024-03-24T14:52:16.557677Z",
     "start_time": "2024-03-24T14:52:15.644359Z"
    }
   },
   "outputs": [],
   "source": [
    "y_pred = grid.predict(scaled_X_test)"
   ]
  },
  {
   "cell_type": "code",
   "execution_count": 26,
   "id": "216ec55d",
   "metadata": {
    "ExecuteTime": {
     "end_time": "2024-03-24T14:52:32.158669Z",
     "start_time": "2024-03-24T14:52:30.757760Z"
    }
   },
   "outputs": [
    {
     "name": "stderr",
     "output_type": "stream",
     "text": [
      "C:\\Users\\79852\\anaconda3\\lib\\site-packages\\sklearn\\utils\\deprecation.py:87: FutureWarning: Function plot_confusion_matrix is deprecated; Function `plot_confusion_matrix` is deprecated in 1.0 and will be removed in 1.2. Use one of the class methods: ConfusionMatrixDisplay.from_predictions or ConfusionMatrixDisplay.from_estimator.\n",
      "  warnings.warn(msg, category=FutureWarning)\n"
     ]
    },
    {
     "data": {
      "image/png": "[encoded data removed]",
      "text/plain": [
       "<Figure size 432x288 with 2 Axes>"
      ]
     },
     "metadata": {
      "needs_background": "light"
     },
     "output_type": "display_data"
    }
   ],
   "source": [
    "plot_confusion_matrix(grid,scaled_X_test,y_test);"
   ]
  },
  {
   "cell_type": "code",
   "execution_count": 27,
   "id": "74bba08d",
   "metadata": {
    "ExecuteTime": {
     "end_time": "2024-03-24T14:52:43.065329Z",
     "start_time": "2024-03-24T14:52:43.036350Z"
    }
   },
   "outputs": [
    {
     "name": "stdout",
     "output_type": "stream",
     "text": [
      "              precision    recall  f1-score   support\n",
      "\n",
      "           0       0.78      0.81      0.79       863\n",
      "           1       0.80      0.77      0.79       876\n",
      "\n",
      "    accuracy                           0.79      1739\n",
      "   macro avg       0.79      0.79      0.79      1739\n",
      "weighted avg       0.79      0.79      0.79      1739\n",
      "\n"
     ]
    }
   ],
   "source": [
    "print(classification_report(y_test,y_pred))"
   ]
  },
  {
   "cell_type": "code",
   "execution_count": 28,
   "id": "44ea7ca7",
   "metadata": {
    "ExecuteTime": {
     "end_time": "2024-03-24T14:52:49.611011Z",
     "start_time": "2024-03-24T14:52:49.591667Z"
    }
   },
   "outputs": [
    {
     "data": {
      "text/plain": [
       "{'cv': None,\n",
       " 'error_score': nan,\n",
       " 'estimator__C': 1.0,\n",
       " 'estimator__break_ties': False,\n",
       " 'estimator__cache_size': 200,\n",
       " 'estimator__class_weight': None,\n",
       " 'estimator__coef0': 0.0,\n",
       " 'estimator__decision_function_shape': 'ovr',\n",
       " 'estimator__degree': 3,\n",
       " 'estimator__gamma': 'scale',\n",
       " 'estimator__kernel': 'rbf',\n",
       " 'estimator__max_iter': -1,\n",
       " 'estimator__probability': False,\n",
       " 'estimator__random_state': None,\n",
       " 'estimator__shrinking': True,\n",
       " 'estimator__tol': 0.001,\n",
       " 'estimator__verbose': False,\n",
       " 'estimator': SVC(),\n",
       " 'n_jobs': None,\n",
       " 'param_grid': {'C': [0.001, 0.01, 0.1, 0.5, 1], 'gamma': ['scale', 'auto']},\n",
       " 'pre_dispatch': '2*n_jobs',\n",
       " 'refit': True,\n",
       " 'return_train_score': False,\n",
       " 'scoring': None,\n",
       " 'verbose': 0}"
      ]
     },
     "execution_count": 28,
     "metadata": {},
     "output_type": "execute_result"
    }
   ],
   "source": [
    "grid.get_params()"
   ]
  },
  {
   "cell_type": "code",
   "execution_count": null,
   "id": "0bf09b73",
   "metadata": {},
   "outputs": [],
   "source": []
  },
  {
   "cell_type": "code",
   "execution_count": 29,
   "id": "db03aa9d",
   "metadata": {
    "ExecuteTime": {
     "end_time": "2024-03-24T14:54:17.518666Z",
     "start_time": "2024-03-24T14:54:17.512443Z"
    }
   },
   "outputs": [],
   "source": [
    "final_model = SVC(C=1, gamma='auto')"
   ]
  },
  {
   "cell_type": "code",
   "execution_count": 30,
   "id": "a381c440",
   "metadata": {
    "ExecuteTime": {
     "end_time": "2024-03-24T14:54:31.390590Z",
     "start_time": "2024-03-24T14:54:31.368394Z"
    }
   },
   "outputs": [],
   "source": [
    "scaled_X = scaler.fit_transform(X)\n",
    "sc_desired_col = scaler.fit_transform(desired_col)"
   ]
  },
  {
   "cell_type": "code",
   "execution_count": 31,
   "id": "8e044965",
   "metadata": {
    "ExecuteTime": {
     "end_time": "2024-03-24T14:54:44.954146Z",
     "start_time": "2024-03-24T14:54:40.789920Z"
    }
   },
   "outputs": [
    {
     "data": {
      "text/plain": [
       "SVC(C=1, gamma='auto')"
      ]
     },
     "execution_count": 31,
     "metadata": {},
     "output_type": "execute_result"
    }
   ],
   "source": [
    "final_model.fit(scaled_X, y)"
   ]
  },
  {
   "cell_type": "code",
   "execution_count": 32,
   "id": "de928d33",
   "metadata": {
    "ExecuteTime": {
     "end_time": "2024-03-24T14:54:55.481618Z",
     "start_time": "2024-03-24T14:54:48.708994Z"
    }
   },
   "outputs": [],
   "source": [
    "final_pred = final_model.predict(scaled_X)"
   ]
  },
  {
   "cell_type": "code",
   "execution_count": 34,
   "id": "54e2b81c",
   "metadata": {
    "ExecuteTime": {
     "end_time": "2024-03-24T14:55:38.418264Z",
     "start_time": "2024-03-24T14:55:38.373813Z"
    }
   },
   "outputs": [
    {
     "name": "stdout",
     "output_type": "stream",
     "text": [
      "              precision    recall  f1-score   support\n",
      "\n",
      "           0       0.81      0.81      0.81      4315\n",
      "           1       0.81      0.81      0.81      4378\n",
      "\n",
      "    accuracy                           0.81      8693\n",
      "   macro avg       0.81      0.81      0.81      8693\n",
      "weighted avg       0.81      0.81      0.81      8693\n",
      "\n"
     ]
    }
   ],
   "source": [
    "print(classification_report(y,final_pred))"
   ]
  },
  {
   "cell_type": "code",
   "execution_count": 35,
   "id": "2b690f5d",
   "metadata": {
    "ExecuteTime": {
     "end_time": "2024-03-24T14:55:50.786741Z",
     "start_time": "2024-03-24T14:55:47.662337Z"
    }
   },
   "outputs": [],
   "source": [
    "result = final_model.predict(sc_desired_col)"
   ]
  },
  {
   "cell_type": "code",
   "execution_count": 36,
   "id": "96f09dc1",
   "metadata": {
    "ExecuteTime": {
     "end_time": "2024-03-24T14:55:53.075200Z",
     "start_time": "2024-03-24T14:55:53.035899Z"
    }
   },
   "outputs": [],
   "source": [
    "test = pd.read_csv('test.csv')"
   ]
  },
  {
   "cell_type": "code",
   "execution_count": 37,
   "id": "2abff855",
   "metadata": {
    "ExecuteTime": {
     "end_time": "2024-03-24T14:55:55.286061Z",
     "start_time": "2024-03-24T14:55:55.268510Z"
    }
   },
   "outputs": [
    {
     "name": "stdout",
     "output_type": "stream",
     "text": [
      "(4277, 2)\n"
     ]
    }
   ],
   "source": [
    "submission = pd.DataFrame({'PassengerId':test['PassengerId'],'Transported':result})\n",
    "submission['Transported'] = submission['Transported'].astype(int)\n",
    "print(submission.shape)"
   ]
  },
  {
   "cell_type": "code",
   "execution_count": 38,
   "id": "47181064",
   "metadata": {
    "ExecuteTime": {
     "end_time": "2024-03-24T14:55:58.571222Z",
     "start_time": "2024-03-24T14:55:58.553279Z"
    }
   },
   "outputs": [
    {
     "data": {
      "text/plain": [
       "1    2164\n",
       "0    2113\n",
       "Name: Transported, dtype: int64"
      ]
     },
     "execution_count": 38,
     "metadata": {},
     "output_type": "execute_result"
    }
   ],
   "source": [
    "submission['Transported'].value_counts()"
   ]
  },
  {
   "cell_type": "code",
   "execution_count": 39,
   "id": "f0b1a86f",
   "metadata": {
    "ExecuteTime": {
     "end_time": "2024-03-24T14:56:01.968024Z",
     "start_time": "2024-03-24T14:56:01.956415Z"
    }
   },
   "outputs": [],
   "source": [
    "submission['Transported'] = submission['Transported'].astype('bool')"
   ]
  },
  {
   "cell_type": "code",
   "execution_count": 40,
   "id": "1f16f891",
   "metadata": {
    "ExecuteTime": {
     "end_time": "2024-03-24T14:56:10.727802Z",
     "start_time": "2024-03-24T14:56:10.702687Z"
    }
   },
   "outputs": [
    {
     "name": "stdout",
     "output_type": "stream",
     "text": [
      "Saved file: space_preds.csv\n"
     ]
    }
   ],
   "source": [
    "filename = 'space_preds.csv'\n",
    "submission.to_csv(filename,index=False)\n",
    "print('Saved file: ' + filename)"
   ]
  },
  {
   "cell_type": "code",
   "execution_count": null,
   "id": "8cc1e649",
   "metadata": {},
   "outputs": [],
   "source": []
  }
 ],
 "metadata": {
  "kernelspec": {
   "display_name": "Python 3 (ipykernel)",
   "language": "python",
   "name": "python3"
  },
  "language_info": {
   "codemirror_mode": {
    "name": "ipython",
    "version": 3
   },
   "file_extension": ".py",
   "mimetype": "text/x-python",
   "name": "python",
   "nbconvert_exporter": "python",
   "pygments_lexer": "ipython3",
   "version": "3.9.12"
  }
 },
 "nbformat": 4,
 "nbformat_minor": 5
}
