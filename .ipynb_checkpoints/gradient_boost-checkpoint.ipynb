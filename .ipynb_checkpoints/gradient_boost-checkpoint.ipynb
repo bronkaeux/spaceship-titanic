{
 "cells": [
  {
   "cell_type": "code",
   "execution_count": 1,
   "id": "f6646de5",
   "metadata": {
    "ExecuteTime": {
     "end_time": "2024-04-01T06:57:17.588205Z",
     "start_time": "2024-04-01T06:57:14.721973Z"
    }
   },
   "outputs": [],
   "source": [
    "import numpy as np\n",
    "import pandas as pd\n",
    "import matplotlib.pyplot as plt\n",
    "import seaborn as sns"
   ]
  },
  {
   "cell_type": "code",
   "execution_count": 2,
   "id": "11b30706",
   "metadata": {
    "ExecuteTime": {
     "end_time": "2024-04-01T06:57:17.634953Z",
     "start_time": "2024-04-01T06:57:17.591205Z"
    }
   },
   "outputs": [],
   "source": [
    "df = pd.read_csv('cleaned_df.csv')"
   ]
  },
  {
   "cell_type": "code",
   "execution_count": 10,
   "id": "2afbb6c5",
   "metadata": {
    "ExecuteTime": {
     "end_time": "2024-04-01T06:58:25.004709Z",
     "start_time": "2024-04-01T06:58:24.942304Z"
    }
   },
   "outputs": [
    {
     "data": {
      "text/html": [
       "<div>\n",
       "<style scoped>\n",
       "    .dataframe tbody tr th:only-of-type {\n",
       "        vertical-align: middle;\n",
       "    }\n",
       "\n",
       "    .dataframe tbody tr th {\n",
       "        vertical-align: top;\n",
       "    }\n",
       "\n",
       "    .dataframe thead th {\n",
       "        text-align: right;\n",
       "    }\n",
       "</style>\n",
       "<table border=\"1\" class=\"dataframe\">\n",
       "  <thead>\n",
       "    <tr style=\"text-align: right;\">\n",
       "      <th></th>\n",
       "      <th>count</th>\n",
       "      <th>unique</th>\n",
       "      <th>top</th>\n",
       "      <th>freq</th>\n",
       "      <th>mean</th>\n",
       "      <th>std</th>\n",
       "      <th>min</th>\n",
       "      <th>25%</th>\n",
       "      <th>50%</th>\n",
       "      <th>75%</th>\n",
       "      <th>max</th>\n",
       "    </tr>\n",
       "  </thead>\n",
       "  <tbody>\n",
       "    <tr>\n",
       "      <th>CryoSleep</th>\n",
       "      <td>12970</td>\n",
       "      <td>3</td>\n",
       "      <td>False</td>\n",
       "      <td>8079</td>\n",
       "      <td>NaN</td>\n",
       "      <td>NaN</td>\n",
       "      <td>NaN</td>\n",
       "      <td>NaN</td>\n",
       "      <td>NaN</td>\n",
       "      <td>NaN</td>\n",
       "      <td>NaN</td>\n",
       "    </tr>\n",
       "    <tr>\n",
       "      <th>Destination</th>\n",
       "      <td>12970</td>\n",
       "      <td>4</td>\n",
       "      <td>TRAPPIST-1e</td>\n",
       "      <td>9142</td>\n",
       "      <td>NaN</td>\n",
       "      <td>NaN</td>\n",
       "      <td>NaN</td>\n",
       "      <td>NaN</td>\n",
       "      <td>NaN</td>\n",
       "      <td>NaN</td>\n",
       "      <td>NaN</td>\n",
       "    </tr>\n",
       "    <tr>\n",
       "      <th>Age</th>\n",
       "      <td>12970.0</td>\n",
       "      <td>NaN</td>\n",
       "      <td>NaN</td>\n",
       "      <td>NaN</td>\n",
       "      <td>28.771969</td>\n",
       "      <td>14.23671</td>\n",
       "      <td>0.0</td>\n",
       "      <td>20.0</td>\n",
       "      <td>27.0</td>\n",
       "      <td>37.0</td>\n",
       "      <td>79.0</td>\n",
       "    </tr>\n",
       "    <tr>\n",
       "      <th>VIP</th>\n",
       "      <td>12970</td>\n",
       "      <td>3</td>\n",
       "      <td>False</td>\n",
       "      <td>12401</td>\n",
       "      <td>NaN</td>\n",
       "      <td>NaN</td>\n",
       "      <td>NaN</td>\n",
       "      <td>NaN</td>\n",
       "      <td>NaN</td>\n",
       "      <td>NaN</td>\n",
       "      <td>NaN</td>\n",
       "    </tr>\n",
       "    <tr>\n",
       "      <th>RoomService</th>\n",
       "      <td>12970.0</td>\n",
       "      <td>NaN</td>\n",
       "      <td>NaN</td>\n",
       "      <td>NaN</td>\n",
       "      <td>218.378026</td>\n",
       "      <td>641.766201</td>\n",
       "      <td>0.0</td>\n",
       "      <td>0.0</td>\n",
       "      <td>0.0</td>\n",
       "      <td>42.75</td>\n",
       "      <td>14327.0</td>\n",
       "    </tr>\n",
       "    <tr>\n",
       "      <th>FoodCourt</th>\n",
       "      <td>12970.0</td>\n",
       "      <td>NaN</td>\n",
       "      <td>NaN</td>\n",
       "      <td>NaN</td>\n",
       "      <td>441.890979</td>\n",
       "      <td>1568.038076</td>\n",
       "      <td>0.0</td>\n",
       "      <td>0.0</td>\n",
       "      <td>0.0</td>\n",
       "      <td>62.75</td>\n",
       "      <td>29813.0</td>\n",
       "    </tr>\n",
       "    <tr>\n",
       "      <th>ShoppingMall</th>\n",
       "      <td>12970.0</td>\n",
       "      <td>NaN</td>\n",
       "      <td>NaN</td>\n",
       "      <td>NaN</td>\n",
       "      <td>170.779491</td>\n",
       "      <td>584.15363</td>\n",
       "      <td>0.0</td>\n",
       "      <td>0.0</td>\n",
       "      <td>0.0</td>\n",
       "      <td>23.0</td>\n",
       "      <td>23492.0</td>\n",
       "    </tr>\n",
       "    <tr>\n",
       "      <th>Spa</th>\n",
       "      <td>12970.0</td>\n",
       "      <td>NaN</td>\n",
       "      <td>NaN</td>\n",
       "      <td>NaN</td>\n",
       "      <td>301.722282</td>\n",
       "      <td>1118.746785</td>\n",
       "      <td>0.0</td>\n",
       "      <td>0.0</td>\n",
       "      <td>0.0</td>\n",
       "      <td>50.0</td>\n",
       "      <td>22408.0</td>\n",
       "    </tr>\n",
       "    <tr>\n",
       "      <th>VRDeck</th>\n",
       "      <td>12970.0</td>\n",
       "      <td>NaN</td>\n",
       "      <td>NaN</td>\n",
       "      <td>NaN</td>\n",
       "      <td>300.45027</td>\n",
       "      <td>1168.655639</td>\n",
       "      <td>0.0</td>\n",
       "      <td>0.0</td>\n",
       "      <td>0.0</td>\n",
       "      <td>36.0</td>\n",
       "      <td>24133.0</td>\n",
       "    </tr>\n",
       "    <tr>\n",
       "      <th>Transported</th>\n",
       "      <td>8693.0</td>\n",
       "      <td>NaN</td>\n",
       "      <td>NaN</td>\n",
       "      <td>NaN</td>\n",
       "      <td>0.503624</td>\n",
       "      <td>0.500016</td>\n",
       "      <td>0.0</td>\n",
       "      <td>0.0</td>\n",
       "      <td>1.0</td>\n",
       "      <td>1.0</td>\n",
       "      <td>1.0</td>\n",
       "    </tr>\n",
       "    <tr>\n",
       "      <th>Deck</th>\n",
       "      <td>12970</td>\n",
       "      <td>9</td>\n",
       "      <td>F</td>\n",
       "      <td>4239</td>\n",
       "      <td>NaN</td>\n",
       "      <td>NaN</td>\n",
       "      <td>NaN</td>\n",
       "      <td>NaN</td>\n",
       "      <td>NaN</td>\n",
       "      <td>NaN</td>\n",
       "      <td>NaN</td>\n",
       "    </tr>\n",
       "    <tr>\n",
       "      <th>Side</th>\n",
       "      <td>12970</td>\n",
       "      <td>3</td>\n",
       "      <td>S</td>\n",
       "      <td>6381</td>\n",
       "      <td>NaN</td>\n",
       "      <td>NaN</td>\n",
       "      <td>NaN</td>\n",
       "      <td>NaN</td>\n",
       "      <td>NaN</td>\n",
       "      <td>NaN</td>\n",
       "      <td>NaN</td>\n",
       "    </tr>\n",
       "    <tr>\n",
       "      <th>HomePlanet</th>\n",
       "      <td>12970</td>\n",
       "      <td>4</td>\n",
       "      <td>Earth</td>\n",
       "      <td>7041</td>\n",
       "      <td>NaN</td>\n",
       "      <td>NaN</td>\n",
       "      <td>NaN</td>\n",
       "      <td>NaN</td>\n",
       "      <td>NaN</td>\n",
       "      <td>NaN</td>\n",
       "      <td>NaN</td>\n",
       "    </tr>\n",
       "  </tbody>\n",
       "</table>\n",
       "</div>"
      ],
      "text/plain": [
       "                count unique          top   freq        mean          std  \\\n",
       "CryoSleep       12970      3        False   8079         NaN          NaN   \n",
       "Destination     12970      4  TRAPPIST-1e   9142         NaN          NaN   \n",
       "Age           12970.0    NaN          NaN    NaN   28.771969     14.23671   \n",
       "VIP             12970      3        False  12401         NaN          NaN   \n",
       "RoomService   12970.0    NaN          NaN    NaN  218.378026   641.766201   \n",
       "FoodCourt     12970.0    NaN          NaN    NaN  441.890979  1568.038076   \n",
       "ShoppingMall  12970.0    NaN          NaN    NaN  170.779491    584.15363   \n",
       "Spa           12970.0    NaN          NaN    NaN  301.722282  1118.746785   \n",
       "VRDeck        12970.0    NaN          NaN    NaN   300.45027  1168.655639   \n",
       "Transported    8693.0    NaN          NaN    NaN    0.503624     0.500016   \n",
       "Deck            12970      9            F   4239         NaN          NaN   \n",
       "Side            12970      3            S   6381         NaN          NaN   \n",
       "HomePlanet      12970      4        Earth   7041         NaN          NaN   \n",
       "\n",
       "              min   25%   50%    75%      max  \n",
       "CryoSleep     NaN   NaN   NaN    NaN      NaN  \n",
       "Destination   NaN   NaN   NaN    NaN      NaN  \n",
       "Age           0.0  20.0  27.0   37.0     79.0  \n",
       "VIP           NaN   NaN   NaN    NaN      NaN  \n",
       "RoomService   0.0   0.0   0.0  42.75  14327.0  \n",
       "FoodCourt     0.0   0.0   0.0  62.75  29813.0  \n",
       "ShoppingMall  0.0   0.0   0.0   23.0  23492.0  \n",
       "Spa           0.0   0.0   0.0   50.0  22408.0  \n",
       "VRDeck        0.0   0.0   0.0   36.0  24133.0  \n",
       "Transported   0.0   0.0   1.0    1.0      1.0  \n",
       "Deck          NaN   NaN   NaN    NaN      NaN  \n",
       "Side          NaN   NaN   NaN    NaN      NaN  \n",
       "HomePlanet    NaN   NaN   NaN    NaN      NaN  "
      ]
     },
     "execution_count": 10,
     "metadata": {},
     "output_type": "execute_result"
    }
   ],
   "source": [
    "df.describe(include='all').transpose()"
   ]
  },
  {
   "cell_type": "code",
   "execution_count": 11,
   "id": "8b526cb1",
   "metadata": {
    "ExecuteTime": {
     "end_time": "2024-04-01T06:58:37.101980Z",
     "start_time": "2024-04-01T06:58:37.050359Z"
    }
   },
   "outputs": [
    {
     "name": "stdout",
     "output_type": "stream",
     "text": [
      "<class 'pandas.core.frame.DataFrame'>\n",
      "RangeIndex: 12970 entries, 0 to 12969\n",
      "Data columns (total 13 columns):\n",
      " #   Column        Non-Null Count  Dtype  \n",
      "---  ------        --------------  -----  \n",
      " 0   CryoSleep     12970 non-null  object \n",
      " 1   Destination   12970 non-null  object \n",
      " 2   Age           12970 non-null  float64\n",
      " 3   VIP           12970 non-null  object \n",
      " 4   RoomService   12970 non-null  float64\n",
      " 5   FoodCourt     12970 non-null  float64\n",
      " 6   ShoppingMall  12970 non-null  float64\n",
      " 7   Spa           12970 non-null  float64\n",
      " 8   VRDeck        12970 non-null  float64\n",
      " 9   Transported   8693 non-null   float64\n",
      " 10  Deck          12970 non-null  object \n",
      " 11  Side          12970 non-null  object \n",
      " 12  HomePlanet    12970 non-null  object \n",
      "dtypes: float64(7), object(6)\n",
      "memory usage: 1.3+ MB\n"
     ]
    }
   ],
   "source": [
    "df.info()"
   ]
  },
  {
   "cell_type": "code",
   "execution_count": 12,
   "id": "c324c76f",
   "metadata": {
    "ExecuteTime": {
     "end_time": "2024-04-01T06:58:39.468454Z",
     "start_time": "2024-04-01T06:58:39.436493Z"
    }
   },
   "outputs": [],
   "source": [
    "df = pd.get_dummies(df, drop_first=True)"
   ]
  },
  {
   "cell_type": "code",
   "execution_count": 13,
   "id": "dad0f713",
   "metadata": {
    "ExecuteTime": {
     "end_time": "2024-04-01T06:58:39.967502Z",
     "start_time": "2024-04-01T06:58:39.952936Z"
    }
   },
   "outputs": [],
   "source": [
    "# Data to be predicted\n",
    "desired_col = df[df['Transported'].isnull()]\n",
    "desired_col = desired_col.drop(['Transported'], axis = 1)"
   ]
  },
  {
   "cell_type": "code",
   "execution_count": 14,
   "id": "61b741f4",
   "metadata": {
    "ExecuteTime": {
     "end_time": "2024-04-01T06:58:40.387819Z",
     "start_time": "2024-04-01T06:58:40.353180Z"
    }
   },
   "outputs": [
    {
     "data": {
      "text/html": [
       "<div>\n",
       "<style scoped>\n",
       "    .dataframe tbody tr th:only-of-type {\n",
       "        vertical-align: middle;\n",
       "    }\n",
       "\n",
       "    .dataframe tbody tr th {\n",
       "        vertical-align: top;\n",
       "    }\n",
       "\n",
       "    .dataframe thead th {\n",
       "        text-align: right;\n",
       "    }\n",
       "</style>\n",
       "<table border=\"1\" class=\"dataframe\">\n",
       "  <thead>\n",
       "    <tr style=\"text-align: right;\">\n",
       "      <th></th>\n",
       "      <th>Age</th>\n",
       "      <th>RoomService</th>\n",
       "      <th>FoodCourt</th>\n",
       "      <th>ShoppingMall</th>\n",
       "      <th>Spa</th>\n",
       "      <th>VRDeck</th>\n",
       "      <th>CryoSleep_None</th>\n",
       "      <th>CryoSleep_True</th>\n",
       "      <th>Destination_None</th>\n",
       "      <th>Destination_PSO J318.5-22</th>\n",
       "      <th>...</th>\n",
       "      <th>Deck_E</th>\n",
       "      <th>Deck_F</th>\n",
       "      <th>Deck_G</th>\n",
       "      <th>Deck_None</th>\n",
       "      <th>Deck_T</th>\n",
       "      <th>Side_P</th>\n",
       "      <th>Side_S</th>\n",
       "      <th>HomePlanet_Europa</th>\n",
       "      <th>HomePlanet_Mars</th>\n",
       "      <th>HomePlanet_None</th>\n",
       "    </tr>\n",
       "  </thead>\n",
       "  <tbody>\n",
       "    <tr>\n",
       "      <th>8693</th>\n",
       "      <td>27.0</td>\n",
       "      <td>0.0</td>\n",
       "      <td>0.0</td>\n",
       "      <td>0.0</td>\n",
       "      <td>0.0</td>\n",
       "      <td>0.0</td>\n",
       "      <td>0</td>\n",
       "      <td>1</td>\n",
       "      <td>0</td>\n",
       "      <td>0</td>\n",
       "      <td>...</td>\n",
       "      <td>0</td>\n",
       "      <td>0</td>\n",
       "      <td>1</td>\n",
       "      <td>0</td>\n",
       "      <td>0</td>\n",
       "      <td>0</td>\n",
       "      <td>1</td>\n",
       "      <td>0</td>\n",
       "      <td>0</td>\n",
       "      <td>0</td>\n",
       "    </tr>\n",
       "    <tr>\n",
       "      <th>8694</th>\n",
       "      <td>19.0</td>\n",
       "      <td>0.0</td>\n",
       "      <td>9.0</td>\n",
       "      <td>0.0</td>\n",
       "      <td>2823.0</td>\n",
       "      <td>0.0</td>\n",
       "      <td>0</td>\n",
       "      <td>0</td>\n",
       "      <td>0</td>\n",
       "      <td>0</td>\n",
       "      <td>...</td>\n",
       "      <td>0</td>\n",
       "      <td>1</td>\n",
       "      <td>0</td>\n",
       "      <td>0</td>\n",
       "      <td>0</td>\n",
       "      <td>0</td>\n",
       "      <td>1</td>\n",
       "      <td>0</td>\n",
       "      <td>0</td>\n",
       "      <td>0</td>\n",
       "    </tr>\n",
       "    <tr>\n",
       "      <th>8695</th>\n",
       "      <td>31.0</td>\n",
       "      <td>0.0</td>\n",
       "      <td>0.0</td>\n",
       "      <td>0.0</td>\n",
       "      <td>0.0</td>\n",
       "      <td>0.0</td>\n",
       "      <td>0</td>\n",
       "      <td>1</td>\n",
       "      <td>0</td>\n",
       "      <td>0</td>\n",
       "      <td>...</td>\n",
       "      <td>0</td>\n",
       "      <td>0</td>\n",
       "      <td>0</td>\n",
       "      <td>0</td>\n",
       "      <td>0</td>\n",
       "      <td>0</td>\n",
       "      <td>1</td>\n",
       "      <td>1</td>\n",
       "      <td>0</td>\n",
       "      <td>0</td>\n",
       "    </tr>\n",
       "    <tr>\n",
       "      <th>8696</th>\n",
       "      <td>38.0</td>\n",
       "      <td>0.0</td>\n",
       "      <td>6652.0</td>\n",
       "      <td>0.0</td>\n",
       "      <td>181.0</td>\n",
       "      <td>585.0</td>\n",
       "      <td>0</td>\n",
       "      <td>0</td>\n",
       "      <td>0</td>\n",
       "      <td>0</td>\n",
       "      <td>...</td>\n",
       "      <td>0</td>\n",
       "      <td>0</td>\n",
       "      <td>0</td>\n",
       "      <td>0</td>\n",
       "      <td>0</td>\n",
       "      <td>0</td>\n",
       "      <td>1</td>\n",
       "      <td>1</td>\n",
       "      <td>0</td>\n",
       "      <td>0</td>\n",
       "    </tr>\n",
       "    <tr>\n",
       "      <th>8697</th>\n",
       "      <td>20.0</td>\n",
       "      <td>10.0</td>\n",
       "      <td>0.0</td>\n",
       "      <td>635.0</td>\n",
       "      <td>0.0</td>\n",
       "      <td>0.0</td>\n",
       "      <td>0</td>\n",
       "      <td>0</td>\n",
       "      <td>0</td>\n",
       "      <td>0</td>\n",
       "      <td>...</td>\n",
       "      <td>0</td>\n",
       "      <td>1</td>\n",
       "      <td>0</td>\n",
       "      <td>0</td>\n",
       "      <td>0</td>\n",
       "      <td>0</td>\n",
       "      <td>1</td>\n",
       "      <td>0</td>\n",
       "      <td>0</td>\n",
       "      <td>0</td>\n",
       "    </tr>\n",
       "  </tbody>\n",
       "</table>\n",
       "<p>5 rows × 26 columns</p>\n",
       "</div>"
      ],
      "text/plain": [
       "       Age  RoomService  FoodCourt  ShoppingMall     Spa  VRDeck  \\\n",
       "8693  27.0          0.0        0.0           0.0     0.0     0.0   \n",
       "8694  19.0          0.0        9.0           0.0  2823.0     0.0   \n",
       "8695  31.0          0.0        0.0           0.0     0.0     0.0   \n",
       "8696  38.0          0.0     6652.0           0.0   181.0   585.0   \n",
       "8697  20.0         10.0        0.0         635.0     0.0     0.0   \n",
       "\n",
       "      CryoSleep_None  CryoSleep_True  Destination_None  \\\n",
       "8693               0               1                 0   \n",
       "8694               0               0                 0   \n",
       "8695               0               1                 0   \n",
       "8696               0               0                 0   \n",
       "8697               0               0                 0   \n",
       "\n",
       "      Destination_PSO J318.5-22  ...  Deck_E  Deck_F  Deck_G  Deck_None  \\\n",
       "8693                          0  ...       0       0       1          0   \n",
       "8694                          0  ...       0       1       0          0   \n",
       "8695                          0  ...       0       0       0          0   \n",
       "8696                          0  ...       0       0       0          0   \n",
       "8697                          0  ...       0       1       0          0   \n",
       "\n",
       "      Deck_T  Side_P  Side_S  HomePlanet_Europa  HomePlanet_Mars  \\\n",
       "8693       0       0       1                  0                0   \n",
       "8694       0       0       1                  0                0   \n",
       "8695       0       0       1                  1                0   \n",
       "8696       0       0       1                  1                0   \n",
       "8697       0       0       1                  0                0   \n",
       "\n",
       "      HomePlanet_None  \n",
       "8693                0  \n",
       "8694                0  \n",
       "8695                0  \n",
       "8696                0  \n",
       "8697                0  \n",
       "\n",
       "[5 rows x 26 columns]"
      ]
     },
     "execution_count": 14,
     "metadata": {},
     "output_type": "execute_result"
    }
   ],
   "source": [
    "desired_col.head()"
   ]
  },
  {
   "cell_type": "code",
   "execution_count": 15,
   "id": "a4a19bcc",
   "metadata": {
    "ExecuteTime": {
     "end_time": "2024-04-01T06:58:40.759826Z",
     "start_time": "2024-04-01T06:58:40.740602Z"
    }
   },
   "outputs": [],
   "source": [
    "#Training data\n",
    "tr_data = df.copy()\n",
    "tr_data = tr_data.dropna()"
   ]
  },
  {
   "cell_type": "code",
   "execution_count": 16,
   "id": "6a1194d0",
   "metadata": {
    "ExecuteTime": {
     "end_time": "2024-04-01T06:58:41.224563Z",
     "start_time": "2024-04-01T06:58:41.178517Z"
    }
   },
   "outputs": [
    {
     "data": {
      "text/html": [
       "<div>\n",
       "<style scoped>\n",
       "    .dataframe tbody tr th:only-of-type {\n",
       "        vertical-align: middle;\n",
       "    }\n",
       "\n",
       "    .dataframe tbody tr th {\n",
       "        vertical-align: top;\n",
       "    }\n",
       "\n",
       "    .dataframe thead th {\n",
       "        text-align: right;\n",
       "    }\n",
       "</style>\n",
       "<table border=\"1\" class=\"dataframe\">\n",
       "  <thead>\n",
       "    <tr style=\"text-align: right;\">\n",
       "      <th></th>\n",
       "      <th>Age</th>\n",
       "      <th>RoomService</th>\n",
       "      <th>FoodCourt</th>\n",
       "      <th>ShoppingMall</th>\n",
       "      <th>Spa</th>\n",
       "      <th>VRDeck</th>\n",
       "      <th>Transported</th>\n",
       "      <th>CryoSleep_None</th>\n",
       "      <th>CryoSleep_True</th>\n",
       "      <th>Destination_None</th>\n",
       "      <th>...</th>\n",
       "      <th>Deck_E</th>\n",
       "      <th>Deck_F</th>\n",
       "      <th>Deck_G</th>\n",
       "      <th>Deck_None</th>\n",
       "      <th>Deck_T</th>\n",
       "      <th>Side_P</th>\n",
       "      <th>Side_S</th>\n",
       "      <th>HomePlanet_Europa</th>\n",
       "      <th>HomePlanet_Mars</th>\n",
       "      <th>HomePlanet_None</th>\n",
       "    </tr>\n",
       "  </thead>\n",
       "  <tbody>\n",
       "    <tr>\n",
       "      <th>0</th>\n",
       "      <td>39.0</td>\n",
       "      <td>0.0</td>\n",
       "      <td>0.0</td>\n",
       "      <td>0.0</td>\n",
       "      <td>0.0</td>\n",
       "      <td>0.0</td>\n",
       "      <td>0.0</td>\n",
       "      <td>0</td>\n",
       "      <td>0</td>\n",
       "      <td>0</td>\n",
       "      <td>...</td>\n",
       "      <td>0</td>\n",
       "      <td>0</td>\n",
       "      <td>0</td>\n",
       "      <td>0</td>\n",
       "      <td>0</td>\n",
       "      <td>1</td>\n",
       "      <td>0</td>\n",
       "      <td>1</td>\n",
       "      <td>0</td>\n",
       "      <td>0</td>\n",
       "    </tr>\n",
       "    <tr>\n",
       "      <th>1</th>\n",
       "      <td>24.0</td>\n",
       "      <td>109.0</td>\n",
       "      <td>9.0</td>\n",
       "      <td>25.0</td>\n",
       "      <td>549.0</td>\n",
       "      <td>44.0</td>\n",
       "      <td>1.0</td>\n",
       "      <td>0</td>\n",
       "      <td>0</td>\n",
       "      <td>0</td>\n",
       "      <td>...</td>\n",
       "      <td>0</td>\n",
       "      <td>1</td>\n",
       "      <td>0</td>\n",
       "      <td>0</td>\n",
       "      <td>0</td>\n",
       "      <td>0</td>\n",
       "      <td>1</td>\n",
       "      <td>0</td>\n",
       "      <td>0</td>\n",
       "      <td>0</td>\n",
       "    </tr>\n",
       "    <tr>\n",
       "      <th>2</th>\n",
       "      <td>58.0</td>\n",
       "      <td>43.0</td>\n",
       "      <td>3576.0</td>\n",
       "      <td>0.0</td>\n",
       "      <td>6715.0</td>\n",
       "      <td>49.0</td>\n",
       "      <td>0.0</td>\n",
       "      <td>0</td>\n",
       "      <td>0</td>\n",
       "      <td>0</td>\n",
       "      <td>...</td>\n",
       "      <td>0</td>\n",
       "      <td>0</td>\n",
       "      <td>0</td>\n",
       "      <td>0</td>\n",
       "      <td>0</td>\n",
       "      <td>0</td>\n",
       "      <td>1</td>\n",
       "      <td>1</td>\n",
       "      <td>0</td>\n",
       "      <td>0</td>\n",
       "    </tr>\n",
       "    <tr>\n",
       "      <th>3</th>\n",
       "      <td>33.0</td>\n",
       "      <td>0.0</td>\n",
       "      <td>1283.0</td>\n",
       "      <td>371.0</td>\n",
       "      <td>3329.0</td>\n",
       "      <td>193.0</td>\n",
       "      <td>0.0</td>\n",
       "      <td>0</td>\n",
       "      <td>0</td>\n",
       "      <td>0</td>\n",
       "      <td>...</td>\n",
       "      <td>0</td>\n",
       "      <td>0</td>\n",
       "      <td>0</td>\n",
       "      <td>0</td>\n",
       "      <td>0</td>\n",
       "      <td>0</td>\n",
       "      <td>1</td>\n",
       "      <td>1</td>\n",
       "      <td>0</td>\n",
       "      <td>0</td>\n",
       "    </tr>\n",
       "    <tr>\n",
       "      <th>4</th>\n",
       "      <td>16.0</td>\n",
       "      <td>303.0</td>\n",
       "      <td>70.0</td>\n",
       "      <td>151.0</td>\n",
       "      <td>565.0</td>\n",
       "      <td>2.0</td>\n",
       "      <td>1.0</td>\n",
       "      <td>0</td>\n",
       "      <td>0</td>\n",
       "      <td>0</td>\n",
       "      <td>...</td>\n",
       "      <td>0</td>\n",
       "      <td>1</td>\n",
       "      <td>0</td>\n",
       "      <td>0</td>\n",
       "      <td>0</td>\n",
       "      <td>0</td>\n",
       "      <td>1</td>\n",
       "      <td>0</td>\n",
       "      <td>0</td>\n",
       "      <td>0</td>\n",
       "    </tr>\n",
       "  </tbody>\n",
       "</table>\n",
       "<p>5 rows × 27 columns</p>\n",
       "</div>"
      ],
      "text/plain": [
       "    Age  RoomService  FoodCourt  ShoppingMall     Spa  VRDeck  Transported  \\\n",
       "0  39.0          0.0        0.0           0.0     0.0     0.0          0.0   \n",
       "1  24.0        109.0        9.0          25.0   549.0    44.0          1.0   \n",
       "2  58.0         43.0     3576.0           0.0  6715.0    49.0          0.0   \n",
       "3  33.0          0.0     1283.0         371.0  3329.0   193.0          0.0   \n",
       "4  16.0        303.0       70.0         151.0   565.0     2.0          1.0   \n",
       "\n",
       "   CryoSleep_None  CryoSleep_True  Destination_None  ...  Deck_E  Deck_F  \\\n",
       "0               0               0                 0  ...       0       0   \n",
       "1               0               0                 0  ...       0       1   \n",
       "2               0               0                 0  ...       0       0   \n",
       "3               0               0                 0  ...       0       0   \n",
       "4               0               0                 0  ...       0       1   \n",
       "\n",
       "   Deck_G  Deck_None  Deck_T  Side_P  Side_S  HomePlanet_Europa  \\\n",
       "0       0          0       0       1       0                  1   \n",
       "1       0          0       0       0       1                  0   \n",
       "2       0          0       0       0       1                  1   \n",
       "3       0          0       0       0       1                  1   \n",
       "4       0          0       0       0       1                  0   \n",
       "\n",
       "   HomePlanet_Mars  HomePlanet_None  \n",
       "0                0                0  \n",
       "1                0                0  \n",
       "2                0                0  \n",
       "3                0                0  \n",
       "4                0                0  \n",
       "\n",
       "[5 rows x 27 columns]"
      ]
     },
     "execution_count": 16,
     "metadata": {},
     "output_type": "execute_result"
    }
   ],
   "source": [
    "tr_data.head()"
   ]
  },
  {
   "cell_type": "code",
   "execution_count": 17,
   "id": "d57ab011",
   "metadata": {
    "ExecuteTime": {
     "end_time": "2024-04-01T06:58:41.580046Z",
     "start_time": "2024-04-01T06:58:41.562495Z"
    }
   },
   "outputs": [],
   "source": [
    "X = tr_data.drop('Transported', axis = 1)\n",
    "y = tr_data['Transported']"
   ]
  },
  {
   "cell_type": "code",
   "execution_count": 18,
   "id": "867f7df2",
   "metadata": {
    "ExecuteTime": {
     "end_time": "2024-04-01T06:58:42.092026Z",
     "start_time": "2024-04-01T06:58:42.080160Z"
    }
   },
   "outputs": [],
   "source": [
    "y = y.astype('int64')"
   ]
  },
  {
   "cell_type": "markdown",
   "id": "9e9d209c",
   "metadata": {},
   "source": [
    "## AdaBoost classifier"
   ]
  },
  {
   "cell_type": "code",
   "execution_count": 19,
   "id": "5de03d88",
   "metadata": {
    "ExecuteTime": {
     "end_time": "2024-04-01T06:59:37.702899Z",
     "start_time": "2024-04-01T06:59:36.954044Z"
    }
   },
   "outputs": [],
   "source": [
    "from sklearn.model_selection import train_test_split"
   ]
  },
  {
   "cell_type": "code",
   "execution_count": 20,
   "id": "b5eb1a6f",
   "metadata": {
    "ExecuteTime": {
     "end_time": "2024-04-01T06:59:38.262305Z",
     "start_time": "2024-04-01T06:59:38.239500Z"
    }
   },
   "outputs": [],
   "source": [
    "X_train, X_test, y_train, y_test = train_test_split(X, y, test_size=0.2)"
   ]
  },
  {
   "cell_type": "code",
   "execution_count": 21,
   "id": "c875dd98",
   "metadata": {
    "ExecuteTime": {
     "end_time": "2024-04-01T06:59:42.327696Z",
     "start_time": "2024-04-01T06:59:41.945049Z"
    }
   },
   "outputs": [],
   "source": [
    "from sklearn.ensemble import AdaBoostClassifier"
   ]
  },
  {
   "cell_type": "code",
   "execution_count": 22,
   "id": "0be7b18e",
   "metadata": {
    "ExecuteTime": {
     "end_time": "2024-04-01T06:59:58.837377Z",
     "start_time": "2024-04-01T06:59:58.820235Z"
    }
   },
   "outputs": [],
   "source": [
    "model = AdaBoostClassifier()"
   ]
  },
  {
   "cell_type": "code",
   "execution_count": 23,
   "id": "e68e3f93",
   "metadata": {
    "ExecuteTime": {
     "end_time": "2024-04-01T07:00:01.110016Z",
     "start_time": "2024-04-01T07:00:00.638553Z"
    }
   },
   "outputs": [
    {
     "data": {
      "text/plain": [
       "AdaBoostClassifier()"
      ]
     },
     "execution_count": 23,
     "metadata": {},
     "output_type": "execute_result"
    }
   ],
   "source": [
    "model.fit(X_train,y_train)"
   ]
  },
  {
   "cell_type": "code",
   "execution_count": 24,
   "id": "e04cecba",
   "metadata": {
    "ExecuteTime": {
     "end_time": "2024-04-01T07:00:03.954212Z",
     "start_time": "2024-04-01T07:00:03.912712Z"
    }
   },
   "outputs": [],
   "source": [
    "preds = model.predict(X_test)"
   ]
  },
  {
   "cell_type": "code",
   "execution_count": 25,
   "id": "1a02cd5f",
   "metadata": {
    "ExecuteTime": {
     "end_time": "2024-04-01T07:00:04.903121Z",
     "start_time": "2024-04-01T07:00:04.897626Z"
    }
   },
   "outputs": [],
   "source": [
    "## Оценка работы модели\n",
    "\n",
    "from sklearn.metrics import confusion_matrix,classification_report,plot_confusion_matrix,accuracy_score"
   ]
  },
  {
   "cell_type": "code",
   "execution_count": 26,
   "id": "d1ef09ea",
   "metadata": {
    "ExecuteTime": {
     "end_time": "2024-04-01T07:00:05.447302Z",
     "start_time": "2024-04-01T07:00:05.435731Z"
    }
   },
   "outputs": [
    {
     "data": {
      "text/plain": [
       "array([[648, 218],\n",
       "       [145, 728]], dtype=int64)"
      ]
     },
     "execution_count": 26,
     "metadata": {},
     "output_type": "execute_result"
    }
   ],
   "source": [
    "confusion_matrix(y_test,preds)"
   ]
  },
  {
   "cell_type": "code",
   "execution_count": 27,
   "id": "977b6197",
   "metadata": {
    "ExecuteTime": {
     "end_time": "2024-04-01T07:00:06.209776Z",
     "start_time": "2024-04-01T07:00:05.875034Z"
    }
   },
   "outputs": [
    {
     "name": "stderr",
     "output_type": "stream",
     "text": [
      "C:\\Users\\79852\\anaconda3\\lib\\site-packages\\sklearn\\utils\\deprecation.py:87: FutureWarning: Function plot_confusion_matrix is deprecated; Function `plot_confusion_matrix` is deprecated in 1.0 and will be removed in 1.2. Use one of the class methods: ConfusionMatrixDisplay.from_predictions or ConfusionMatrixDisplay.from_estimator.\n",
      "  warnings.warn(msg, category=FutureWarning)\n"
     ]
    },
    {
     "data": {
      "text/plain": [
       "<sklearn.metrics._plot.confusion_matrix.ConfusionMatrixDisplay at 0x18158d89f40>"
      ]
     },
     "execution_count": 27,
     "metadata": {},
     "output_type": "execute_result"
    },
    {
     "data": {
      "image/png": "[encoded data removed]",
      "text/plain": [
       "<Figure size 432x288 with 2 Axes>"
      ]
     },
     "metadata": {
      "needs_background": "light"
     },
     "output_type": "display_data"
    }
   ],
   "source": [
    "plot_confusion_matrix(model,X_test,y_test)"
   ]
  },
  {
   "cell_type": "code",
   "execution_count": 28,
   "id": "8c5cfeed",
   "metadata": {
    "ExecuteTime": {
     "end_time": "2024-04-01T07:00:06.642615Z",
     "start_time": "2024-04-01T07:00:06.624456Z"
    }
   },
   "outputs": [
    {
     "name": "stdout",
     "output_type": "stream",
     "text": [
      "              precision    recall  f1-score   support\n",
      "\n",
      "           0       0.82      0.75      0.78       866\n",
      "           1       0.77      0.83      0.80       873\n",
      "\n",
      "    accuracy                           0.79      1739\n",
      "   macro avg       0.79      0.79      0.79      1739\n",
      "weighted avg       0.79      0.79      0.79      1739\n",
      "\n"
     ]
    }
   ],
   "source": [
    "print(classification_report(y_test,preds))"
   ]
  },
  {
   "cell_type": "code",
   "execution_count": 29,
   "id": "a2c16b69",
   "metadata": {
    "ExecuteTime": {
     "end_time": "2024-04-01T07:00:10.238675Z",
     "start_time": "2024-04-01T07:00:10.225158Z"
    }
   },
   "outputs": [
    {
     "data": {
      "text/plain": [
       "array([0.1 , 0.08, 0.1 , 0.1 , 0.14, 0.18, 0.  , 0.08, 0.  , 0.02, 0.04,\n",
       "       0.  , 0.  , 0.02, 0.04, 0.  , 0.02, 0.  , 0.02, 0.  , 0.  , 0.  ,\n",
       "       0.02, 0.02, 0.02, 0.  ])"
      ]
     },
     "execution_count": 29,
     "metadata": {},
     "output_type": "execute_result"
    }
   ],
   "source": [
    "model.feature_importances_"
   ]
  },
  {
   "cell_type": "code",
   "execution_count": 30,
   "id": "d002c7b8",
   "metadata": {
    "ExecuteTime": {
     "end_time": "2024-04-01T07:00:12.837908Z",
     "start_time": "2024-04-01T07:00:12.809943Z"
    }
   },
   "outputs": [
    {
     "data": {
      "text/html": [
       "<div>\n",
       "<style scoped>\n",
       "    .dataframe tbody tr th:only-of-type {\n",
       "        vertical-align: middle;\n",
       "    }\n",
       "\n",
       "    .dataframe tbody tr th {\n",
       "        vertical-align: top;\n",
       "    }\n",
       "\n",
       "    .dataframe thead th {\n",
       "        text-align: right;\n",
       "    }\n",
       "</style>\n",
       "<table border=\"1\" class=\"dataframe\">\n",
       "  <thead>\n",
       "    <tr style=\"text-align: right;\">\n",
       "      <th></th>\n",
       "      <th>Feature Importance</th>\n",
       "    </tr>\n",
       "  </thead>\n",
       "  <tbody>\n",
       "    <tr>\n",
       "      <th>VRDeck</th>\n",
       "      <td>0.18</td>\n",
       "    </tr>\n",
       "    <tr>\n",
       "      <th>Spa</th>\n",
       "      <td>0.14</td>\n",
       "    </tr>\n",
       "    <tr>\n",
       "      <th>Age</th>\n",
       "      <td>0.10</td>\n",
       "    </tr>\n",
       "    <tr>\n",
       "      <th>FoodCourt</th>\n",
       "      <td>0.10</td>\n",
       "    </tr>\n",
       "    <tr>\n",
       "      <th>ShoppingMall</th>\n",
       "      <td>0.10</td>\n",
       "    </tr>\n",
       "    <tr>\n",
       "      <th>CryoSleep_True</th>\n",
       "      <td>0.08</td>\n",
       "    </tr>\n",
       "    <tr>\n",
       "      <th>RoomService</th>\n",
       "      <td>0.08</td>\n",
       "    </tr>\n",
       "    <tr>\n",
       "      <th>Deck_C</th>\n",
       "      <td>0.04</td>\n",
       "    </tr>\n",
       "    <tr>\n",
       "      <th>Destination_TRAPPIST-1e</th>\n",
       "      <td>0.04</td>\n",
       "    </tr>\n",
       "    <tr>\n",
       "      <th>HomePlanet_Mars</th>\n",
       "      <td>0.02</td>\n",
       "    </tr>\n",
       "    <tr>\n",
       "      <th>HomePlanet_Europa</th>\n",
       "      <td>0.02</td>\n",
       "    </tr>\n",
       "    <tr>\n",
       "      <th>Side_S</th>\n",
       "      <td>0.02</td>\n",
       "    </tr>\n",
       "    <tr>\n",
       "      <th>Deck_G</th>\n",
       "      <td>0.02</td>\n",
       "    </tr>\n",
       "    <tr>\n",
       "      <th>Deck_E</th>\n",
       "      <td>0.02</td>\n",
       "    </tr>\n",
       "    <tr>\n",
       "      <th>Deck_B</th>\n",
       "      <td>0.02</td>\n",
       "    </tr>\n",
       "    <tr>\n",
       "      <th>Destination_PSO J318.5-22</th>\n",
       "      <td>0.02</td>\n",
       "    </tr>\n",
       "    <tr>\n",
       "      <th>Deck_D</th>\n",
       "      <td>0.00</td>\n",
       "    </tr>\n",
       "    <tr>\n",
       "      <th>VIP_True</th>\n",
       "      <td>0.00</td>\n",
       "    </tr>\n",
       "    <tr>\n",
       "      <th>Deck_F</th>\n",
       "      <td>0.00</td>\n",
       "    </tr>\n",
       "    <tr>\n",
       "      <th>VIP_None</th>\n",
       "      <td>0.00</td>\n",
       "    </tr>\n",
       "    <tr>\n",
       "      <th>Deck_None</th>\n",
       "      <td>0.00</td>\n",
       "    </tr>\n",
       "    <tr>\n",
       "      <th>Deck_T</th>\n",
       "      <td>0.00</td>\n",
       "    </tr>\n",
       "    <tr>\n",
       "      <th>Side_P</th>\n",
       "      <td>0.00</td>\n",
       "    </tr>\n",
       "    <tr>\n",
       "      <th>Destination_None</th>\n",
       "      <td>0.00</td>\n",
       "    </tr>\n",
       "    <tr>\n",
       "      <th>CryoSleep_None</th>\n",
       "      <td>0.00</td>\n",
       "    </tr>\n",
       "    <tr>\n",
       "      <th>HomePlanet_None</th>\n",
       "      <td>0.00</td>\n",
       "    </tr>\n",
       "  </tbody>\n",
       "</table>\n",
       "</div>"
      ],
      "text/plain": [
       "                           Feature Importance\n",
       "VRDeck                                   0.18\n",
       "Spa                                      0.14\n",
       "Age                                      0.10\n",
       "FoodCourt                                0.10\n",
       "ShoppingMall                             0.10\n",
       "CryoSleep_True                           0.08\n",
       "RoomService                              0.08\n",
       "Deck_C                                   0.04\n",
       "Destination_TRAPPIST-1e                  0.04\n",
       "HomePlanet_Mars                          0.02\n",
       "HomePlanet_Europa                        0.02\n",
       "Side_S                                   0.02\n",
       "Deck_G                                   0.02\n",
       "Deck_E                                   0.02\n",
       "Deck_B                                   0.02\n",
       "Destination_PSO J318.5-22                0.02\n",
       "Deck_D                                   0.00\n",
       "VIP_True                                 0.00\n",
       "Deck_F                                   0.00\n",
       "VIP_None                                 0.00\n",
       "Deck_None                                0.00\n",
       "Deck_T                                   0.00\n",
       "Side_P                                   0.00\n",
       "Destination_None                         0.00\n",
       "CryoSleep_None                           0.00\n",
       "HomePlanet_None                          0.00"
      ]
     },
     "execution_count": 30,
     "metadata": {},
     "output_type": "execute_result"
    }
   ],
   "source": [
    "pd.DataFrame(index=X.columns,data=model.feature_importances_,columns=['Feature Importance'])\\\n",
    ".sort_values('Feature Importance', ascending=False)"
   ]
  },
  {
   "cell_type": "code",
   "execution_count": 34,
   "id": "fce6d458",
   "metadata": {
    "ExecuteTime": {
     "end_time": "2024-04-01T07:01:59.231135Z",
     "start_time": "2024-04-01T07:01:18.005286Z"
    }
   },
   "outputs": [],
   "source": [
    "error_rates = []\n",
    "\n",
    "for n in range(1,96):\n",
    "    \n",
    "    model = AdaBoostClassifier(n_estimators=n)\n",
    "    model.fit(X_train,y_train)\n",
    "    preds = model.predict(X_test)\n",
    "    err = 1 - accuracy_score(y_test,preds)\n",
    "    \n",
    "    error_rates.append(err)"
   ]
  },
  {
   "cell_type": "code",
   "execution_count": 35,
   "id": "1020ce6c",
   "metadata": {
    "ExecuteTime": {
     "end_time": "2024-04-01T07:02:01.651741Z",
     "start_time": "2024-04-01T07:02:01.518508Z"
    }
   },
   "outputs": [
    {
     "data": {
      "text/plain": [
       "[<matplotlib.lines.Line2D at 0x1815e36b670>]"
      ]
     },
     "execution_count": 35,
     "metadata": {},
     "output_type": "execute_result"
    },
    {
     "data": {
      "image/png": "[encoded data removed]",
      "text/plain": [
       "<Figure size 432x288 with 1 Axes>"
      ]
     },
     "metadata": {
      "needs_background": "light"
     },
     "output_type": "display_data"
    }
   ],
   "source": [
    "plt.plot(range(1,96),error_rates)"
   ]
  },
  {
   "cell_type": "code",
   "execution_count": 37,
   "id": "0bf09b73",
   "metadata": {
    "ExecuteTime": {
     "end_time": "2024-04-01T07:02:40.596748Z",
     "start_time": "2024-04-01T07:02:40.578500Z"
    }
   },
   "outputs": [],
   "source": [
    "feats = pd.DataFrame(index=X.columns,data=model.feature_importances_,columns=['Importance'])"
   ]
  },
  {
   "cell_type": "code",
   "execution_count": 38,
   "id": "1bf12fee",
   "metadata": {
    "ExecuteTime": {
     "end_time": "2024-04-01T07:02:51.018719Z",
     "start_time": "2024-04-01T07:02:51.002103Z"
    }
   },
   "outputs": [],
   "source": [
    "imp_feats = feats[feats['Importance']>0]"
   ]
  },
  {
   "cell_type": "code",
   "execution_count": 39,
   "id": "b8af57dd",
   "metadata": {
    "ExecuteTime": {
     "end_time": "2024-04-01T07:03:02.466624Z",
     "start_time": "2024-04-01T07:03:02.449510Z"
    }
   },
   "outputs": [],
   "source": [
    "imp_feats = imp_feats.sort_values(\"Importance\")"
   ]
  },
  {
   "cell_type": "code",
   "execution_count": 40,
   "id": "1e002e3e",
   "metadata": {
    "ExecuteTime": {
     "end_time": "2024-04-01T07:03:12.244485Z",
     "start_time": "2024-04-01T07:03:11.646058Z"
    }
   },
   "outputs": [
    {
     "data": {
      "image/png": "[encoded data removed]",
      "text/plain": [
       "<Figure size 2800x1200 with 1 Axes>"
      ]
     },
     "metadata": {
      "needs_background": "light"
     },
     "output_type": "display_data"
    }
   ],
   "source": [
    "plt.figure(figsize=(14,6),dpi=200)\n",
    "sns.barplot(data=imp_feats.sort_values('Importance'),x=imp_feats.sort_values('Importance').index,y='Importance')\n",
    "\n",
    "plt.xticks(rotation=90);"
   ]
  },
  {
   "cell_type": "code",
   "execution_count": 41,
   "id": "b235a517",
   "metadata": {
    "ExecuteTime": {
     "end_time": "2024-04-01T07:08:41.725397Z",
     "start_time": "2024-04-01T07:08:41.707217Z"
    }
   },
   "outputs": [],
   "source": [
    "from sklearn.model_selection import GridSearchCV"
   ]
  },
  {
   "cell_type": "code",
   "execution_count": 68,
   "id": "a8ae3642",
   "metadata": {
    "ExecuteTime": {
     "end_time": "2024-04-01T07:17:36.288919Z",
     "start_time": "2024-04-01T07:17:36.275982Z"
    }
   },
   "outputs": [],
   "source": [
    "param_grid = {'n_estimators': [74, 75, 76],\n",
    "             'learning_rate': [.99, 1, 1.01]}"
   ]
  },
  {
   "cell_type": "code",
   "execution_count": 69,
   "id": "6996aeee",
   "metadata": {
    "ExecuteTime": {
     "end_time": "2024-04-01T07:17:37.035475Z",
     "start_time": "2024-04-01T07:17:37.020914Z"
    }
   },
   "outputs": [],
   "source": [
    "model = AdaBoostClassifier()"
   ]
  },
  {
   "cell_type": "code",
   "execution_count": 70,
   "id": "feb1e810",
   "metadata": {
    "ExecuteTime": {
     "end_time": "2024-04-01T07:17:38.220235Z",
     "start_time": "2024-04-01T07:17:38.202179Z"
    }
   },
   "outputs": [],
   "source": [
    "grid = GridSearchCV(model,param_grid)"
   ]
  },
  {
   "cell_type": "code",
   "execution_count": 71,
   "id": "9d1bcf19",
   "metadata": {
    "ExecuteTime": {
     "end_time": "2024-04-01T07:18:01.997464Z",
     "start_time": "2024-04-01T07:17:39.287132Z"
    }
   },
   "outputs": [
    {
     "data": {
      "text/plain": [
       "GridSearchCV(estimator=AdaBoostClassifier(),\n",
       "             param_grid={'learning_rate': [0.99, 1, 1.01],\n",
       "                         'n_estimators': [74, 75, 76]})"
      ]
     },
     "execution_count": 71,
     "metadata": {},
     "output_type": "execute_result"
    }
   ],
   "source": [
    "grid.fit(X_train,y_train)"
   ]
  },
  {
   "cell_type": "code",
   "execution_count": 72,
   "id": "1def079f",
   "metadata": {
    "ExecuteTime": {
     "end_time": "2024-04-01T07:18:03.848723Z",
     "start_time": "2024-04-01T07:18:03.832126Z"
    }
   },
   "outputs": [
    {
     "data": {
      "text/plain": [
       "{'learning_rate': 1, 'n_estimators': 75}"
      ]
     },
     "execution_count": 72,
     "metadata": {},
     "output_type": "execute_result"
    }
   ],
   "source": [
    "grid.best_params_"
   ]
  },
  {
   "cell_type": "code",
   "execution_count": 73,
   "id": "a96717b0",
   "metadata": {
    "ExecuteTime": {
     "end_time": "2024-04-01T07:18:05.174169Z",
     "start_time": "2024-04-01T07:18:05.160573Z"
    }
   },
   "outputs": [],
   "source": [
    "from sklearn.metrics import accuracy_score,confusion_matrix,classification_report,plot_confusion_matrix"
   ]
  },
  {
   "cell_type": "code",
   "execution_count": 74,
   "id": "e9d3dc98",
   "metadata": {
    "ExecuteTime": {
     "end_time": "2024-04-01T07:18:05.623983Z",
     "start_time": "2024-04-01T07:18:05.558790Z"
    }
   },
   "outputs": [],
   "source": [
    "y_pred = grid.predict(X_test)"
   ]
  },
  {
   "cell_type": "code",
   "execution_count": 75,
   "id": "db99c4f2",
   "metadata": {
    "ExecuteTime": {
     "end_time": "2024-04-01T07:18:06.215561Z",
     "start_time": "2024-04-01T07:18:05.936761Z"
    }
   },
   "outputs": [
    {
     "name": "stderr",
     "output_type": "stream",
     "text": [
      "C:\\Users\\79852\\anaconda3\\lib\\site-packages\\sklearn\\utils\\deprecation.py:87: FutureWarning: Function plot_confusion_matrix is deprecated; Function `plot_confusion_matrix` is deprecated in 1.0 and will be removed in 1.2. Use one of the class methods: ConfusionMatrixDisplay.from_predictions or ConfusionMatrixDisplay.from_estimator.\n",
      "  warnings.warn(msg, category=FutureWarning)\n"
     ]
    },
    {
     "data": {
      "image/png": "[encoded data removed]",
      "text/plain": [
       "<Figure size 432x288 with 2 Axes>"
      ]
     },
     "metadata": {
      "needs_background": "light"
     },
     "output_type": "display_data"
    }
   ],
   "source": [
    "plot_confusion_matrix(grid,X_test,y_test);"
   ]
  },
  {
   "cell_type": "code",
   "execution_count": 76,
   "id": "c9101dae",
   "metadata": {
    "ExecuteTime": {
     "end_time": "2024-04-01T07:18:06.829575Z",
     "start_time": "2024-04-01T07:18:06.809415Z"
    }
   },
   "outputs": [
    {
     "name": "stdout",
     "output_type": "stream",
     "text": [
      "              precision    recall  f1-score   support\n",
      "\n",
      "           0       0.81      0.75      0.78       866\n",
      "           1       0.77      0.83      0.80       873\n",
      "\n",
      "    accuracy                           0.79      1739\n",
      "   macro avg       0.79      0.79      0.79      1739\n",
      "weighted avg       0.79      0.79      0.79      1739\n",
      "\n"
     ]
    }
   ],
   "source": [
    "print(classification_report(y_test,y_pred))"
   ]
  },
  {
   "cell_type": "code",
   "execution_count": null,
   "id": "4bc5c850",
   "metadata": {},
   "outputs": [],
   "source": []
  },
  {
   "cell_type": "code",
   "execution_count": null,
   "id": "0c74dbb5",
   "metadata": {},
   "outputs": [],
   "source": []
  },
  {
   "cell_type": "code",
   "execution_count": 77,
   "id": "db03aa9d",
   "metadata": {
    "ExecuteTime": {
     "end_time": "2024-04-01T07:19:11.838508Z",
     "start_time": "2024-04-01T07:19:11.818965Z"
    }
   },
   "outputs": [],
   "source": [
    "final_model = AdaBoostClassifier(n_estimators=75)"
   ]
  },
  {
   "cell_type": "code",
   "execution_count": 78,
   "id": "8e044965",
   "metadata": {
    "ExecuteTime": {
     "end_time": "2024-04-01T07:19:13.740518Z",
     "start_time": "2024-04-01T07:19:12.926984Z"
    }
   },
   "outputs": [
    {
     "data": {
      "text/plain": [
       "AdaBoostClassifier(n_estimators=75)"
      ]
     },
     "execution_count": 78,
     "metadata": {},
     "output_type": "execute_result"
    }
   ],
   "source": [
    "final_model.fit(X, y)"
   ]
  },
  {
   "cell_type": "code",
   "execution_count": 79,
   "id": "de928d33",
   "metadata": {
    "ExecuteTime": {
     "end_time": "2024-04-01T07:19:16.295303Z",
     "start_time": "2024-04-01T07:19:16.093254Z"
    }
   },
   "outputs": [],
   "source": [
    "final_pred = final_model.predict(X)"
   ]
  },
  {
   "cell_type": "code",
   "execution_count": 80,
   "id": "54e2b81c",
   "metadata": {
    "ExecuteTime": {
     "end_time": "2024-04-01T07:19:17.231702Z",
     "start_time": "2024-04-01T07:19:17.184546Z"
    }
   },
   "outputs": [
    {
     "name": "stdout",
     "output_type": "stream",
     "text": [
      "              precision    recall  f1-score   support\n",
      "\n",
      "           0       0.82      0.76      0.79      4315\n",
      "           1       0.78      0.84      0.81      4378\n",
      "\n",
      "    accuracy                           0.80      8693\n",
      "   macro avg       0.80      0.80      0.80      8693\n",
      "weighted avg       0.80      0.80      0.80      8693\n",
      "\n"
     ]
    }
   ],
   "source": [
    "print(classification_report(y,final_pred))"
   ]
  },
  {
   "cell_type": "code",
   "execution_count": 81,
   "id": "2b690f5d",
   "metadata": {
    "ExecuteTime": {
     "end_time": "2024-04-01T07:19:22.222275Z",
     "start_time": "2024-04-01T07:19:22.140153Z"
    }
   },
   "outputs": [],
   "source": [
    "result = final_model.predict(desired_col)"
   ]
  },
  {
   "cell_type": "code",
   "execution_count": 82,
   "id": "96f09dc1",
   "metadata": {
    "ExecuteTime": {
     "end_time": "2024-04-01T07:19:26.008423Z",
     "start_time": "2024-04-01T07:19:25.967381Z"
    }
   },
   "outputs": [],
   "source": [
    "test = pd.read_csv('test.csv')"
   ]
  },
  {
   "cell_type": "code",
   "execution_count": 83,
   "id": "2abff855",
   "metadata": {
    "ExecuteTime": {
     "end_time": "2024-04-01T07:19:27.052292Z",
     "start_time": "2024-04-01T07:19:27.027082Z"
    }
   },
   "outputs": [
    {
     "name": "stdout",
     "output_type": "stream",
     "text": [
      "(4277, 2)\n"
     ]
    }
   ],
   "source": [
    "submission = pd.DataFrame({'PassengerId':test['PassengerId'],'Transported':result})\n",
    "submission['Transported'] = submission['Transported'].astype(int)\n",
    "print(submission.shape)"
   ]
  },
  {
   "cell_type": "code",
   "execution_count": 84,
   "id": "47181064",
   "metadata": {
    "ExecuteTime": {
     "end_time": "2024-04-01T07:19:28.134296Z",
     "start_time": "2024-04-01T07:19:28.111044Z"
    }
   },
   "outputs": [
    {
     "data": {
      "text/plain": [
       "1    2317\n",
       "0    1960\n",
       "Name: Transported, dtype: int64"
      ]
     },
     "execution_count": 84,
     "metadata": {},
     "output_type": "execute_result"
    }
   ],
   "source": [
    "submission['Transported'].value_counts()"
   ]
  },
  {
   "cell_type": "code",
   "execution_count": 85,
   "id": "f0b1a86f",
   "metadata": {
    "ExecuteTime": {
     "end_time": "2024-04-01T07:19:29.690542Z",
     "start_time": "2024-04-01T07:19:29.679006Z"
    }
   },
   "outputs": [],
   "source": [
    "submission['Transported'] = submission['Transported'].astype('bool')"
   ]
  },
  {
   "cell_type": "code",
   "execution_count": 86,
   "id": "1f16f891",
   "metadata": {
    "ExecuteTime": {
     "end_time": "2024-04-01T07:19:39.292342Z",
     "start_time": "2024-04-01T07:19:39.265202Z"
    }
   },
   "outputs": [
    {
     "name": "stdout",
     "output_type": "stream",
     "text": [
      "Saved file: space_preds.csv\n"
     ]
    }
   ],
   "source": [
    "filename = 'space_preds.csv'\n",
    "submission.to_csv(filename,index=False)\n",
    "print('Saved file: ' + filename)"
   ]
  },
  {
   "cell_type": "code",
   "execution_count": null,
   "id": "1c54cb47",
   "metadata": {},
   "outputs": [],
   "source": []
  }
 ],
 "metadata": {
  "kernelspec": {
   "display_name": "Python 3 (ipykernel)",
   "language": "python",
   "name": "python3"
  },
  "language_info": {
   "codemirror_mode": {
    "name": "ipython",
    "version": 3
   },
   "file_extension": ".py",
   "mimetype": "text/x-python",
   "name": "python",
   "nbconvert_exporter": "python",
   "pygments_lexer": "ipython3",
   "version": "3.9.12"
  }
 },
 "nbformat": 4,
 "nbformat_minor": 5
}
